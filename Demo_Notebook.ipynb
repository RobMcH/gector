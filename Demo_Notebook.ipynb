{
  "nbformat": 4,
  "nbformat_minor": 0,
  "metadata": {
    "colab": {
      "name": "Demo_Notebook.ipynb",
      "provenance": [],
      "collapsed_sections": [
        "jn3GuO4J0D5j"
      ],
      "toc_visible": true,
      "authorship_tag": "ABX9TyP3EM/1WZP8TlfhKPoH/33k",
      "include_colab_link": true
    },
    "kernelspec": {
      "name": "python3",
      "display_name": "Python 3"
    },
    "language_info": {
      "name": "python"
    },
    "widgets": {
      "application/vnd.jupyter.widget-state+json": {
        "735190a1d2664f129db2a873de1ebfa1": {
          "model_module": "@jupyter-widgets/controls",
          "model_name": "HBoxModel",
          "state": {
            "_view_name": "HBoxView",
            "_dom_classes": [],
            "_model_name": "HBoxModel",
            "_view_module": "@jupyter-widgets/controls",
            "_model_module_version": "1.5.0",
            "_view_count": null,
            "_view_module_version": "1.5.0",
            "box_style": "",
            "layout": "IPY_MODEL_16f14b7376d84012996e788012674af0",
            "_model_module": "@jupyter-widgets/controls",
            "children": [
              "IPY_MODEL_e308b354c7df41c3a6803087c452d55f",
              "IPY_MODEL_79f8ad87a7c24963a9e95cf4638c20cf"
            ]
          }
        },
        "16f14b7376d84012996e788012674af0": {
          "model_module": "@jupyter-widgets/base",
          "model_name": "LayoutModel",
          "state": {
            "_view_name": "LayoutView",
            "grid_template_rows": null,
            "right": null,
            "justify_content": null,
            "_view_module": "@jupyter-widgets/base",
            "overflow": null,
            "_model_module_version": "1.2.0",
            "_view_count": null,
            "flex_flow": null,
            "width": null,
            "min_width": null,
            "border": null,
            "align_items": null,
            "bottom": null,
            "_model_module": "@jupyter-widgets/base",
            "top": null,
            "grid_column": null,
            "overflow_y": null,
            "overflow_x": null,
            "grid_auto_flow": null,
            "grid_area": null,
            "grid_template_columns": null,
            "flex": null,
            "_model_name": "LayoutModel",
            "justify_items": null,
            "grid_row": null,
            "max_height": null,
            "align_content": null,
            "visibility": null,
            "align_self": null,
            "height": null,
            "min_height": null,
            "padding": null,
            "grid_auto_rows": null,
            "grid_gap": null,
            "max_width": null,
            "order": null,
            "_view_module_version": "1.2.0",
            "grid_template_areas": null,
            "object_position": null,
            "object_fit": null,
            "grid_auto_columns": null,
            "margin": null,
            "display": null,
            "left": null
          }
        },
        "e308b354c7df41c3a6803087c452d55f": {
          "model_module": "@jupyter-widgets/controls",
          "model_name": "FloatProgressModel",
          "state": {
            "_view_name": "ProgressView",
            "style": "IPY_MODEL_8e4fef6b5c44411984b71831d6393d02",
            "_dom_classes": [],
            "description": "Downloading: 100%",
            "_model_name": "FloatProgressModel",
            "bar_style": "success",
            "max": 213450,
            "_view_module": "@jupyter-widgets/controls",
            "_model_module_version": "1.5.0",
            "value": 213450,
            "_view_count": null,
            "_view_module_version": "1.5.0",
            "orientation": "horizontal",
            "min": 0,
            "description_tooltip": null,
            "_model_module": "@jupyter-widgets/controls",
            "layout": "IPY_MODEL_cafaef8a900647e6ade5d8c1cf510890"
          }
        },
        "79f8ad87a7c24963a9e95cf4638c20cf": {
          "model_module": "@jupyter-widgets/controls",
          "model_name": "HTMLModel",
          "state": {
            "_view_name": "HTMLView",
            "style": "IPY_MODEL_2348a814681147f5a84adccd06a30103",
            "_dom_classes": [],
            "description": "",
            "_model_name": "HTMLModel",
            "placeholder": "​",
            "_view_module": "@jupyter-widgets/controls",
            "_model_module_version": "1.5.0",
            "value": " 213k/213k [00:00&lt;00:00, 560kB/s]",
            "_view_count": null,
            "_view_module_version": "1.5.0",
            "description_tooltip": null,
            "_model_module": "@jupyter-widgets/controls",
            "layout": "IPY_MODEL_e5e9e06f3e6f49afa029489c5c45a726"
          }
        },
        "8e4fef6b5c44411984b71831d6393d02": {
          "model_module": "@jupyter-widgets/controls",
          "model_name": "ProgressStyleModel",
          "state": {
            "_view_name": "StyleView",
            "_model_name": "ProgressStyleModel",
            "description_width": "initial",
            "_view_module": "@jupyter-widgets/base",
            "_model_module_version": "1.5.0",
            "_view_count": null,
            "_view_module_version": "1.2.0",
            "bar_color": null,
            "_model_module": "@jupyter-widgets/controls"
          }
        },
        "cafaef8a900647e6ade5d8c1cf510890": {
          "model_module": "@jupyter-widgets/base",
          "model_name": "LayoutModel",
          "state": {
            "_view_name": "LayoutView",
            "grid_template_rows": null,
            "right": null,
            "justify_content": null,
            "_view_module": "@jupyter-widgets/base",
            "overflow": null,
            "_model_module_version": "1.2.0",
            "_view_count": null,
            "flex_flow": null,
            "width": null,
            "min_width": null,
            "border": null,
            "align_items": null,
            "bottom": null,
            "_model_module": "@jupyter-widgets/base",
            "top": null,
            "grid_column": null,
            "overflow_y": null,
            "overflow_x": null,
            "grid_auto_flow": null,
            "grid_area": null,
            "grid_template_columns": null,
            "flex": null,
            "_model_name": "LayoutModel",
            "justify_items": null,
            "grid_row": null,
            "max_height": null,
            "align_content": null,
            "visibility": null,
            "align_self": null,
            "height": null,
            "min_height": null,
            "padding": null,
            "grid_auto_rows": null,
            "grid_gap": null,
            "max_width": null,
            "order": null,
            "_view_module_version": "1.2.0",
            "grid_template_areas": null,
            "object_position": null,
            "object_fit": null,
            "grid_auto_columns": null,
            "margin": null,
            "display": null,
            "left": null
          }
        },
        "2348a814681147f5a84adccd06a30103": {
          "model_module": "@jupyter-widgets/controls",
          "model_name": "DescriptionStyleModel",
          "state": {
            "_view_name": "StyleView",
            "_model_name": "DescriptionStyleModel",
            "description_width": "",
            "_view_module": "@jupyter-widgets/base",
            "_model_module_version": "1.5.0",
            "_view_count": null,
            "_view_module_version": "1.2.0",
            "_model_module": "@jupyter-widgets/controls"
          }
        },
        "e5e9e06f3e6f49afa029489c5c45a726": {
          "model_module": "@jupyter-widgets/base",
          "model_name": "LayoutModel",
          "state": {
            "_view_name": "LayoutView",
            "grid_template_rows": null,
            "right": null,
            "justify_content": null,
            "_view_module": "@jupyter-widgets/base",
            "overflow": null,
            "_model_module_version": "1.2.0",
            "_view_count": null,
            "flex_flow": null,
            "width": null,
            "min_width": null,
            "border": null,
            "align_items": null,
            "bottom": null,
            "_model_module": "@jupyter-widgets/base",
            "top": null,
            "grid_column": null,
            "overflow_y": null,
            "overflow_x": null,
            "grid_auto_flow": null,
            "grid_area": null,
            "grid_template_columns": null,
            "flex": null,
            "_model_name": "LayoutModel",
            "justify_items": null,
            "grid_row": null,
            "max_height": null,
            "align_content": null,
            "visibility": null,
            "align_self": null,
            "height": null,
            "min_height": null,
            "padding": null,
            "grid_auto_rows": null,
            "grid_gap": null,
            "max_width": null,
            "order": null,
            "_view_module_version": "1.2.0",
            "grid_template_areas": null,
            "object_position": null,
            "object_fit": null,
            "grid_auto_columns": null,
            "margin": null,
            "display": null,
            "left": null
          }
        },
        "bf3cd6817a354d13b1de1cdc58d7b260": {
          "model_module": "@jupyter-widgets/controls",
          "model_name": "HBoxModel",
          "state": {
            "_view_name": "HBoxView",
            "_dom_classes": [],
            "_model_name": "HBoxModel",
            "_view_module": "@jupyter-widgets/controls",
            "_model_module_version": "1.5.0",
            "_view_count": null,
            "_view_module_version": "1.5.0",
            "box_style": "",
            "layout": "IPY_MODEL_cca4e327d23840f99401e02a0d6ed939",
            "_model_module": "@jupyter-widgets/controls",
            "children": [
              "IPY_MODEL_52dd1647fa674f2792bf5adba7eb1b8a",
              "IPY_MODEL_2f29d6d4881b4c5388400435d62decd7"
            ]
          }
        },
        "cca4e327d23840f99401e02a0d6ed939": {
          "model_module": "@jupyter-widgets/base",
          "model_name": "LayoutModel",
          "state": {
            "_view_name": "LayoutView",
            "grid_template_rows": null,
            "right": null,
            "justify_content": null,
            "_view_module": "@jupyter-widgets/base",
            "overflow": null,
            "_model_module_version": "1.2.0",
            "_view_count": null,
            "flex_flow": null,
            "width": null,
            "min_width": null,
            "border": null,
            "align_items": null,
            "bottom": null,
            "_model_module": "@jupyter-widgets/base",
            "top": null,
            "grid_column": null,
            "overflow_y": null,
            "overflow_x": null,
            "grid_auto_flow": null,
            "grid_area": null,
            "grid_template_columns": null,
            "flex": null,
            "_model_name": "LayoutModel",
            "justify_items": null,
            "grid_row": null,
            "max_height": null,
            "align_content": null,
            "visibility": null,
            "align_self": null,
            "height": null,
            "min_height": null,
            "padding": null,
            "grid_auto_rows": null,
            "grid_gap": null,
            "max_width": null,
            "order": null,
            "_view_module_version": "1.2.0",
            "grid_template_areas": null,
            "object_position": null,
            "object_fit": null,
            "grid_auto_columns": null,
            "margin": null,
            "display": null,
            "left": null
          }
        },
        "52dd1647fa674f2792bf5adba7eb1b8a": {
          "model_module": "@jupyter-widgets/controls",
          "model_name": "FloatProgressModel",
          "state": {
            "_view_name": "ProgressView",
            "style": "IPY_MODEL_d6b418dde5c646bbb910ce7857af4fea",
            "_dom_classes": [],
            "description": "Downloading: 100%",
            "_model_name": "FloatProgressModel",
            "bar_style": "success",
            "max": 433,
            "_view_module": "@jupyter-widgets/controls",
            "_model_module_version": "1.5.0",
            "value": 433,
            "_view_count": null,
            "_view_module_version": "1.5.0",
            "orientation": "horizontal",
            "min": 0,
            "description_tooltip": null,
            "_model_module": "@jupyter-widgets/controls",
            "layout": "IPY_MODEL_964921b21fc24ab99ad26363a915ef55"
          }
        },
        "2f29d6d4881b4c5388400435d62decd7": {
          "model_module": "@jupyter-widgets/controls",
          "model_name": "HTMLModel",
          "state": {
            "_view_name": "HTMLView",
            "style": "IPY_MODEL_3a9743479ff2485498e5a14177bc4bdc",
            "_dom_classes": [],
            "description": "",
            "_model_name": "HTMLModel",
            "placeholder": "​",
            "_view_module": "@jupyter-widgets/controls",
            "_model_module_version": "1.5.0",
            "value": " 433/433 [00:00&lt;00:00, 488B/s]",
            "_view_count": null,
            "_view_module_version": "1.5.0",
            "description_tooltip": null,
            "_model_module": "@jupyter-widgets/controls",
            "layout": "IPY_MODEL_ae0c018d5911413499295e0850f75089"
          }
        },
        "d6b418dde5c646bbb910ce7857af4fea": {
          "model_module": "@jupyter-widgets/controls",
          "model_name": "ProgressStyleModel",
          "state": {
            "_view_name": "StyleView",
            "_model_name": "ProgressStyleModel",
            "description_width": "initial",
            "_view_module": "@jupyter-widgets/base",
            "_model_module_version": "1.5.0",
            "_view_count": null,
            "_view_module_version": "1.2.0",
            "bar_color": null,
            "_model_module": "@jupyter-widgets/controls"
          }
        },
        "964921b21fc24ab99ad26363a915ef55": {
          "model_module": "@jupyter-widgets/base",
          "model_name": "LayoutModel",
          "state": {
            "_view_name": "LayoutView",
            "grid_template_rows": null,
            "right": null,
            "justify_content": null,
            "_view_module": "@jupyter-widgets/base",
            "overflow": null,
            "_model_module_version": "1.2.0",
            "_view_count": null,
            "flex_flow": null,
            "width": null,
            "min_width": null,
            "border": null,
            "align_items": null,
            "bottom": null,
            "_model_module": "@jupyter-widgets/base",
            "top": null,
            "grid_column": null,
            "overflow_y": null,
            "overflow_x": null,
            "grid_auto_flow": null,
            "grid_area": null,
            "grid_template_columns": null,
            "flex": null,
            "_model_name": "LayoutModel",
            "justify_items": null,
            "grid_row": null,
            "max_height": null,
            "align_content": null,
            "visibility": null,
            "align_self": null,
            "height": null,
            "min_height": null,
            "padding": null,
            "grid_auto_rows": null,
            "grid_gap": null,
            "max_width": null,
            "order": null,
            "_view_module_version": "1.2.0",
            "grid_template_areas": null,
            "object_position": null,
            "object_fit": null,
            "grid_auto_columns": null,
            "margin": null,
            "display": null,
            "left": null
          }
        },
        "3a9743479ff2485498e5a14177bc4bdc": {
          "model_module": "@jupyter-widgets/controls",
          "model_name": "DescriptionStyleModel",
          "state": {
            "_view_name": "StyleView",
            "_model_name": "DescriptionStyleModel",
            "description_width": "",
            "_view_module": "@jupyter-widgets/base",
            "_model_module_version": "1.5.0",
            "_view_count": null,
            "_view_module_version": "1.2.0",
            "_model_module": "@jupyter-widgets/controls"
          }
        },
        "ae0c018d5911413499295e0850f75089": {
          "model_module": "@jupyter-widgets/base",
          "model_name": "LayoutModel",
          "state": {
            "_view_name": "LayoutView",
            "grid_template_rows": null,
            "right": null,
            "justify_content": null,
            "_view_module": "@jupyter-widgets/base",
            "overflow": null,
            "_model_module_version": "1.2.0",
            "_view_count": null,
            "flex_flow": null,
            "width": null,
            "min_width": null,
            "border": null,
            "align_items": null,
            "bottom": null,
            "_model_module": "@jupyter-widgets/base",
            "top": null,
            "grid_column": null,
            "overflow_y": null,
            "overflow_x": null,
            "grid_auto_flow": null,
            "grid_area": null,
            "grid_template_columns": null,
            "flex": null,
            "_model_name": "LayoutModel",
            "justify_items": null,
            "grid_row": null,
            "max_height": null,
            "align_content": null,
            "visibility": null,
            "align_self": null,
            "height": null,
            "min_height": null,
            "padding": null,
            "grid_auto_rows": null,
            "grid_gap": null,
            "max_width": null,
            "order": null,
            "_view_module_version": "1.2.0",
            "grid_template_areas": null,
            "object_position": null,
            "object_fit": null,
            "grid_auto_columns": null,
            "margin": null,
            "display": null,
            "left": null
          }
        },
        "1c10590d85d74c83a8c678df1a3e72c1": {
          "model_module": "@jupyter-widgets/controls",
          "model_name": "HBoxModel",
          "state": {
            "_view_name": "HBoxView",
            "_dom_classes": [],
            "_model_name": "HBoxModel",
            "_view_module": "@jupyter-widgets/controls",
            "_model_module_version": "1.5.0",
            "_view_count": null,
            "_view_module_version": "1.5.0",
            "box_style": "",
            "layout": "IPY_MODEL_cfaa8d3c60b1461d8c4aa47ee0c95cf0",
            "_model_module": "@jupyter-widgets/controls",
            "children": [
              "IPY_MODEL_a9688826fef04eab92be937cbf594bd1",
              "IPY_MODEL_8582c0390dfa41a19b44efa792c22661"
            ]
          }
        },
        "cfaa8d3c60b1461d8c4aa47ee0c95cf0": {
          "model_module": "@jupyter-widgets/base",
          "model_name": "LayoutModel",
          "state": {
            "_view_name": "LayoutView",
            "grid_template_rows": null,
            "right": null,
            "justify_content": null,
            "_view_module": "@jupyter-widgets/base",
            "overflow": null,
            "_model_module_version": "1.2.0",
            "_view_count": null,
            "flex_flow": null,
            "width": null,
            "min_width": null,
            "border": null,
            "align_items": null,
            "bottom": null,
            "_model_module": "@jupyter-widgets/base",
            "top": null,
            "grid_column": null,
            "overflow_y": null,
            "overflow_x": null,
            "grid_auto_flow": null,
            "grid_area": null,
            "grid_template_columns": null,
            "flex": null,
            "_model_name": "LayoutModel",
            "justify_items": null,
            "grid_row": null,
            "max_height": null,
            "align_content": null,
            "visibility": null,
            "align_self": null,
            "height": null,
            "min_height": null,
            "padding": null,
            "grid_auto_rows": null,
            "grid_gap": null,
            "max_width": null,
            "order": null,
            "_view_module_version": "1.2.0",
            "grid_template_areas": null,
            "object_position": null,
            "object_fit": null,
            "grid_auto_columns": null,
            "margin": null,
            "display": null,
            "left": null
          }
        },
        "a9688826fef04eab92be937cbf594bd1": {
          "model_module": "@jupyter-widgets/controls",
          "model_name": "FloatProgressModel",
          "state": {
            "_view_name": "ProgressView",
            "style": "IPY_MODEL_51fb61b1cd364fe788053be8e3d7d4f8",
            "_dom_classes": [],
            "description": "Downloading: 100%",
            "_model_name": "FloatProgressModel",
            "bar_style": "success",
            "max": 435779157,
            "_view_module": "@jupyter-widgets/controls",
            "_model_module_version": "1.5.0",
            "value": 435779157,
            "_view_count": null,
            "_view_module_version": "1.5.0",
            "orientation": "horizontal",
            "min": 0,
            "description_tooltip": null,
            "_model_module": "@jupyter-widgets/controls",
            "layout": "IPY_MODEL_f496ca719c764a93b822a5f3a4174dbf"
          }
        },
        "8582c0390dfa41a19b44efa792c22661": {
          "model_module": "@jupyter-widgets/controls",
          "model_name": "HTMLModel",
          "state": {
            "_view_name": "HTMLView",
            "style": "IPY_MODEL_a5ad0806e4ee4d2e8388f4a9b2bf1c93",
            "_dom_classes": [],
            "description": "",
            "_model_name": "HTMLModel",
            "placeholder": "​",
            "_view_module": "@jupyter-widgets/controls",
            "_model_module_version": "1.5.0",
            "value": " 436M/436M [00:16&lt;00:00, 26.0MB/s]",
            "_view_count": null,
            "_view_module_version": "1.5.0",
            "description_tooltip": null,
            "_model_module": "@jupyter-widgets/controls",
            "layout": "IPY_MODEL_728e7583ea98409f8f8926c2c8876571"
          }
        },
        "51fb61b1cd364fe788053be8e3d7d4f8": {
          "model_module": "@jupyter-widgets/controls",
          "model_name": "ProgressStyleModel",
          "state": {
            "_view_name": "StyleView",
            "_model_name": "ProgressStyleModel",
            "description_width": "initial",
            "_view_module": "@jupyter-widgets/base",
            "_model_module_version": "1.5.0",
            "_view_count": null,
            "_view_module_version": "1.2.0",
            "bar_color": null,
            "_model_module": "@jupyter-widgets/controls"
          }
        },
        "f496ca719c764a93b822a5f3a4174dbf": {
          "model_module": "@jupyter-widgets/base",
          "model_name": "LayoutModel",
          "state": {
            "_view_name": "LayoutView",
            "grid_template_rows": null,
            "right": null,
            "justify_content": null,
            "_view_module": "@jupyter-widgets/base",
            "overflow": null,
            "_model_module_version": "1.2.0",
            "_view_count": null,
            "flex_flow": null,
            "width": null,
            "min_width": null,
            "border": null,
            "align_items": null,
            "bottom": null,
            "_model_module": "@jupyter-widgets/base",
            "top": null,
            "grid_column": null,
            "overflow_y": null,
            "overflow_x": null,
            "grid_auto_flow": null,
            "grid_area": null,
            "grid_template_columns": null,
            "flex": null,
            "_model_name": "LayoutModel",
            "justify_items": null,
            "grid_row": null,
            "max_height": null,
            "align_content": null,
            "visibility": null,
            "align_self": null,
            "height": null,
            "min_height": null,
            "padding": null,
            "grid_auto_rows": null,
            "grid_gap": null,
            "max_width": null,
            "order": null,
            "_view_module_version": "1.2.0",
            "grid_template_areas": null,
            "object_position": null,
            "object_fit": null,
            "grid_auto_columns": null,
            "margin": null,
            "display": null,
            "left": null
          }
        },
        "a5ad0806e4ee4d2e8388f4a9b2bf1c93": {
          "model_module": "@jupyter-widgets/controls",
          "model_name": "DescriptionStyleModel",
          "state": {
            "_view_name": "StyleView",
            "_model_name": "DescriptionStyleModel",
            "description_width": "",
            "_view_module": "@jupyter-widgets/base",
            "_model_module_version": "1.5.0",
            "_view_count": null,
            "_view_module_version": "1.2.0",
            "_model_module": "@jupyter-widgets/controls"
          }
        },
        "728e7583ea98409f8f8926c2c8876571": {
          "model_module": "@jupyter-widgets/base",
          "model_name": "LayoutModel",
          "state": {
            "_view_name": "LayoutView",
            "grid_template_rows": null,
            "right": null,
            "justify_content": null,
            "_view_module": "@jupyter-widgets/base",
            "overflow": null,
            "_model_module_version": "1.2.0",
            "_view_count": null,
            "flex_flow": null,
            "width": null,
            "min_width": null,
            "border": null,
            "align_items": null,
            "bottom": null,
            "_model_module": "@jupyter-widgets/base",
            "top": null,
            "grid_column": null,
            "overflow_y": null,
            "overflow_x": null,
            "grid_auto_flow": null,
            "grid_area": null,
            "grid_template_columns": null,
            "flex": null,
            "_model_name": "LayoutModel",
            "justify_items": null,
            "grid_row": null,
            "max_height": null,
            "align_content": null,
            "visibility": null,
            "align_self": null,
            "height": null,
            "min_height": null,
            "padding": null,
            "grid_auto_rows": null,
            "grid_gap": null,
            "max_width": null,
            "order": null,
            "_view_module_version": "1.2.0",
            "grid_template_areas": null,
            "object_position": null,
            "object_fit": null,
            "grid_auto_columns": null,
            "margin": null,
            "display": null,
            "left": null
          }
        }
      }
    },
    "accelerator": "GPU"
  },
  "cells": [
    {
      "cell_type": "markdown",
      "metadata": {
        "id": "view-in-github",
        "colab_type": "text"
      },
      "source": [
        "<a href=\"https://colab.research.google.com/github/RobMcH/gector/blob/master/Demo_Notebook.ipynb\" target=\"_parent\"><img src=\"https://colab.research.google.com/assets/colab-badge.svg\" alt=\"Open In Colab\"/></a>"
      ]
    },
    {
      "cell_type": "markdown",
      "metadata": {
        "id": "i35B5CHomC_r"
      },
      "source": [
        "***The cells below have to be executed once to setup everything - This might take a few minutes***"
      ]
    },
    {
      "cell_type": "markdown",
      "metadata": {
        "id": "jn3GuO4J0D5j"
      },
      "source": [
        "#### Notebook setup"
      ]
    },
    {
      "cell_type": "markdown",
      "metadata": {
        "id": "-qgSEvuT9ebR"
      },
      "source": [
        "Clone the Github repo:"
      ]
    },
    {
      "cell_type": "code",
      "metadata": {
        "colab": {
          "base_uri": "https://localhost:8080/"
        },
        "id": "_Man-xh49gzq",
        "outputId": "2d3bc41d-9b22-42ba-e0a0-3294a29e1523"
      },
      "source": [
        "!git clone https://github.com/RobMcH/gector"
      ],
      "execution_count": 1,
      "outputs": [
        {
          "output_type": "stream",
          "text": [
            "Cloning into 'gector'...\n",
            "remote: Enumerating objects: 417, done.\u001b[K\n",
            "remote: Counting objects: 100% (337/337), done.\u001b[K\n",
            "remote: Compressing objects: 100% (214/214), done.\u001b[K\n",
            "remote: Total 417 (delta 221), reused 212 (delta 117), pack-reused 80\u001b[K\n",
            "Receiving objects: 100% (417/417), 1.79 MiB | 6.89 MiB/s, done.\n",
            "Resolving deltas: 100% (252/252), done.\n"
          ],
          "name": "stdout"
        }
      ]
    },
    {
      "cell_type": "markdown",
      "metadata": {
        "id": "oAjVXErF_hKh"
      },
      "source": [
        "Change the working directory:"
      ]
    },
    {
      "cell_type": "code",
      "metadata": {
        "colab": {
          "base_uri": "https://localhost:8080/"
        },
        "id": "ep4AOVChwrVk",
        "outputId": "5e06238a-db46-4e44-8d32-a4e5a01feecd"
      },
      "source": [
        "%cd /content/gector"
      ],
      "execution_count": 2,
      "outputs": [
        {
          "output_type": "stream",
          "text": [
            "/content/gector\n"
          ],
          "name": "stdout"
        }
      ]
    },
    {
      "cell_type": "markdown",
      "metadata": {
        "id": "hEQs9NYzAPI5"
      },
      "source": [
        "Install requirements:"
      ]
    },
    {
      "cell_type": "code",
      "metadata": {
        "colab": {
          "base_uri": "https://localhost:8080/"
        },
        "id": "3MzXvJNtAOIh",
        "outputId": "3b110e2d-d01b-42e5-f41c-7baa85bd8a9d"
      },
      "source": [
        "pip install -r requirements.txt"
      ],
      "execution_count": 3,
      "outputs": [
        {
          "output_type": "stream",
          "text": [
            "Collecting git+https://github.com/amitness/nodebox_linguistics_extended@master (from -r requirements.txt (line 7))\n",
            "  Cloning https://github.com/amitness/nodebox_linguistics_extended (to revision master) to /tmp/pip-req-build-nwe9a50x\n",
            "  Running command git clone -q https://github.com/amitness/nodebox_linguistics_extended /tmp/pip-req-build-nwe9a50x\n",
            "Collecting torch==1.3.0\n",
            "\u001b[?25l  Downloading https://files.pythonhosted.org/packages/b4/0b/9d33aef363b6728ad937643d98be713c6c25d50ce338678ad57cee6e6fd5/torch-1.3.0-cp37-cp37m-manylinux1_x86_64.whl (773.1MB)\n",
            "\u001b[K     |████████████████████████████████| 773.1MB 22kB/s \n",
            "\u001b[?25hCollecting allennlp==0.8.4\n",
            "\u001b[?25l  Downloading https://files.pythonhosted.org/packages/30/8c/72b14d20c9cbb0306939ea41109fc599302634fd5c59ccba1a659b7d0360/allennlp-0.8.4-py3-none-any.whl (5.7MB)\n",
            "\u001b[K     |████████████████████████████████| 5.7MB 34.6MB/s \n",
            "\u001b[33mWARNING: The candidate selected for download or install is a yanked version: 'python-Levenshtein' candidate (version 0.12.0 at https://files.pythonhosted.org/packages/42/a9/d1785c85ebf9b7dfacd08938dd028209c34a0ea3b1bcdb895208bd40a67d/python-Levenshtein-0.12.0.tar.gz#sha256=033a11de5e3d19ea25c9302d11224e1a1898fe5abd23c61c7c360c25195e3eb1 (from https://pypi.org/simple/python-levenshtein/))\n",
            "Reason for being yanked: Insecure, upgrade to 0.12.1\u001b[0m\n",
            "\u001b[?25hCollecting python-Levenshtein==0.12.0\n",
            "\u001b[?25l  Downloading https://files.pythonhosted.org/packages/42/a9/d1785c85ebf9b7dfacd08938dd028209c34a0ea3b1bcdb895208bd40a67d/python-Levenshtein-0.12.0.tar.gz (48kB)\n",
            "\u001b[K     |████████████████████████████████| 51kB 2.6MB/s \n",
            "\u001b[?25hCollecting transformers==2.2.2\n",
            "\u001b[?25l  Downloading https://files.pythonhosted.org/packages/d1/08/4a6768ca1a7a4fa37e5ee08077c5d02b8d83876bd36caa5fc24d98992ac2/transformers-2.2.2-py3-none-any.whl (387kB)\n",
            "\u001b[K     |████████████████████████████████| 389kB 49.3MB/s \n",
            "\u001b[?25hCollecting scikit-learn==0.20.0\n",
            "\u001b[?25l  Downloading https://files.pythonhosted.org/packages/56/7d/0737aed3e157fb90a1eaecb1cbfa5742fa4206fb305c8f157b666b71da14/scikit_learn-0.20.0-cp37-cp37m-manylinux1_x86_64.whl (5.3MB)\n",
            "\u001b[K     |████████████████████████████████| 5.3MB 17.6MB/s \n",
            "\u001b[?25hCollecting sentencepiece==0.1.91\n",
            "\u001b[?25l  Downloading https://files.pythonhosted.org/packages/f2/e2/813dff3d72df2f49554204e7e5f73a3dc0f0eb1e3958a4cad3ef3fb278b7/sentencepiece-0.1.91-cp37-cp37m-manylinux1_x86_64.whl (1.1MB)\n",
            "\u001b[K     |████████████████████████████████| 1.1MB 38.2MB/s \n",
            "\u001b[?25hCollecting overrides==4.1.2\n",
            "  Downloading https://files.pythonhosted.org/packages/37/f8/b0e12ec2ef211b53803732b3ab49d8d2b7e439ae10132c4bfd0c11a74305/overrides-4.1.2-py3-none-any.whl\n",
            "Collecting sgmllib3k\n",
            "  Downloading https://files.pythonhosted.org/packages/9e/bd/3704a8c3e0942d711c1299ebf7b9091930adae6675d7c8f476a7ce48653c/sgmllib3k-1.0.0.tar.gz\n",
            "Requirement already satisfied: numpy in /usr/local/lib/python3.7/dist-packages (from torch==1.3.0->-r requirements.txt (line 1)) (1.19.5)\n",
            "Collecting conllu==0.11\n",
            "  Downloading https://files.pythonhosted.org/packages/d4/2c/856344d9b69baf5b374c395b4286626181a80f0c2b2f704914d18a1cea47/conllu-0.11-py2.py3-none-any.whl\n",
            "Collecting awscli>=1.11.91\n",
            "\u001b[?25l  Downloading https://files.pythonhosted.org/packages/62/b7/dc689e218b411b81b97636ce5c74190d25611956a325c7908b28a29fdd05/awscli-1.19.84-py2.py3-none-any.whl (3.6MB)\n",
            "\u001b[K     |████████████████████████████████| 3.6MB 32.2MB/s \n",
            "\u001b[?25hCollecting tensorboardX>=1.2\n",
            "\u001b[?25l  Downloading https://files.pythonhosted.org/packages/07/84/46421bd3e0e89a92682b1a38b40efc22dafb6d8e3d947e4ceefd4a5fabc7/tensorboardX-2.2-py2.py3-none-any.whl (120kB)\n",
            "\u001b[K     |████████████████████████████████| 122kB 47.6MB/s \n",
            "\u001b[?25hRequirement already satisfied: h5py in /usr/local/lib/python3.7/dist-packages (from allennlp==0.8.4->-r requirements.txt (line 2)) (3.1.0)\n",
            "Requirement already satisfied: pytest in /usr/local/lib/python3.7/dist-packages (from allennlp==0.8.4->-r requirements.txt (line 2)) (3.6.4)\n",
            "Collecting gevent>=1.3.6\n",
            "\u001b[?25l  Downloading https://files.pythonhosted.org/packages/3e/85/df3d1fd2b60a87455475f93012861b76a411d27ba4a0859939adbe2c9dc3/gevent-21.1.2-cp37-cp37m-manylinux2010_x86_64.whl (5.6MB)\n",
            "\u001b[K     |████████████████████████████████| 5.6MB 24.1MB/s \n",
            "\u001b[?25hCollecting pytorch-pretrained-bert>=0.6.0\n",
            "\u001b[?25l  Downloading https://files.pythonhosted.org/packages/d7/e0/c08d5553b89973d9a240605b9c12404bcf8227590de62bae27acbcfe076b/pytorch_pretrained_bert-0.6.2-py3-none-any.whl (123kB)\n",
            "\u001b[K     |████████████████████████████████| 133kB 51.0MB/s \n",
            "\u001b[?25hCollecting flaky\n",
            "  Downloading https://files.pythonhosted.org/packages/43/0e/2f50064e327f41a1eb811df089f813036e19a64b95e33f8e9e0b96c2447e/flaky-3.7.0-py2.py3-none-any.whl\n",
            "Requirement already satisfied: tqdm>=4.19 in /usr/local/lib/python3.7/dist-packages (from allennlp==0.8.4->-r requirements.txt (line 2)) (4.41.1)\n",
            "Collecting ftfy\n",
            "\u001b[?25l  Downloading https://files.pythonhosted.org/packages/af/da/d215a091986e5f01b80f5145cff6f22e2dc57c6b048aab2e882a07018473/ftfy-6.0.3.tar.gz (64kB)\n",
            "\u001b[K     |████████████████████████████████| 71kB 10.1MB/s \n",
            "\u001b[?25hCollecting jsonnet>=0.10.0; sys_platform != \"win32\"\n",
            "\u001b[?25l  Downloading https://files.pythonhosted.org/packages/42/40/6f16e5ac994b16fa71c24310f97174ce07d3a97b433275589265c6b94d2b/jsonnet-0.17.0.tar.gz (259kB)\n",
            "\u001b[K     |████████████████████████████████| 266kB 43.5MB/s \n",
            "\u001b[?25hRequirement already satisfied: sqlparse>=0.2.4 in /usr/local/lib/python3.7/dist-packages (from allennlp==0.8.4->-r requirements.txt (line 2)) (0.4.1)\n",
            "Requirement already satisfied: nltk in /usr/local/lib/python3.7/dist-packages (from allennlp==0.8.4->-r requirements.txt (line 2)) (3.2.5)\n",
            "Requirement already satisfied: pytz>=2017.3 in /usr/local/lib/python3.7/dist-packages (from allennlp==0.8.4->-r requirements.txt (line 2)) (2018.9)\n",
            "Requirement already satisfied: editdistance in /usr/local/lib/python3.7/dist-packages (from allennlp==0.8.4->-r requirements.txt (line 2)) (0.5.3)\n",
            "Collecting jsonpickle\n",
            "  Downloading https://files.pythonhosted.org/packages/bb/1a/f2db026d4d682303793559f1c2bb425ba3ec0d6fd7ac63397790443f2461/jsonpickle-2.0.0-py2.py3-none-any.whl\n",
            "Collecting unidecode\n",
            "\u001b[?25l  Downloading https://files.pythonhosted.org/packages/9e/25/723487ca2a52ebcee88a34d7d1f5a4b80b793f179ee0f62d5371938dfa01/Unidecode-1.2.0-py2.py3-none-any.whl (241kB)\n",
            "\u001b[K     |████████████████████████████████| 245kB 46.4MB/s \n",
            "\u001b[?25hCollecting responses>=0.7\n",
            "  Downloading https://files.pythonhosted.org/packages/ba/00/0e63b7024c2d873bf57411ab0ed77eeafd5f44bace7cbf1d56bca8ab3be2/responses-0.13.3-py2.py3-none-any.whl\n",
            "Collecting flask-cors>=3.0.7\n",
            "  Downloading https://files.pythonhosted.org/packages/db/84/901e700de86604b1c4ef4b57110d4e947c218b9997adf5d38fa7da493bce/Flask_Cors-3.0.10-py2.py3-none-any.whl\n",
            "Collecting word2number>=1.1\n",
            "  Downloading https://files.pythonhosted.org/packages/4a/29/a31940c848521f0725f0df6b25dca8917f13a2025b0e8fcbe5d0457e45e6/word2number-1.1.zip\n",
            "Collecting spacy<2.2,>=2.0.18\n",
            "\u001b[?25l  Downloading https://files.pythonhosted.org/packages/16/f3/554271be8ff46471586d164bfbb6999364ba30ca5a0045e2a86da5f3b2c5/spacy-2.1.9-cp37-cp37m-manylinux1_x86_64.whl (30.8MB)\n",
            "\u001b[K     |████████████████████████████████| 30.8MB 162kB/s \n",
            "\u001b[?25hCollecting numpydoc>=0.8.0\n",
            "\u001b[?25l  Downloading https://files.pythonhosted.org/packages/60/1d/9e398c53d6ae27d5ab312ddc16a9ffe1bee0dfdf1d6ec88c40b0ca97582e/numpydoc-1.1.0-py3-none-any.whl (47kB)\n",
            "\u001b[K     |████████████████████████████████| 51kB 7.2MB/s \n",
            "\u001b[?25hRequirement already satisfied: flask>=1.0.2 in /usr/local/lib/python3.7/dist-packages (from allennlp==0.8.4->-r requirements.txt (line 2)) (1.1.4)\n",
            "Requirement already satisfied: requests>=2.18 in /usr/local/lib/python3.7/dist-packages (from allennlp==0.8.4->-r requirements.txt (line 2)) (2.23.0)\n",
            "Requirement already satisfied: scipy in /usr/local/lib/python3.7/dist-packages (from allennlp==0.8.4->-r requirements.txt (line 2)) (1.4.1)\n",
            "Requirement already satisfied: matplotlib>=2.2.3 in /usr/local/lib/python3.7/dist-packages (from allennlp==0.8.4->-r requirements.txt (line 2)) (3.2.2)\n",
            "Collecting boto3\n",
            "\u001b[?25l  Downloading https://files.pythonhosted.org/packages/11/20/4294e37c3c6936c905f1e9da958c776d7fee54a4512bdb7706d69c8720e6/boto3-1.17.84-py2.py3-none-any.whl (131kB)\n",
            "\u001b[K     |████████████████████████████████| 133kB 49.6MB/s \n",
            "\u001b[?25hCollecting parsimonious>=0.8.0\n",
            "\u001b[?25l  Downloading https://files.pythonhosted.org/packages/02/fc/067a3f89869a41009e1a7cdfb14725f8ddd246f30f63c645e8ef8a1c56f4/parsimonious-0.8.1.tar.gz (45kB)\n",
            "\u001b[K     |████████████████████████████████| 51kB 7.1MB/s \n",
            "\u001b[?25hRequirement already satisfied: setuptools in /usr/local/lib/python3.7/dist-packages (from python-Levenshtein==0.12.0->-r requirements.txt (line 3)) (56.1.0)\n",
            "Requirement already satisfied: regex in /usr/local/lib/python3.7/dist-packages (from transformers==2.2.2->-r requirements.txt (line 4)) (2019.12.20)\n",
            "Collecting sacremoses\n",
            "\u001b[?25l  Downloading https://files.pythonhosted.org/packages/75/ee/67241dc87f266093c533a2d4d3d69438e57d7a90abb216fa076e7d475d4a/sacremoses-0.0.45-py3-none-any.whl (895kB)\n",
            "\u001b[K     |████████████████████████████████| 901kB 39.3MB/s \n",
            "\u001b[?25hCollecting typing-utils>=0.0.3\n",
            "  Downloading https://files.pythonhosted.org/packages/66/6e/99fe160a19676051070aa1da4ca44aac2a213e79ba1a492b5f03facf6447/typing_utils-0.1.0-py3-none-any.whl\n",
            "Collecting s3transfer<0.5.0,>=0.4.0\n",
            "\u001b[?25l  Downloading https://files.pythonhosted.org/packages/63/d0/693477c688348654ddc21dcdce0817653a294aa43f41771084c25e7ff9c7/s3transfer-0.4.2-py2.py3-none-any.whl (79kB)\n",
            "\u001b[K     |████████████████████████████████| 81kB 10.2MB/s \n",
            "\u001b[?25hCollecting botocore==1.20.84\n",
            "\u001b[?25l  Downloading https://files.pythonhosted.org/packages/bc/22/72c81d754bbcb128cba2ad88670c3c320e4594e6ddd8cca6512c3967108c/botocore-1.20.84-py2.py3-none-any.whl (7.6MB)\n",
            "\u001b[K     |████████████████████████████████| 7.6MB 36.3MB/s \n",
            "\u001b[?25hCollecting colorama<0.4.4,>=0.2.5\n",
            "  Downloading https://files.pythonhosted.org/packages/c9/dc/45cdef1b4d119eb96316b3117e6d5708a08029992b2fee2c143c7a0a5cc5/colorama-0.4.3-py2.py3-none-any.whl\n",
            "Requirement already satisfied: PyYAML<5.5,>=3.10 in /usr/local/lib/python3.7/dist-packages (from awscli>=1.11.91->allennlp==0.8.4->-r requirements.txt (line 2)) (3.13)\n",
            "Requirement already satisfied: rsa<4.8,>=3.1.2; python_version > \"2.7\" in /usr/local/lib/python3.7/dist-packages (from awscli>=1.11.91->allennlp==0.8.4->-r requirements.txt (line 2)) (4.7.2)\n",
            "Collecting docutils<0.16,>=0.10\n",
            "\u001b[?25l  Downloading https://files.pythonhosted.org/packages/22/cd/a6aa959dca619918ccb55023b4cb151949c64d4d5d55b3f4ffd7eee0c6e8/docutils-0.15.2-py3-none-any.whl (547kB)\n",
            "\u001b[K     |████████████████████████████████| 552kB 25.9MB/s \n",
            "\u001b[?25hRequirement already satisfied: protobuf>=3.8.0 in /usr/local/lib/python3.7/dist-packages (from tensorboardX>=1.2->allennlp==0.8.4->-r requirements.txt (line 2)) (3.12.4)\n",
            "Requirement already satisfied: cached-property; python_version < \"3.8\" in /usr/local/lib/python3.7/dist-packages (from h5py->allennlp==0.8.4->-r requirements.txt (line 2)) (1.5.2)\n",
            "Requirement already satisfied: atomicwrites>=1.0 in /usr/local/lib/python3.7/dist-packages (from pytest->allennlp==0.8.4->-r requirements.txt (line 2)) (1.4.0)\n",
            "Requirement already satisfied: pluggy<0.8,>=0.5 in /usr/local/lib/python3.7/dist-packages (from pytest->allennlp==0.8.4->-r requirements.txt (line 2)) (0.7.1)\n",
            "Requirement already satisfied: py>=1.5.0 in /usr/local/lib/python3.7/dist-packages (from pytest->allennlp==0.8.4->-r requirements.txt (line 2)) (1.10.0)\n",
            "Requirement already satisfied: six>=1.10.0 in /usr/local/lib/python3.7/dist-packages (from pytest->allennlp==0.8.4->-r requirements.txt (line 2)) (1.15.0)\n",
            "Requirement already satisfied: more-itertools>=4.0.0 in /usr/local/lib/python3.7/dist-packages (from pytest->allennlp==0.8.4->-r requirements.txt (line 2)) (8.7.0)\n",
            "Requirement already satisfied: attrs>=17.4.0 in /usr/local/lib/python3.7/dist-packages (from pytest->allennlp==0.8.4->-r requirements.txt (line 2)) (21.2.0)\n",
            "Collecting zope.interface\n",
            "\u001b[?25l  Downloading https://files.pythonhosted.org/packages/bb/a7/94e1a92c71436f934cdd2102826fa041c83dcb7d21dd0f1fb1a57f6e0620/zope.interface-5.4.0-cp37-cp37m-manylinux2010_x86_64.whl (251kB)\n",
            "\u001b[K     |████████████████████████████████| 256kB 38.6MB/s \n",
            "\u001b[?25hCollecting zope.event\n",
            "  Downloading https://files.pythonhosted.org/packages/9e/85/b45408c64f3b888976f1d5b37eed8d746b8d5729a66a49ec846fda27d371/zope.event-4.5.0-py2.py3-none-any.whl\n",
            "Requirement already satisfied: greenlet<2.0,>=0.4.17; platform_python_implementation == \"CPython\" in /usr/local/lib/python3.7/dist-packages (from gevent>=1.3.6->allennlp==0.8.4->-r requirements.txt (line 2)) (1.1.0)\n",
            "Requirement already satisfied: wcwidth in /usr/local/lib/python3.7/dist-packages (from ftfy->allennlp==0.8.4->-r requirements.txt (line 2)) (0.2.5)\n",
            "Requirement already satisfied: importlib-metadata; python_version < \"3.8\" in /usr/local/lib/python3.7/dist-packages (from jsonpickle->allennlp==0.8.4->-r requirements.txt (line 2)) (4.0.1)\n",
            "Collecting urllib3>=1.25.10\n",
            "\u001b[?25l  Downloading https://files.pythonhosted.org/packages/0c/cd/1e2ec680ec7b09846dc6e605f5a7709dfb9d7128e51a026e7154e18a234e/urllib3-1.26.5-py2.py3-none-any.whl (138kB)\n",
            "\u001b[K     |████████████████████████████████| 143kB 50.5MB/s \n",
            "\u001b[?25hCollecting preshed<2.1.0,>=2.0.1\n",
            "\u001b[?25l  Downloading https://files.pythonhosted.org/packages/bc/2b/3ecd5d90d2d6fd39fbc520de7d80db5d74defdc2d7c2e15531d9cc3498c7/preshed-2.0.1-cp37-cp37m-manylinux1_x86_64.whl (82kB)\n",
            "\u001b[K     |████████████████████████████████| 92kB 11.3MB/s \n",
            "\u001b[?25hRequirement already satisfied: wasabi<1.1.0,>=0.2.0 in /usr/local/lib/python3.7/dist-packages (from spacy<2.2,>=2.0.18->allennlp==0.8.4->-r requirements.txt (line 2)) (0.8.2)\n",
            "Requirement already satisfied: srsly<1.1.0,>=0.0.6 in /usr/local/lib/python3.7/dist-packages (from spacy<2.2,>=2.0.18->allennlp==0.8.4->-r requirements.txt (line 2)) (1.0.5)\n",
            "Collecting thinc<7.1.0,>=7.0.8\n",
            "\u001b[?25l  Downloading https://files.pythonhosted.org/packages/36/42/d7ea7539af3852fd8c1f0b3adf4a100fb3d72b40b69cef1a764ff979a743/thinc-7.0.8-cp37-cp37m-manylinux1_x86_64.whl (2.1MB)\n",
            "\u001b[K     |████████████████████████████████| 2.1MB 45.1MB/s \n",
            "\u001b[?25hCollecting plac<1.0.0,>=0.9.6\n",
            "  Downloading https://files.pythonhosted.org/packages/9e/9b/62c60d2f5bc135d2aa1d8c8a86aaf84edb719a59c7f11a4316259e61a298/plac-0.9.6-py2.py3-none-any.whl\n",
            "Requirement already satisfied: murmurhash<1.1.0,>=0.28.0 in /usr/local/lib/python3.7/dist-packages (from spacy<2.2,>=2.0.18->allennlp==0.8.4->-r requirements.txt (line 2)) (1.0.5)\n",
            "Requirement already satisfied: cymem<2.1.0,>=2.0.2 in /usr/local/lib/python3.7/dist-packages (from spacy<2.2,>=2.0.18->allennlp==0.8.4->-r requirements.txt (line 2)) (2.0.5)\n",
            "Collecting blis<0.3.0,>=0.2.2\n",
            "\u001b[?25l  Downloading https://files.pythonhosted.org/packages/fa/5f/47b7b29ad202b2210020e2f33bfb06d1db2abe0e709c2a84736e8a9d1bd5/blis-0.2.4-cp37-cp37m-manylinux1_x86_64.whl (3.2MB)\n",
            "\u001b[K     |████████████████████████████████| 3.2MB 36.2MB/s \n",
            "\u001b[?25hRequirement already satisfied: Jinja2>=2.3 in /usr/local/lib/python3.7/dist-packages (from numpydoc>=0.8.0->allennlp==0.8.4->-r requirements.txt (line 2)) (2.11.3)\n",
            "Requirement already satisfied: sphinx>=1.6.5 in /usr/local/lib/python3.7/dist-packages (from numpydoc>=0.8.0->allennlp==0.8.4->-r requirements.txt (line 2)) (1.8.5)\n",
            "Requirement already satisfied: Werkzeug<2.0,>=0.15 in /usr/local/lib/python3.7/dist-packages (from flask>=1.0.2->allennlp==0.8.4->-r requirements.txt (line 2)) (1.0.1)\n",
            "Requirement already satisfied: itsdangerous<2.0,>=0.24 in /usr/local/lib/python3.7/dist-packages (from flask>=1.0.2->allennlp==0.8.4->-r requirements.txt (line 2)) (1.1.0)\n",
            "Requirement already satisfied: click<8.0,>=5.1 in /usr/local/lib/python3.7/dist-packages (from flask>=1.0.2->allennlp==0.8.4->-r requirements.txt (line 2)) (7.1.2)\n",
            "Requirement already satisfied: chardet<4,>=3.0.2 in /usr/local/lib/python3.7/dist-packages (from requests>=2.18->allennlp==0.8.4->-r requirements.txt (line 2)) (3.0.4)\n",
            "Requirement already satisfied: certifi>=2017.4.17 in /usr/local/lib/python3.7/dist-packages (from requests>=2.18->allennlp==0.8.4->-r requirements.txt (line 2)) (2020.12.5)\n",
            "Requirement already satisfied: idna<3,>=2.5 in /usr/local/lib/python3.7/dist-packages (from requests>=2.18->allennlp==0.8.4->-r requirements.txt (line 2)) (2.10)\n",
            "Requirement already satisfied: kiwisolver>=1.0.1 in /usr/local/lib/python3.7/dist-packages (from matplotlib>=2.2.3->allennlp==0.8.4->-r requirements.txt (line 2)) (1.3.1)\n",
            "Requirement already satisfied: pyparsing!=2.0.4,!=2.1.2,!=2.1.6,>=2.0.1 in /usr/local/lib/python3.7/dist-packages (from matplotlib>=2.2.3->allennlp==0.8.4->-r requirements.txt (line 2)) (2.4.7)\n",
            "Requirement already satisfied: python-dateutil>=2.1 in /usr/local/lib/python3.7/dist-packages (from matplotlib>=2.2.3->allennlp==0.8.4->-r requirements.txt (line 2)) (2.8.1)\n",
            "Requirement already satisfied: cycler>=0.10 in /usr/local/lib/python3.7/dist-packages (from matplotlib>=2.2.3->allennlp==0.8.4->-r requirements.txt (line 2)) (0.10.0)\n",
            "Collecting jmespath<1.0.0,>=0.7.1\n",
            "  Downloading https://files.pythonhosted.org/packages/07/cb/5f001272b6faeb23c1c9e0acc04d48eaaf5c862c17709d20e3469c6e0139/jmespath-0.10.0-py2.py3-none-any.whl\n",
            "Requirement already satisfied: joblib in /usr/local/lib/python3.7/dist-packages (from sacremoses->transformers==2.2.2->-r requirements.txt (line 4)) (1.0.1)\n",
            "Requirement already satisfied: pyasn1>=0.1.3 in /usr/local/lib/python3.7/dist-packages (from rsa<4.8,>=3.1.2; python_version > \"2.7\"->awscli>=1.11.91->allennlp==0.8.4->-r requirements.txt (line 2)) (0.4.8)\n",
            "Requirement already satisfied: typing-extensions>=3.6.4; python_version < \"3.8\" in /usr/local/lib/python3.7/dist-packages (from importlib-metadata; python_version < \"3.8\"->jsonpickle->allennlp==0.8.4->-r requirements.txt (line 2)) (3.7.4.3)\n",
            "Requirement already satisfied: zipp>=0.5 in /usr/local/lib/python3.7/dist-packages (from importlib-metadata; python_version < \"3.8\"->jsonpickle->allennlp==0.8.4->-r requirements.txt (line 2)) (3.4.1)\n",
            "Requirement already satisfied: MarkupSafe>=0.23 in /usr/local/lib/python3.7/dist-packages (from Jinja2>=2.3->numpydoc>=0.8.0->allennlp==0.8.4->-r requirements.txt (line 2)) (2.0.1)\n",
            "Requirement already satisfied: alabaster<0.8,>=0.7 in /usr/local/lib/python3.7/dist-packages (from sphinx>=1.6.5->numpydoc>=0.8.0->allennlp==0.8.4->-r requirements.txt (line 2)) (0.7.12)\n",
            "Requirement already satisfied: Pygments>=2.0 in /usr/local/lib/python3.7/dist-packages (from sphinx>=1.6.5->numpydoc>=0.8.0->allennlp==0.8.4->-r requirements.txt (line 2)) (2.6.1)\n",
            "Requirement already satisfied: snowballstemmer>=1.1 in /usr/local/lib/python3.7/dist-packages (from sphinx>=1.6.5->numpydoc>=0.8.0->allennlp==0.8.4->-r requirements.txt (line 2)) (2.1.0)\n",
            "Requirement already satisfied: packaging in /usr/local/lib/python3.7/dist-packages (from sphinx>=1.6.5->numpydoc>=0.8.0->allennlp==0.8.4->-r requirements.txt (line 2)) (20.9)\n",
            "Requirement already satisfied: sphinxcontrib-websupport in /usr/local/lib/python3.7/dist-packages (from sphinx>=1.6.5->numpydoc>=0.8.0->allennlp==0.8.4->-r requirements.txt (line 2)) (1.2.4)\n",
            "Requirement already satisfied: babel!=2.0,>=1.3 in /usr/local/lib/python3.7/dist-packages (from sphinx>=1.6.5->numpydoc>=0.8.0->allennlp==0.8.4->-r requirements.txt (line 2)) (2.9.1)\n",
            "Requirement already satisfied: imagesize in /usr/local/lib/python3.7/dist-packages (from sphinx>=1.6.5->numpydoc>=0.8.0->allennlp==0.8.4->-r requirements.txt (line 2)) (1.2.0)\n",
            "Requirement already satisfied: sphinxcontrib-serializinghtml in /usr/local/lib/python3.7/dist-packages (from sphinxcontrib-websupport->sphinx>=1.6.5->numpydoc>=0.8.0->allennlp==0.8.4->-r requirements.txt (line 2)) (1.1.4)\n",
            "Building wheels for collected packages: python-Levenshtein, nodebox-linguistics-extended, sgmllib3k, ftfy, jsonnet, word2number, parsimonious\n",
            "  Building wheel for python-Levenshtein (setup.py) ... \u001b[?25l\u001b[?25hdone\n",
            "  Created wheel for python-Levenshtein: filename=python_Levenshtein-0.12.0-cp37-cp37m-linux_x86_64.whl size=145872 sha256=32412a7de356c1d24d418ba0679415e3e101163b47e6b8c0c0a1435e4dd5f0dc\n",
            "  Stored in directory: /root/.cache/pip/wheels/de/c2/93/660fd5f7559049268ad2dc6d81c4e39e9e36518766eaf7e342\n",
            "  Building wheel for nodebox-linguistics-extended (setup.py) ... \u001b[?25l\u001b[?25hdone\n",
            "  Created wheel for nodebox-linguistics-extended: filename=nodebox_linguistics_extended-0.0.1-cp37-none-any.whl size=15921415 sha256=ce03fc65f3e8d32c9f8622f8b2656aeeadd5fa267e8e6a88bb5305cea90e46e1\n",
            "  Stored in directory: /tmp/pip-ephem-wheel-cache-c6_j5xba/wheels/f0/2c/ce/9f7c943e87710ec7d447b89ef1c423444d9ded21399edef848\n",
            "  Building wheel for sgmllib3k (setup.py) ... \u001b[?25l\u001b[?25hdone\n",
            "  Created wheel for sgmllib3k: filename=sgmllib3k-1.0.0-cp37-none-any.whl size=6067 sha256=f3a20e76d9ebc5071d47d99b61a410e86007e43bcbfef41569916ad061cef0dd\n",
            "  Stored in directory: /root/.cache/pip/wheels/f1/80/5a/444ba08a550cdd241bd9baf8bae44be750efe370adb944506a\n",
            "  Building wheel for ftfy (setup.py) ... \u001b[?25l\u001b[?25hdone\n",
            "  Created wheel for ftfy: filename=ftfy-6.0.3-cp37-none-any.whl size=41916 sha256=248950118d27d8350bef5269f6518cf4ee871534acb56d1be609ed48041f34f6\n",
            "  Stored in directory: /root/.cache/pip/wheels/99/2c/e6/109c8a28fef7a443f67ba58df21fe1d0067ac3322e75e6b0b7\n",
            "  Building wheel for jsonnet (setup.py) ... \u001b[?25l\u001b[?25hdone\n",
            "  Created wheel for jsonnet: filename=jsonnet-0.17.0-cp37-cp37m-linux_x86_64.whl size=3388782 sha256=b3120001dd15373fab741c573c2ab3c94b36a406375268304b05e087ff005258\n",
            "  Stored in directory: /root/.cache/pip/wheels/26/7a/37/7dbcc30a6b4efd17b91ad1f0128b7bbf84813bd4e1cfb8c1e3\n",
            "  Building wheel for word2number (setup.py) ... \u001b[?25l\u001b[?25hdone\n",
            "  Created wheel for word2number: filename=word2number-1.1-cp37-none-any.whl size=5589 sha256=2fdeef22dcadacabf924159283637470e1d1d8b774a5d25203107d56957e978c\n",
            "  Stored in directory: /root/.cache/pip/wheels/46/2f/53/5f5c1d275492f2fce1cdab9a9bb12d49286dead829a4078e0e\n",
            "  Building wheel for parsimonious (setup.py) ... \u001b[?25l\u001b[?25hdone\n",
            "  Created wheel for parsimonious: filename=parsimonious-0.8.1-cp37-none-any.whl size=42711 sha256=50e697ae601f9aa7abf4bbdf4c717b0f4ee0dd6131e86366226c60f57f5c8c1e\n",
            "  Stored in directory: /root/.cache/pip/wheels/b7/8d/e7/a0e74217da5caeb3c1c7689639b6d28ddbf9985b840bc96a9a\n",
            "Successfully built python-Levenshtein nodebox-linguistics-extended sgmllib3k ftfy jsonnet word2number parsimonious\n",
            "\u001b[31mERROR: torchvision 0.9.1+cu101 has requirement torch==1.8.1, but you'll have torch 1.3.0 which is incompatible.\u001b[0m\n",
            "\u001b[31mERROR: torchtext 0.9.1 has requirement torch==1.8.1, but you'll have torch 1.3.0 which is incompatible.\u001b[0m\n",
            "\u001b[31mERROR: requests 2.23.0 has requirement urllib3!=1.25.0,!=1.25.1,<1.26,>=1.21.1, but you'll have urllib3 1.26.5 which is incompatible.\u001b[0m\n",
            "\u001b[31mERROR: en-core-web-sm 2.2.5 has requirement spacy>=2.2.2, but you'll have spacy 2.1.9 which is incompatible.\u001b[0m\n",
            "\u001b[31mERROR: datascience 0.10.6 has requirement folium==0.2.1, but you'll have folium 0.8.3 which is incompatible.\u001b[0m\n",
            "Installing collected packages: torch, conllu, urllib3, jmespath, botocore, s3transfer, colorama, docutils, awscli, tensorboardX, scikit-learn, zope.interface, zope.event, gevent, boto3, pytorch-pretrained-bert, flaky, typing-utils, overrides, ftfy, jsonnet, jsonpickle, unidecode, responses, flask-cors, word2number, preshed, plac, blis, thinc, spacy, numpydoc, parsimonious, allennlp, python-Levenshtein, sacremoses, sentencepiece, transformers, sgmllib3k, nodebox-linguistics-extended\n",
            "  Found existing installation: torch 1.8.1+cu101\n",
            "    Uninstalling torch-1.8.1+cu101:\n",
            "      Successfully uninstalled torch-1.8.1+cu101\n",
            "  Found existing installation: urllib3 1.24.3\n",
            "    Uninstalling urllib3-1.24.3:\n",
            "      Successfully uninstalled urllib3-1.24.3\n",
            "  Found existing installation: docutils 0.17.1\n",
            "    Uninstalling docutils-0.17.1:\n",
            "      Successfully uninstalled docutils-0.17.1\n",
            "  Found existing installation: scikit-learn 0.22.2.post1\n",
            "    Uninstalling scikit-learn-0.22.2.post1:\n",
            "      Successfully uninstalled scikit-learn-0.22.2.post1\n",
            "  Found existing installation: preshed 3.0.5\n",
            "    Uninstalling preshed-3.0.5:\n",
            "      Successfully uninstalled preshed-3.0.5\n",
            "  Found existing installation: plac 1.1.3\n",
            "    Uninstalling plac-1.1.3:\n",
            "      Successfully uninstalled plac-1.1.3\n",
            "  Found existing installation: blis 0.4.1\n",
            "    Uninstalling blis-0.4.1:\n",
            "      Successfully uninstalled blis-0.4.1\n",
            "  Found existing installation: thinc 7.4.0\n",
            "    Uninstalling thinc-7.4.0:\n",
            "      Successfully uninstalled thinc-7.4.0\n",
            "  Found existing installation: spacy 2.2.4\n",
            "    Uninstalling spacy-2.2.4:\n",
            "      Successfully uninstalled spacy-2.2.4\n",
            "Successfully installed allennlp-0.8.4 awscli-1.19.84 blis-0.2.4 boto3-1.17.84 botocore-1.20.84 colorama-0.4.3 conllu-0.11 docutils-0.15.2 flaky-3.7.0 flask-cors-3.0.10 ftfy-6.0.3 gevent-21.1.2 jmespath-0.10.0 jsonnet-0.17.0 jsonpickle-2.0.0 nodebox-linguistics-extended-0.0.1 numpydoc-1.1.0 overrides-4.1.2 parsimonious-0.8.1 plac-0.9.6 preshed-2.0.1 python-Levenshtein-0.12.0 pytorch-pretrained-bert-0.6.2 responses-0.13.3 s3transfer-0.4.2 sacremoses-0.0.45 scikit-learn-0.20.0 sentencepiece-0.1.91 sgmllib3k-1.0.0 spacy-2.1.9 tensorboardX-2.2 thinc-7.0.8 torch-1.3.0 transformers-2.2.2 typing-utils-0.1.0 unidecode-1.2.0 urllib3-1.26.5 word2number-1.1 zope.event-4.5.0 zope.interface-5.4.0\n"
          ],
          "name": "stdout"
        }
      ]
    },
    {
      "cell_type": "code",
      "metadata": {
        "colab": {
          "base_uri": "https://localhost:8080/"
        },
        "id": "6wfXflF9QwON",
        "outputId": "d1ea832b-3ff7-44de-8eb8-809d93534043"
      },
      "source": [
        "!python -m spacy download en_core_web_sm"
      ],
      "execution_count": 4,
      "outputs": [
        {
          "output_type": "stream",
          "text": [
            "/usr/local/lib/python3.7/dist-packages/requests/__init__.py:91: RequestsDependencyWarning: urllib3 (1.26.5) or chardet (3.0.4) doesn't match a supported version!\n",
            "  RequestsDependencyWarning)\n",
            "Collecting en_core_web_sm==2.1.0\n",
            "\u001b[?25l  Downloading https://github.com/explosion/spacy-models/releases/download/en_core_web_sm-2.1.0/en_core_web_sm-2.1.0.tar.gz (11.1MB)\n",
            "\u001b[K     |████████████████████████████████| 11.1MB 12.1MB/s \n",
            "\u001b[?25hBuilding wheels for collected packages: en-core-web-sm\n",
            "  Building wheel for en-core-web-sm (setup.py) ... \u001b[?25l\u001b[?25hdone\n",
            "  Created wheel for en-core-web-sm: filename=en_core_web_sm-2.1.0-cp37-none-any.whl size=11074434 sha256=f3e87864f4482b939d187f444f766912a704fb0a93dc386dfb3e6ec2c41c657e\n",
            "  Stored in directory: /tmp/pip-ephem-wheel-cache-l72hy4y8/wheels/39/ea/3b/507f7df78be8631a7a3d7090962194cf55bc1158572c0be77f\n",
            "Successfully built en-core-web-sm\n",
            "Installing collected packages: en-core-web-sm\n",
            "  Found existing installation: en-core-web-sm 2.2.5\n",
            "    Uninstalling en-core-web-sm-2.2.5:\n",
            "      Successfully uninstalled en-core-web-sm-2.2.5\n",
            "Successfully installed en-core-web-sm-2.1.0\n",
            "\u001b[38;5;2m✔ Download and installation successful\u001b[0m\n",
            "You can now load the model via spacy.load('en_core_web_sm')\n"
          ],
          "name": "stdout"
        }
      ]
    },
    {
      "cell_type": "markdown",
      "metadata": {
        "id": "okzSkzVo5n_V"
      },
      "source": [
        "Imports:"
      ]
    },
    {
      "cell_type": "code",
      "metadata": {
        "colab": {
          "base_uri": "https://localhost:8080/"
        },
        "id": "REXStac45mv4",
        "outputId": "65ec29b3-7b9a-4906-a7f1-2fa51235efac"
      },
      "source": [
        "from os import path\n",
        "import matplotlib.pyplot as plt\n",
        "import numpy as np\n",
        "import nltk\n",
        "from IPython.display import SVG, Markdown\n",
        "from nltk.tokenize.treebank import TreebankWordDetokenizer\n",
        "import sys\n",
        "import spacy\n",
        "from spacy.lang.en import English\n",
        "from spacy.tokens import Doc, Token, Span\n",
        "from spacy import displacy\n",
        "from IPython.core.display import display, HTML\n",
        "from matplotlib import cm\n",
        "\n",
        "sys.path.insert(0, '/content/gector/utils')\n",
        "\n",
        "from adversarial import convert_sentence\n",
        "\n",
        "%matplotlib inline\n",
        "plt.style.use('ggplot')\n",
        "nltk.download('wordnet')\n",
        "\n",
        "def printmd(string):\n",
        "    display(Markdown(string))"
      ],
      "execution_count": 28,
      "outputs": [
        {
          "output_type": "stream",
          "text": [
            "[nltk_data] Downloading package wordnet to /root/nltk_data...\n",
            "[nltk_data]   Package wordnet is already up-to-date!\n"
          ],
          "name": "stdout"
        }
      ]
    },
    {
      "cell_type": "markdown",
      "metadata": {
        "id": "xTQl2f2s6UhV"
      },
      "source": [
        "Load pre-trained models:"
      ]
    },
    {
      "cell_type": "code",
      "metadata": {
        "colab": {
          "base_uri": "https://localhost:8080/"
        },
        "id": "xpXS5ejM6Z1l",
        "outputId": "25d9120e-f65a-44ab-8d63-72b40f8b8025"
      },
      "source": [
        "# Create new folder for pre-trained models and for the demo files\n",
        "if path.exists('/content/gector/pre-trained-models') == False:\n",
        "  os.mkdir('/content/gector/pre-trained-models')\n",
        "\n",
        "# Load pre-trained Gector BERT model (baseline)\n",
        "if os.path.isfile('/content/gector/pre-trained-models/bert_0_gector.th') == False:\n",
        "  !wget -P /content/gector/pre-trained-models https://grammarly-nlp-data-public.s3.amazonaws.com/gector/bert_0_gector.th\n",
        "\n",
        "# Load our Gector BERT model\n",
        "if os.path.isfile('/content/gector/pre-trained-models/model_random.th') == False:\n",
        "  !wget -P /content/gector/pre-trained-models https://gector.s3.eu-west-2.amazonaws.com/model_random.th"
      ],
      "execution_count": 7,
      "outputs": [
        {
          "output_type": "stream",
          "text": [
            "--2021-05-31 23:45:29--  https://grammarly-nlp-data-public.s3.amazonaws.com/gector/bert_0_gector.th\n",
            "Resolving grammarly-nlp-data-public.s3.amazonaws.com (grammarly-nlp-data-public.s3.amazonaws.com)... 52.216.154.172\n",
            "Connecting to grammarly-nlp-data-public.s3.amazonaws.com (grammarly-nlp-data-public.s3.amazonaws.com)|52.216.154.172|:443... connected.\n",
            "HTTP request sent, awaiting response... 200 OK\n",
            "Length: 448709742 (428M) [application/x-www-form-urlencoded]\n",
            "Saving to: ‘/content/gector/pre-trained-models/bert_0_gector.th’\n",
            "\n",
            "bert_0_gector.th    100%[===================>] 427.92M  34.8MB/s    in 14s     \n",
            "\n",
            "2021-05-31 23:45:44 (31.1 MB/s) - ‘/content/gector/pre-trained-models/bert_0_gector.th’ saved [448709742/448709742]\n",
            "\n",
            "--2021-05-31 23:45:44--  https://gector.s3.eu-west-2.amazonaws.com/model_random.th\n",
            "Resolving gector.s3.eu-west-2.amazonaws.com (gector.s3.eu-west-2.amazonaws.com)... 52.95.148.6\n",
            "Connecting to gector.s3.eu-west-2.amazonaws.com (gector.s3.eu-west-2.amazonaws.com)|52.95.148.6|:443... connected.\n",
            "HTTP request sent, awaiting response... 200 OK\n",
            "Length: 448709678 (428M) [application/x-www-form-urlencoded]\n",
            "Saving to: ‘/content/gector/pre-trained-models/model_random.th’\n",
            "\n",
            "model_random.th     100%[===================>] 427.92M  96.0MB/s    in 4.4s    \n",
            "\n",
            "2021-05-31 23:45:48 (96.4 MB/s) - ‘/content/gector/pre-trained-models/model_random.th’ saved [448709678/448709678]\n",
            "\n"
          ],
          "name": "stdout"
        }
      ]
    },
    {
      "cell_type": "markdown",
      "metadata": {
        "id": "KOBk-60NjNYk"
      },
      "source": [
        "Instantiate the models:"
      ]
    },
    {
      "cell_type": "code",
      "metadata": {
        "colab": {
          "base_uri": "https://localhost:8080/",
          "height": 164,
          "referenced_widgets": [
            "735190a1d2664f129db2a873de1ebfa1",
            "16f14b7376d84012996e788012674af0",
            "e308b354c7df41c3a6803087c452d55f",
            "79f8ad87a7c24963a9e95cf4638c20cf",
            "8e4fef6b5c44411984b71831d6393d02",
            "cafaef8a900647e6ade5d8c1cf510890",
            "2348a814681147f5a84adccd06a30103",
            "e5e9e06f3e6f49afa029489c5c45a726",
            "bf3cd6817a354d13b1de1cdc58d7b260",
            "cca4e327d23840f99401e02a0d6ed939",
            "52dd1647fa674f2792bf5adba7eb1b8a",
            "2f29d6d4881b4c5388400435d62decd7",
            "d6b418dde5c646bbb910ce7857af4fea",
            "964921b21fc24ab99ad26363a915ef55",
            "3a9743479ff2485498e5a14177bc4bdc",
            "ae0c018d5911413499295e0850f75089",
            "1c10590d85d74c83a8c678df1a3e72c1",
            "cfaa8d3c60b1461d8c4aa47ee0c95cf0",
            "a9688826fef04eab92be937cbf594bd1",
            "8582c0390dfa41a19b44efa792c22661",
            "51fb61b1cd364fe788053be8e3d7d4f8",
            "f496ca719c764a93b822a5f3a4174dbf",
            "a5ad0806e4ee4d2e8388f4a9b2bf1c93",
            "728e7583ea98409f8f8926c2c8876571"
          ]
        },
        "id": "zNZPb6oOjPKc",
        "outputId": "6c0b00a2-ecee-47d6-c3f0-eded4b3f3144"
      },
      "source": [
        "from gector.gec_model import GecBERTModel\n",
        "\n",
        "baseline_model = GecBERTModel(vocab_path='data/output_vocabulary',\n",
        "                             model_paths=[\"pre-trained-models/bert_0_gector.th\"],\n",
        "                             max_len=50, min_len=3,\n",
        "                             iterations=5,\n",
        "                             min_error_probability=0.41,\n",
        "                             lowercase_tokens=0,\n",
        "                             model_name='bert',\n",
        "                             special_tokens_fix=0,\n",
        "                             log=False,\n",
        "                             confidence=0.1,\n",
        "                             is_ensemble=0,\n",
        "                             weigths=None)\n",
        "\n",
        "our_model = GecBERTModel(vocab_path='data/output_vocabulary',\n",
        "                             model_paths=[\"pre-trained-models/model_random.th\"],\n",
        "                             max_len=50, min_len=3,\n",
        "                             iterations=5,\n",
        "                             min_error_probability=0.55,\n",
        "                             lowercase_tokens=0,\n",
        "                             model_name='bert',\n",
        "                             special_tokens_fix=0,\n",
        "                             log=False,\n",
        "                             confidence=0.15,\n",
        "                             is_ensemble=0,\n",
        "                             weigths=None)"
      ],
      "execution_count": 8,
      "outputs": [
        {
          "output_type": "display_data",
          "data": {
            "application/vnd.jupyter.widget-view+json": {
              "model_id": "735190a1d2664f129db2a873de1ebfa1",
              "version_minor": 0,
              "version_major": 2
            },
            "text/plain": [
              "HBox(children=(FloatProgress(value=0.0, description='Downloading', max=213450.0, style=ProgressStyle(descripti…"
            ]
          },
          "metadata": {
            "tags": []
          }
        },
        {
          "output_type": "stream",
          "text": [
            "\n"
          ],
          "name": "stdout"
        },
        {
          "output_type": "display_data",
          "data": {
            "application/vnd.jupyter.widget-view+json": {
              "model_id": "bf3cd6817a354d13b1de1cdc58d7b260",
              "version_minor": 0,
              "version_major": 2
            },
            "text/plain": [
              "HBox(children=(FloatProgress(value=0.0, description='Downloading', max=433.0, style=ProgressStyle(description_…"
            ]
          },
          "metadata": {
            "tags": []
          }
        },
        {
          "output_type": "stream",
          "text": [
            "\n"
          ],
          "name": "stdout"
        },
        {
          "output_type": "display_data",
          "data": {
            "application/vnd.jupyter.widget-view+json": {
              "model_id": "1c10590d85d74c83a8c678df1a3e72c1",
              "version_minor": 0,
              "version_major": 2
            },
            "text/plain": [
              "HBox(children=(FloatProgress(value=0.0, description='Downloading', max=435779157.0, style=ProgressStyle(descri…"
            ]
          },
          "metadata": {
            "tags": []
          }
        },
        {
          "output_type": "stream",
          "text": [
            "\n"
          ],
          "name": "stdout"
        }
      ]
    },
    {
      "cell_type": "markdown",
      "metadata": {
        "id": "WDTEgeN7ACN4"
      },
      "source": [
        "Create a helper-function to visualise the changes:"
      ]
    },
    {
      "cell_type": "code",
      "metadata": {
        "id": "RDxkvfXJ2BM0"
      },
      "source": [
        "def visualise_changes(sentence, tags, label=None, color_options=None):\n",
        "  '''\n",
        "  Function to create a html which highlights the changes in a sentence\n",
        "\n",
        "  INPUT:\n",
        "  sentence        :   (str) sentence\n",
        "  tags            :   (list) List with tupel (start, end) of each tag\n",
        "  label           :   [optional] (list) Label for each index (e.g. \"ORG\")\n",
        "  color_options   :   [optional] (dict) color setting for each label\n",
        "\n",
        "  OUTPUT:\n",
        "  html            :   (html) visualization of tags\n",
        "  '''\n",
        "  # Create nlp object (without a NER tagger in the pipeline)\n",
        "  nlp = English()\n",
        "\n",
        "  # Tokenize the sentence\n",
        "  doc = nlp(sentence)\n",
        "\n",
        "  # Check if custom labels should be used\n",
        "  if label is None:\n",
        "    # Default: Create a Span for each match and assign the label \"PERTURBED\"\n",
        "    doc.ents = [Span(doc, start, end, label=\"PERTURBED\") for start, end in tags]\n",
        "\n",
        "    # Define coloring options\n",
        "    #color_options = {\"PERTURBED\": \"linear-gradient(90deg, #aa9cfc, #fc9ce7)\"}\n",
        "    color_options = {\"PERTURBED\": \"linear-gradient(90deg, rgba(170,156,252,0.5), rgba(252,156,231,0.5))\"}\n",
        "    options = {\"ents\": [\"PERTURBED\"], \"colors\": color_options}\n",
        "\n",
        "  else:\n",
        "    # Uppercase all labels\n",
        "    label = [label_.upper() for label_ in label]\n",
        "\n",
        "    # Otherwise use custom label\n",
        "    doc.ents = [Span(doc, start, end, label=label) for (start, end), label in zip(tags, label)]\n",
        "\n",
        "    # Get unique labels\n",
        "    unique_labels = list(set(label))\n",
        "\n",
        "    # Check if custom colors should be used\n",
        "    if color_options is None:\n",
        "\n",
        "      # Get the number of unique labels\n",
        "      n_labels = len(unique_labels)\n",
        "      \n",
        "      # Create background colors as rgb\n",
        "      rgb_vals = (cm.get_cmap('hsv')(np.linspace(0.05,0.6,2*n_labels))*255).astype(int)\n",
        "\n",
        "      color_options = {}\n",
        "\n",
        "      # Add colors\n",
        "      for i, label in enumerate(unique_labels):\n",
        "        #color_options[label] = \"rgba(\" + str(rgb_vals[i,0]) + \", \" + str(rgb_vals[i,1]) + \", \" + str(rgb_vals[i,2]) + \", \" + str(0.7) + \")\"\n",
        "        hex1 = '#%02x%02x%02x' % (rgb_vals[2*i,0], rgb_vals[2*i,1], rgb_vals[2*i,2])\n",
        "        hex2 = '#%02x%02x%02x' % (rgb_vals[2*i+1,0], rgb_vals[2*i+1,1], rgb_vals[2*i+1,2])\n",
        "        color_options[label] = \"linear-gradient(90deg, \" + hex1 + \", \" + hex2 + \")\"\n",
        "    \n",
        "    # Create the color options\n",
        "    options = {\"ents\": unique_labels, \"colors\": color_options}\n",
        "\n",
        "  # Create html and print output\n",
        "  html = displacy.render(doc, style=\"ent\", options=options)\n",
        "\n",
        "  # return modified doc\n",
        "  return html\n",
        "\n"
      ],
      "execution_count": 9,
      "outputs": []
    },
    {
      "cell_type": "markdown",
      "metadata": {
        "id": "bypVumxWAQbA"
      },
      "source": [
        "Get the names of all possible transformations:"
      ]
    },
    {
      "cell_type": "code",
      "metadata": {
        "id": "jZmaAoUxAc_U"
      },
      "source": [
        "with open('/content/gector/data/output_vocabulary/labels.txt') as f:\n",
        "    gector_label = f.readlines()\n",
        "    \n",
        "# remove whitespace characters like `\\n` at the end of each line\n",
        "gector_label = [x.strip() for x in gector_label] "
      ],
      "execution_count": 10,
      "outputs": []
    },
    {
      "cell_type": "markdown",
      "metadata": {
        "id": "dXSDCguQ9Bdp"
      },
      "source": [
        "# **Adversarial Training for Grammatical Error Correction**\n",
        "\n",
        "*David Byrne, Alan Jeffares, Robert McHardy, Nils Zerrer*\n",
        "\n",
        "This notebook provides a functional overview of the optimised Gector model as presented in our paper. The notebook consists of two parts:\n",
        "* The first part is a **personalised demo** where the different parts of the model can be tested using arbitrary examples\n",
        "* In the second part, specific improvements on pre-defined sentences are **showcased**"
      ]
    },
    {
      "cell_type": "markdown",
      "metadata": {
        "id": "d9SgiULpkvu0"
      },
      "source": [
        "## **Personalised demo**\n",
        "\n",
        "The section below contains a personalised demo. Please feel free to use different sentences and test the model."
      ]
    },
    {
      "cell_type": "markdown",
      "metadata": {
        "id": "TlHPUBZ8ltur"
      },
      "source": [
        "Please enter your example sentence below and **[run the cell]**:"
      ]
    },
    {
      "cell_type": "code",
      "metadata": {
        "id": "xqW-drlclDoT",
        "cellView": "form"
      },
      "source": [
        "user_sentence = \"He has ever been with me.\" #@param {type:\"string\"} \n",
        "\n",
        "perturbations, weights, tokens, indices = convert_sentence(user_sentence, '', our_model)"
      ],
      "execution_count": 11,
      "outputs": []
    },
    {
      "cell_type": "markdown",
      "metadata": {
        "id": "U9HGvae-GohL"
      },
      "source": [
        "### Attention weight"
      ]
    },
    {
      "cell_type": "markdown",
      "metadata": {
        "id": "p7S3CvV8pDjz"
      },
      "source": [
        "One of our main research questions was to analyse, whether sequence tagging models (specifically GECToR) is vulnerable to adversarial attacks (research question 1).\n",
        "Inspired by *Hsieh et al. (2019)*, we use the attention weight information from the first attention head (visualised below) to determine which token we want to perturb:"
      ]
    },
    {
      "cell_type": "markdown",
      "metadata": {
        "id": "tMHMqU4dmTv7"
      },
      "source": [
        "<p align=\"center\">\n",
        "<img src=\"https://raw.githubusercontent.com/RobMcH/gector/master/figures/attention_weights.svg\">\n",
        "</p>"
      ]
    },
    {
      "cell_type": "markdown",
      "metadata": {
        "id": "23TWZguyCHR4"
      },
      "source": [
        "In our paper we analyse three different approaches:\n",
        "\n",
        "* Perturb the token with maximum attention weight\n",
        "* Perturb the token with minimum attention weight\n",
        "* Perturb a random token\n",
        "\n",
        "We analysed whether the underlying Transformer architecture allows us to identify tokens that are most vulnerable to adversarial attachs (research question 2)."
      ]
    },
    {
      "cell_type": "code",
      "metadata": {
        "colab": {
          "base_uri": "https://localhost:8080/",
          "height": 411
        },
        "id": "00F_2jjVpcuj",
        "cellView": "form",
        "outputId": "64f702ec-bb69-4bbe-98f0-7ea27d27cd97"
      },
      "source": [
        "#@markdown **[run the cell]** For your given sentence from before, the attention weight is distributed as follows (the token with the maximum attention weight is highlighted in pink):\n",
        "weight = weights[0]\n",
        "\n",
        "x_pos = [i for i, _ in enumerate(tokens)]\n",
        "\n",
        "max_weight = weight.max()\n",
        "\n",
        "colors = []\n",
        "for val in weight:\n",
        "    if val == max_weight:\n",
        "        colors.append('tab:pink')\n",
        "    else:\n",
        "        colors.append('tab:cyan')\n",
        "\n",
        "#(0.0, 0.6875, 0.9375)\n",
        "\n",
        "plt.rcParams['xtick.labelsize']=12\n",
        "\n",
        "bar_width = max(1, len(max(tokens, key=len))*0.15)\n",
        "\n",
        "f, ax = plt.subplots(figsize=(bar_width*weight.size,6)) # set the size that you'd like (width, height)\n",
        "plt.bar(x_pos, weight, color=colors)\n",
        "plt.xlabel(\"token\")\n",
        "plt.ylabel(\"relative weight\")\n",
        "plt.title(\"relative weight from first attention head\")\n",
        "\n",
        "plt.xticks(x_pos, tokens)\n",
        "\n",
        "\n",
        "plt.show()"
      ],
      "execution_count": 12,
      "outputs": [
        {
          "output_type": "display_data",
          "data": {
            "image/png": "[encoded data removed]",
            "text/plain": [
              "<Figure size 504x432 with 1 Axes>"
            ]
          },
          "metadata": {
            "tags": []
          }
        }
      ]
    },
    {
      "cell_type": "markdown",
      "metadata": {
        "id": "2D3rjU0WGwUI"
      },
      "source": [
        "### Perturbation"
      ]
    },
    {
      "cell_type": "markdown",
      "metadata": {
        "id": "DiTKHFeSpc4T"
      },
      "source": [
        "The previous section introduced three different approaches to identify possible target tokens for the perturbation. After using one of these three methods to determine which token to perturb, we apply a rule-based perturbation. Doing this allows us to genereate a bunch of perturbed sentences as depicted below:"
      ]
    },
    {
      "cell_type": "markdown",
      "metadata": {
        "id": "Q1kKDkV-qQgL"
      },
      "source": [
        "<p align=\"center\">\n",
        "<img src=\"https://raw.githubusercontent.com/RobMcH/gector/master/figures/adversarial_sample_generation.svg\" width=\"600\"/>\n",
        "</p>"
      ]
    },
    {
      "cell_type": "markdown",
      "metadata": {
        "id": "W6mkWL6rEmsg"
      },
      "source": [
        "Note that this is a more sophisticated approach than simple data augmentation since we carry out attention-based token selection and a more specific perturbation. Using the perturbed sentences as additional training data allowed us to analyse whether this technique leads to more robustness and better generalisation performance (research question 3).\n",
        "\n",
        "As already mentioned, the perturbation is carried out based-on the following rules:"
      ]
    },
    {
      "cell_type": "markdown",
      "metadata": {
        "id": "PYFkfEWs930Y"
      },
      "source": [
        "<p align=\"center\">\n",
        "<img src=\"https://raw.githubusercontent.com/RobMcH/gector/master/figures/perturbation_rules.svg\" width=\"1000\"/>\n",
        "</p>"
      ]
    },
    {
      "cell_type": "markdown",
      "metadata": {
        "id": "NCl3fkIRJx5X"
      },
      "source": [
        "For example, if our token is a noun, we exchange the singular and plural form."
      ]
    },
    {
      "cell_type": "code",
      "metadata": {
        "colab": {
          "base_uri": "https://localhost:8080/",
          "height": 375
        },
        "id": "ugB05eERyLas",
        "cellView": "form",
        "outputId": "7e7f709b-a65a-4f4a-931a-d5e8bf6a7b37"
      },
      "source": [
        "#@markdown **[run the cell]** Based on the sentence you defined earlier, we would make the following perturbations (shown for all different token selection methods):\n",
        "\n",
        "printmd('**Original sentence:**')\n",
        "html = visualise_changes(user_sentence, [(0,0)])\n",
        "display(HTML(html))\n",
        "print('\\n')\n",
        "\n",
        "for i, perturbation in enumerate(perturbations):\n",
        "  if i == 0:\n",
        "    change_type = 'Perturbed token with maximum attention weight'\n",
        "  elif i == 1:\n",
        "    change_type = 'Perturbed token with minimum attention weight'\n",
        "  else:\n",
        "    change_type = 'Perturbed random token'\n",
        "\n",
        "  if indices[i] == -1:\n",
        "    html = visualise_changes(perturbation[0], [(0,0)])\n",
        "    printmd('**' + change_type + ' (removed token):**')\n",
        "  else:\n",
        "    html = visualise_changes(perturbation[0], [(indices[i],indices[i]+1)])\n",
        "    printmd('**' + change_type + ' :**')\n",
        "  display(HTML(html))\n",
        "\n",
        "  if i < 2:\n",
        "    print('\\n')"
      ],
      "execution_count": 13,
      "outputs": [
        {
          "output_type": "display_data",
          "data": {
            "text/markdown": "**Original sentence:**",
            "text/plain": [
              "<IPython.core.display.Markdown object>"
            ]
          },
          "metadata": {
            "tags": []
          }
        },
        {
          "output_type": "display_data",
          "data": {
            "text/html": [
              "<div class=\"entities\" style=\"line-height: 2.5; direction: ltr\">He has ever been with me.</div>"
            ],
            "text/plain": [
              "<IPython.core.display.HTML object>"
            ]
          },
          "metadata": {
            "tags": []
          }
        },
        {
          "output_type": "stream",
          "text": [
            "\n",
            "\n"
          ],
          "name": "stdout"
        },
        {
          "output_type": "display_data",
          "data": {
            "text/markdown": "**Perturbed token with maximum attention weight :**",
            "text/plain": [
              "<IPython.core.display.Markdown object>"
            ]
          },
          "metadata": {
            "tags": []
          }
        },
        {
          "output_type": "display_data",
          "data": {
            "text/html": [
              "<div class=\"entities\" style=\"line-height: 2.5; direction: ltr\">He has \n",
              "<mark class=\"entity\" style=\"background: linear-gradient(90deg, rgba(170,156,252,0.5), rgba(252,156,231,0.5)); padding: 0.45em 0.6em; margin: 0 0.25em; line-height: 1; border-radius: 0.35em; box-decoration-break: clone; -webkit-box-decoration-break: clone\">\n",
              "    ever\n",
              "    <span style=\"font-size: 0.8em; font-weight: bold; line-height: 1; border-radius: 0.35em; text-transform: uppercase; vertical-align: middle; margin-left: 0.5rem\">PERTURBED</span>\n",
              "</mark>\n",
              " been with me.</div>"
            ],
            "text/plain": [
              "<IPython.core.display.HTML object>"
            ]
          },
          "metadata": {
            "tags": []
          }
        },
        {
          "output_type": "stream",
          "text": [
            "\n",
            "\n"
          ],
          "name": "stdout"
        },
        {
          "output_type": "display_data",
          "data": {
            "text/markdown": "**Perturbed token with minimum attention weight :**",
            "text/plain": [
              "<IPython.core.display.Markdown object>"
            ]
          },
          "metadata": {
            "tags": []
          }
        },
        {
          "output_type": "display_data",
          "data": {
            "text/html": [
              "<div class=\"entities\" style=\"line-height: 2.5; direction: ltr\">He has ever been with \n",
              "<mark class=\"entity\" style=\"background: linear-gradient(90deg, rgba(170,156,252,0.5), rgba(252,156,231,0.5)); padding: 0.45em 0.6em; margin: 0 0.25em; line-height: 1; border-radius: 0.35em; box-decoration-break: clone; -webkit-box-decoration-break: clone\">\n",
              "    mine\n",
              "    <span style=\"font-size: 0.8em; font-weight: bold; line-height: 1; border-radius: 0.35em; text-transform: uppercase; vertical-align: middle; margin-left: 0.5rem\">PERTURBED</span>\n",
              "</mark>\n",
              " .</div>"
            ],
            "text/plain": [
              "<IPython.core.display.HTML object>"
            ]
          },
          "metadata": {
            "tags": []
          }
        },
        {
          "output_type": "stream",
          "text": [
            "\n",
            "\n"
          ],
          "name": "stdout"
        },
        {
          "output_type": "display_data",
          "data": {
            "text/markdown": "**Perturbed random token :**",
            "text/plain": [
              "<IPython.core.display.Markdown object>"
            ]
          },
          "metadata": {
            "tags": []
          }
        },
        {
          "output_type": "display_data",
          "data": {
            "text/html": [
              "<div class=\"entities\" style=\"line-height: 2.5; direction: ltr\">He has ever been with \n",
              "<mark class=\"entity\" style=\"background: linear-gradient(90deg, rgba(170,156,252,0.5), rgba(252,156,231,0.5)); padding: 0.45em 0.6em; margin: 0 0.25em; line-height: 1; border-radius: 0.35em; box-decoration-break: clone; -webkit-box-decoration-break: clone\">\n",
              "    i\n",
              "    <span style=\"font-size: 0.8em; font-weight: bold; line-height: 1; border-radius: 0.35em; text-transform: uppercase; vertical-align: middle; margin-left: 0.5rem\">PERTURBED</span>\n",
              "</mark>\n",
              " .</div>"
            ],
            "text/plain": [
              "<IPython.core.display.HTML object>"
            ]
          },
          "metadata": {
            "tags": []
          }
        }
      ]
    },
    {
      "cell_type": "markdown",
      "metadata": {
        "id": "79aDFeVTzVxU"
      },
      "source": [
        "### Tagging and Correction"
      ]
    },
    {
      "cell_type": "markdown",
      "metadata": {
        "id": "pF4J2XvmKr0K"
      },
      "source": [
        "The general structure of the GECToR pipeline is visualised below. At the bottom we can see the tokenised input sentence, which might have one or more grammatical mistakes. Within the pipeline, the tokens are put through a Transformer network (in our case: BERT) which is followed by linear layers. For each input token the model predicts a tag:\n",
        "\n",
        "* If the model thinks that no adaptions should be made at the given index position (change the token / append sth.) the model predicts the *$KEEP* token\n",
        "* Otherwise it predicts a specific operation\n",
        "\n",
        "Finally, the post-processing adapts the input sentence based-on the predicted tags from the transformer network.\n",
        "Following that, the output of the pipeline can be iteratively fed into the model again. As in the GECToR paper, we stop this process if either:\n",
        "\n",
        "* The model has made no changes to the input sentence\n",
        "* The maximum number of 5 iterations is reached"
      ]
    },
    {
      "cell_type": "markdown",
      "metadata": {
        "id": "FNeu6vgd5fe0"
      },
      "source": [
        "<p align=\"center\">\n",
        "<img src=\"https://raw.githubusercontent.com/RobMcH/gector/master/figures/gector_pipeline.svg\" width=\"600\"/>\n",
        "</p>\n",
        "\n"
      ]
    },
    {
      "cell_type": "markdown",
      "metadata": {
        "id": "wh4bKcSBPGbx"
      },
      "source": [
        "To get a better understanding for the process, the tagging and correction process is visualised below based-on your own sentence. You can select which model you want to use for the visualisation:\n",
        "* Ours: Our optimised model for which we achieved the best results (same as the baseline, but trained using the adversarial samples)\n",
        "* Baseline: The GECToR model based on the BERT transformer network\n",
        "\n",
        "The predictions are computed in real-time. To make the process even more transparent, we additionally visualised the predicted tags:"
      ]
    },
    {
      "cell_type": "code",
      "metadata": {
        "colab": {
          "base_uri": "https://localhost:8080/",
          "height": 277
        },
        "id": "-8YBniGdsuIc",
        "cellView": "form",
        "outputId": "c090abe2-4d96-4678-de48-65d49bd5c1b1"
      },
      "source": [
        "#@markdown **[run the cell]**\n",
        "model = \"Ours\" #@param [\"Ours\", \"Baseline\"]\n",
        "\n",
        "if model == 'Ours':\n",
        "  pred_model = our_model\n",
        "else:\n",
        "  pred_model = baseline_model\n",
        "\n",
        "printmd('**Original sentence:**')\n",
        "html = visualise_changes(user_sentence, [(0,0)])\n",
        "display(HTML(html))\n",
        "print('\\n')\n",
        "\n",
        "# Create nlp object\n",
        "nlp = English()\n",
        "\n",
        "# Tokenize the sentence\n",
        "tokens = [token.text for token in nlp(user_sentence)]\n",
        "\n",
        "# Make prediction\n",
        "pred_result = pred_model.handle_batch([tokens], True)\n",
        "\n",
        "# Get number of iterations until correct sentence / max iterations reached\n",
        "n_iterations = pred_result[1]\n",
        "\n",
        "# Counter for number of changes\n",
        "n_changes = 0\n",
        "\n",
        "# Array of input sentences after each iteration\n",
        "input_sentences = []\n",
        "\n",
        "# Create colors\n",
        "all_labels = []\n",
        "for i in range(n_iterations):\n",
        "  all_labels += pred_result[2][i][2][0]\n",
        "\n",
        "unique_labels = list(set([gector_label[label].upper() for label in all_labels]))\n",
        "\n",
        "n_labels = len(unique_labels)\n",
        "\n",
        "# Create background colors as rgb\n",
        "rgb_vals = (cm.get_cmap('hsv')(np.linspace(0.05,0.6,2*n_labels))*255).astype(int)\n",
        "\n",
        "color_options = {}\n",
        "\n",
        "# Add colors\n",
        "for i, label in enumerate(unique_labels):\n",
        "  #color_options[label] = \"rgba(\" + str(rgb_vals[i,0]) + \", \" + str(rgb_vals[i,1]) + \", \" + str(rgb_vals[i,2]) + \", \" + str(0.7) + \")\"\n",
        "  hex1 = '#%02x%02x%02x' % (rgb_vals[2*i,0], rgb_vals[2*i,1], rgb_vals[2*i,2])\n",
        "  hex2 = '#%02x%02x%02x' % (rgb_vals[2*i+1,0], rgb_vals[2*i+1,1], rgb_vals[2*i+1,2])\n",
        "  color_options[label] = \"linear-gradient(90deg, \" + hex1 + \", \" + hex2 + \")\"\n",
        "\n",
        "# For each iteration\n",
        "for i in range(n_iterations):\n",
        "  input_tokens = pred_result[2][i][0][0]\n",
        "  \n",
        "  predicted_tags = pred_result[2][i][2][0]\n",
        "\n",
        "  input_sentence = ''\n",
        "  n_tokens = len(input_tokens)\n",
        "\n",
        "  #for j, token in enumerate(input_tokens):\n",
        "  #  if j < (n_tokens-1):\n",
        "  #    input_sentence += token + ' '\n",
        "  #  else:\n",
        "  #    input_sentence += token\n",
        "  input_sentence = TreebankWordDetokenizer().detokenize(input_tokens)\n",
        "  \n",
        "  tag_indexes = []\n",
        "  label = []\n",
        "\n",
        "  if predicted_tags[0] == 0:\n",
        "    predicted_tags = predicted_tags[1:]\n",
        "  else:\n",
        "    input_sentence = '$ ' + input_sentence\n",
        "\n",
        "  for k, predicted_tag in enumerate(predicted_tags):\n",
        "    if not predicted_tag == 0:\n",
        "      tag_indexes.append((k, k+1))\n",
        "      label.append(gector_label[predicted_tag])\n",
        "\n",
        "  #if pred_result[2][i][3][0] > pred_model.min_error_probability:\n",
        "  printmd('**Iteration ' + str(i+1) + ':**')\n",
        "  html = visualise_changes(input_sentence, tag_indexes, label, color_options)\n",
        "  display(HTML(html))\n",
        "  print('\\n')\n",
        "  #else:\n",
        "printmd('**Model output:**')\n",
        "html = visualise_changes(TreebankWordDetokenizer().detokenize(pred_result[0][0]), [(0,0)])\n",
        "display(HTML(html))"
      ],
      "execution_count": 14,
      "outputs": [
        {
          "output_type": "display_data",
          "data": {
            "text/markdown": "**Original sentence:**",
            "text/plain": [
              "<IPython.core.display.Markdown object>"
            ]
          },
          "metadata": {
            "tags": []
          }
        },
        {
          "output_type": "display_data",
          "data": {
            "text/html": [
              "<div class=\"entities\" style=\"line-height: 2.5; direction: ltr\">He has ever been with me.</div>"
            ],
            "text/plain": [
              "<IPython.core.display.HTML object>"
            ]
          },
          "metadata": {
            "tags": []
          }
        },
        {
          "output_type": "stream",
          "text": [
            "\n",
            "\n"
          ],
          "name": "stdout"
        },
        {
          "output_type": "display_data",
          "data": {
            "text/markdown": "**Iteration 1:**",
            "text/plain": [
              "<IPython.core.display.Markdown object>"
            ]
          },
          "metadata": {
            "tags": []
          }
        },
        {
          "output_type": "display_data",
          "data": {
            "text/html": [
              "<div class=\"entities\" style=\"line-height: 2.5; direction: ltr\">He has \n",
              "<mark class=\"entity\" style=\"background: linear-gradient(90deg, #00ff74, #0074ff); padding: 0.45em 0.6em; margin: 0 0.25em; line-height: 1; border-radius: 0.35em; box-decoration-break: clone; -webkit-box-decoration-break: clone\">\n",
              "    ever\n",
              "    <span style=\"font-size: 0.8em; font-weight: bold; line-height: 1; border-radius: 0.35em; text-transform: uppercase; vertical-align: middle; margin-left: 0.5rem\">$REPLACE_ALWAYS</span>\n",
              "</mark>\n",
              " been with me.</div>"
            ],
            "text/plain": [
              "<IPython.core.display.HTML object>"
            ]
          },
          "metadata": {
            "tags": []
          }
        },
        {
          "output_type": "stream",
          "text": [
            "\n",
            "\n"
          ],
          "name": "stdout"
        },
        {
          "output_type": "display_data",
          "data": {
            "text/markdown": "**Model output:**",
            "text/plain": [
              "<IPython.core.display.Markdown object>"
            ]
          },
          "metadata": {
            "tags": []
          }
        },
        {
          "output_type": "display_data",
          "data": {
            "text/html": [
              "<div class=\"entities\" style=\"line-height: 2.5; direction: ltr\">He has always been with me.</div>"
            ],
            "text/plain": [
              "<IPython.core.display.HTML object>"
            ]
          },
          "metadata": {
            "tags": []
          }
        }
      ]
    },
    {
      "cell_type": "markdown",
      "metadata": {
        "id": "wSWPi1bt1cNF"
      },
      "source": [
        "## **Showcase**"
      ]
    },
    {
      "cell_type": "markdown",
      "metadata": {
        "id": "EURWOa8w1h80"
      },
      "source": [
        "In the following, we present the specific improvements for pre-defined sentences.\n",
        "As described in the paper, our model was able to:\n",
        "* Outperform the baseline model (based on BERT)\n",
        "* Develop some degree of roubstness against our adversarial attacks\n",
        "\n",
        "For those different scenarios, we prepared some example sentences below where those improvements become apparent."
      ]
    },
    {
      "cell_type": "markdown",
      "metadata": {
        "id": "E-bl7oqgFFYc"
      },
      "source": [
        "### General performance increase"
      ]
    },
    {
      "cell_type": "markdown",
      "metadata": {
        "id": "HKDoCdFGRKNy"
      },
      "source": [
        "As presented in the paper, we were able to achieve a significant performance increase using the rule-based perturbations. In particular, all models trained with the adversarially generated samples (no matter if wa made one or two perturbations), outperformed the baseline on the BEA-2019 test set (which is the state of the art dataset for grammatical error correction). The resulting $F_{0.5}$ scores for the different perturbation methods are shown in the bar chart below. Those results are more closely analysed in our paper."
      ]
    },
    {
      "cell_type": "markdown",
      "metadata": {
        "id": "T0IhNZtv-H44"
      },
      "source": [
        "<p align=\"center\">\n",
        "<img src=\"https://raw.githubusercontent.com/RobMcH/gector/master/figures/overall_results.svg\" width=\"1000\"/>\n",
        "</p>"
      ]
    },
    {
      "cell_type": "markdown",
      "metadata": {
        "id": "NYBg8KnSSkiK"
      },
      "source": [
        "We selected a few sentences from the BEA-2019 development set, which give a better intuition for the specific improvements:"
      ]
    },
    {
      "cell_type": "code",
      "metadata": {
        "colab": {
          "base_uri": "https://localhost:8080/",
          "height": 277
        },
        "cellView": "form",
        "id": "7Y3kJgLxJZPa",
        "outputId": "da86772a-b8e3-425b-e329-643b4a33638d"
      },
      "source": [
        "#@markdown **[run the cell]** The model (choose either ours or the basline) makes the following iterative corrections:\n",
        "model = \"Ours\" #@param [\"Ours\", \"Baseline\"]\n",
        "sentence = \"It is dynamic, stimulating and, even if it is not well remunerated, I feel myself satisfied.\" #@param [\"It is dynamic, stimulating and, even if it is not well remunerated, I feel myself satisfied.\", \"He has ever been with me.\", \"He started to think about how he could get better our lives and he found a solution.\", \"Michael closed the door and knew at the moment he made a mistake.\"]\n",
        "\n",
        "if model == 'Ours':\n",
        "  pred_model = our_model\n",
        "else:\n",
        "  pred_model = baseline_model\n",
        "\n",
        "printmd('**Original sentence:**')\n",
        "html = visualise_changes(sentence, [(0,0)])\n",
        "display(HTML(html))\n",
        "print('\\n')\n",
        "\n",
        "# Create nlp object\n",
        "nlp = English()\n",
        "\n",
        "# Tokenize the sentence\n",
        "tokens_predef = [token.text for token in nlp(sentence)]\n",
        "\n",
        "# Make prediction\n",
        "pred_result = pred_model.handle_batch([tokens_predef], True)\n",
        "\n",
        "# Get number of iterations until correct sentence / max iterations reached\n",
        "n_iterations = pred_result[1]\n",
        "\n",
        "# Counter for number of changes\n",
        "n_changes = 0\n",
        "\n",
        "# Array of input sentences after each iteration\n",
        "input_sentences = []\n",
        "\n",
        "# Create colors\n",
        "all_labels = []\n",
        "for i in range(n_iterations):\n",
        "  all_labels += pred_result[2][i][2][0]\n",
        "\n",
        "unique_labels = list(set([gector_label[label].upper() for label in all_labels]))\n",
        "\n",
        "n_labels = len(unique_labels)\n",
        "\n",
        "# Create background colors as rgb\n",
        "rgb_vals = (cm.get_cmap('hsv')(np.linspace(0.05,0.6,2*n_labels))*255).astype(int)\n",
        "\n",
        "color_options = {}\n",
        "\n",
        "# Add colors\n",
        "for i, label in enumerate(unique_labels):\n",
        "  #color_options[label] = \"rgba(\" + str(rgb_vals[i,0]) + \", \" + str(rgb_vals[i,1]) + \", \" + str(rgb_vals[i,2]) + \", \" + str(0.7) + \")\"\n",
        "  hex1 = '#%02x%02x%02x' % (rgb_vals[2*i,0], rgb_vals[2*i,1], rgb_vals[2*i,2])\n",
        "  hex2 = '#%02x%02x%02x' % (rgb_vals[2*i+1,0], rgb_vals[2*i+1,1], rgb_vals[2*i+1,2])\n",
        "  color_options[label] = \"linear-gradient(90deg, \" + hex1 + \", \" + hex2 + \")\"\n",
        "\n",
        "# For each iteration\n",
        "for i in range(n_iterations):\n",
        "  input_tokens = pred_result[2][i][0][0]\n",
        "  \n",
        "  predicted_tags = pred_result[2][i][2][0]\n",
        "\n",
        "  input_sentence = ''\n",
        "  n_tokens = len(input_tokens)\n",
        "\n",
        "  #for j, token in enumerate(input_tokens):\n",
        "  #  if j < (n_tokens-1):\n",
        "  #    input_sentence += token + ' '\n",
        "  #  else:\n",
        "  #    input_sentence += token\n",
        "  input_sentence = TreebankWordDetokenizer().detokenize(input_tokens)\n",
        "  \n",
        "  tag_indexes = []\n",
        "  label = []\n",
        "\n",
        "  if predicted_tags[0] == 0:\n",
        "    predicted_tags = predicted_tags[1:]\n",
        "  else:\n",
        "    input_sentence = '$ ' + input_sentence\n",
        "\n",
        "  for k, predicted_tag in enumerate(predicted_tags):\n",
        "    if not predicted_tag == 0:\n",
        "      tag_indexes.append((k, k+1))\n",
        "      label.append(gector_label[predicted_tag])\n",
        "\n",
        "  #if pred_result[2][i][3][0] > pred_model.min_error_probability:\n",
        "  printmd('**Iteration ' + str(i+1) + ':**')\n",
        "  html = visualise_changes(input_sentence, tag_indexes, label, color_options)\n",
        "  display(HTML(html))\n",
        "  print('\\n')\n",
        "  #else:\n",
        "printmd('**Model output:**')\n",
        "html = visualise_changes(TreebankWordDetokenizer().detokenize(pred_result[0][0]), [(0,0)])\n",
        "display(HTML(html))"
      ],
      "execution_count": 33,
      "outputs": [
        {
          "output_type": "display_data",
          "data": {
            "text/markdown": "**Original sentence:**",
            "text/plain": [
              "<IPython.core.display.Markdown object>"
            ]
          },
          "metadata": {
            "tags": []
          }
        },
        {
          "output_type": "display_data",
          "data": {
            "text/html": [
              "<div class=\"entities\" style=\"line-height: 2.5; direction: ltr\">It is dynamic, stimulating and, even if it is not well remunerated, I feel myself satisfied.</div>"
            ],
            "text/plain": [
              "<IPython.core.display.HTML object>"
            ]
          },
          "metadata": {
            "tags": []
          }
        },
        {
          "output_type": "stream",
          "text": [
            "\n",
            "\n"
          ],
          "name": "stdout"
        },
        {
          "output_type": "display_data",
          "data": {
            "text/markdown": "**Iteration 1:**",
            "text/plain": [
              "<IPython.core.display.Markdown object>"
            ]
          },
          "metadata": {
            "tags": []
          }
        },
        {
          "output_type": "display_data",
          "data": {
            "text/html": [
              "<div class=\"entities\" style=\"line-height: 2.5; direction: ltr\">It is dynamic, stimulating and, even if it is not well remunerated, I feel \n",
              "<mark class=\"entity\" style=\"background: linear-gradient(90deg, #ff4600, #a1ff00); padding: 0.45em 0.6em; margin: 0 0.25em; line-height: 1; border-radius: 0.35em; box-decoration-break: clone; -webkit-box-decoration-break: clone\">\n",
              "    myself\n",
              "    <span style=\"font-size: 0.8em; font-weight: bold; line-height: 1; border-radius: 0.35em; text-transform: uppercase; vertical-align: middle; margin-left: 0.5rem\">$DELETE</span>\n",
              "</mark>\n",
              " satisfied.</div>"
            ],
            "text/plain": [
              "<IPython.core.display.HTML object>"
            ]
          },
          "metadata": {
            "tags": []
          }
        },
        {
          "output_type": "stream",
          "text": [
            "\n",
            "\n"
          ],
          "name": "stdout"
        },
        {
          "output_type": "display_data",
          "data": {
            "text/markdown": "**Model output:**",
            "text/plain": [
              "<IPython.core.display.Markdown object>"
            ]
          },
          "metadata": {
            "tags": []
          }
        },
        {
          "output_type": "display_data",
          "data": {
            "text/html": [
              "<div class=\"entities\" style=\"line-height: 2.5; direction: ltr\">It is dynamic, stimulating and, even if it is not well remunerated, I feel satisfied.</div>"
            ],
            "text/plain": [
              "<IPython.core.display.HTML object>"
            ]
          },
          "metadata": {
            "tags": []
          }
        }
      ]
    },
    {
      "cell_type": "markdown",
      "metadata": {
        "id": "hgDsIvI4Qab8"
      },
      "source": [
        "### Increased robustness"
      ]
    },
    {
      "cell_type": "markdown",
      "metadata": {
        "id": "web5zlOnTXSB"
      },
      "source": [
        "Additionally we carried out experiments to compare whether out approach increases the robustness of the model. \n",
        "For this, we optimised the baseline model based on three different datasets:\n",
        "* A dataset where we perturbed a randomly selected token\n",
        "* A dataset where we perturbed the token with minimum attention weight in the first attention head\n",
        "* A dataset where we perturbed the token with maximum attention weight in the first attention head\n",
        "\n",
        "After that we attacked those three models (and the baseline) with new sentences.\n",
        "For those new sentences, we carried out the following attacks:\n",
        "* Perturb a random token\n",
        "* Perturb the token with minimum attention weight in the first attention head\n",
        "* Perturb the token with maximum attention weight in the first attention head\n",
        "\n",
        "As can be seen in the bar chart below: In each case, the model which was trained on the data that already included the same kind of attacks, turned out to be superior.\n",
        "Additionally, note that the robustness against all attacks increased in all experiments (compared to the baseline)."
      ]
    },
    {
      "cell_type": "markdown",
      "metadata": {
        "id": "TTPLnhrH-Qcm"
      },
      "source": [
        "<p align=\"center\">\n",
        "<img src=\"https://raw.githubusercontent.com/RobMcH/gector/master/figures/robustness_results.svg\" width=\"1000\"/>\n",
        "</p>"
      ]
    },
    {
      "cell_type": "markdown",
      "metadata": {
        "id": "PexnDqQmWtu5"
      },
      "source": [
        "As before, we selected some examples from the BEA-2019 development set. In the selected cases, the baseline model predicts that the perturbed sentences are still correct, which clearly is not the case. However, as already demonstrated in our experiments, our optimised model has developped some degree of robustness against those attacks."
      ]
    },
    {
      "cell_type": "code",
      "metadata": {
        "colab": {
          "base_uri": "https://localhost:8080/",
          "height": 179
        },
        "id": "O9RQxPt6Qh6H",
        "cellView": "form",
        "outputId": "8b446310-bb11-44fd-c4c8-12d0cb0907ff"
      },
      "source": [
        "#@markdown **[run the cell]** The model (choose either ours or the basline) makes the following iterative corrections:\n",
        "model = \"Ours\" #@param [\"Ours\", \"Baseline\"]\n",
        "sentence = \"good mornings.\" #@param [\"good mornings.\", \"The city where mine live is a small village.\", \"I went with my parents my sister.\", \"There is no point in saying publically transport has no future.\"]\n",
        "\n",
        "if model == 'Ours':\n",
        "  pred_model = our_model\n",
        "else:\n",
        "  pred_model = baseline_model\n",
        "\n",
        "\n",
        "if sentence == \"good mornings.\":\n",
        "  printmd('**Pertubed sentence:**')\n",
        "  html = visualise_changes(sentence, [(1,2)])\n",
        "elif sentence == \"The city where mine live is a small village.\":\n",
        "  printmd('**Pertubed sentence:**')\n",
        "  html = visualise_changes(sentence, [(3,4)])\n",
        "elif sentence == \"I went with my parents my sister.\":\n",
        "  printmd('**Pertubed sentence (removed *and*-token):**')\n",
        "  html = visualise_changes(sentence, [(0,0)])\n",
        "else:\n",
        "  printmd('**Pertubed sentence:**')\n",
        "  html = visualise_changes(sentence, [(6,7)])\n",
        "\n",
        "display(HTML(html))\n",
        "print('\\n')\n",
        "\n",
        "# Create nlp object\n",
        "nlp = English()\n",
        "\n",
        "# Tokenize the random perturberd sentence\n",
        "tokens_predef = [token.text for token in nlp(sentence)]\n",
        "\n",
        "# Make prediction\n",
        "pred_result = pred_model.handle_batch([tokens_predef], True)\n",
        "\n",
        "# Get number of iterations until correct sentence / max iterations reached\n",
        "n_iterations = pred_result[1]\n",
        "\n",
        "# Counter for number of changes\n",
        "n_changes = 0\n",
        "\n",
        "# Array of input sentences after each iteration\n",
        "input_sentences = []\n",
        "\n",
        "# Create colors\n",
        "all_labels = []\n",
        "for i in range(n_iterations):\n",
        "  all_labels += pred_result[2][i][2][0]\n",
        "\n",
        "unique_labels = list(set([gector_label[label].upper() for label in all_labels]))\n",
        "\n",
        "n_labels = len(unique_labels)\n",
        "\n",
        "# Create background colors as rgb\n",
        "rgb_vals = (cm.get_cmap('hsv')(np.linspace(0.05,0.6,2*n_labels))*255).astype(int)\n",
        "\n",
        "color_options = {}\n",
        "\n",
        "# Add colors\n",
        "for i, label in enumerate(unique_labels):\n",
        "  #color_options[label] = \"rgba(\" + str(rgb_vals[i,0]) + \", \" + str(rgb_vals[i,1]) + \", \" + str(rgb_vals[i,2]) + \", \" + str(0.7) + \")\"\n",
        "  hex1 = '#%02x%02x%02x' % (rgb_vals[2*i,0], rgb_vals[2*i,1], rgb_vals[2*i,2])\n",
        "  hex2 = '#%02x%02x%02x' % (rgb_vals[2*i+1,0], rgb_vals[2*i+1,1], rgb_vals[2*i+1,2])\n",
        "  color_options[label] = \"linear-gradient(90deg, \" + hex1 + \", \" + hex2 + \")\"\n",
        "\n",
        "# For each iteration\n",
        "for i in range(n_iterations):\n",
        "  input_tokens = pred_result[2][i][0][0]\n",
        "  \n",
        "  predicted_tags = pred_result[2][i][2][0]\n",
        "\n",
        "  input_sentence = ''\n",
        "  n_tokens = len(input_tokens)\n",
        "\n",
        "  #for j, token in enumerate(input_tokens):\n",
        "  #  if j < (n_tokens-1):\n",
        "  #    input_sentence += token + ' '\n",
        "  #  else:\n",
        "  #    input_sentence += token\n",
        "  input_sentence = TreebankWordDetokenizer().detokenize(input_tokens)\n",
        "  \n",
        "  tag_indexes = []\n",
        "  label = []\n",
        "\n",
        "  if predicted_tags[0] == 0:\n",
        "    predicted_tags = predicted_tags[1:]\n",
        "  else:\n",
        "    input_sentence = '$ ' + input_sentence\n",
        "\n",
        "  for k, predicted_tag in enumerate(predicted_tags):\n",
        "    if not predicted_tag == 0:\n",
        "      tag_indexes.append((k, k+1))\n",
        "      label.append(gector_label[predicted_tag])\n",
        "\n",
        "\n",
        "  #if pred_result[2][i][3][0] > pred_model.min_error_probability:\n",
        "  printmd('**Iteration ' + str(i+1) + ':**')\n",
        "  html = visualise_changes(input_sentence, tag_indexes, label, color_options)\n",
        "  display(HTML(html))\n",
        "  print('\\n')\n",
        "  #else:\n",
        "printmd('**Model output:**')\n",
        "html = visualise_changes(TreebankWordDetokenizer().detokenize(pred_result[0][0]), [(0,0)])\n",
        "display(HTML(html))"
      ],
      "execution_count": 26,
      "outputs": [
        {
          "output_type": "display_data",
          "data": {
            "text/markdown": "**Pertubed sentence:**",
            "text/plain": [
              "<IPython.core.display.Markdown object>"
            ]
          },
          "metadata": {
            "tags": []
          }
        },
        {
          "output_type": "display_data",
          "data": {
            "text/html": [
              "<div class=\"entities\" style=\"line-height: 2.5; direction: ltr\">There is no point in saying \n",
              "<mark class=\"entity\" style=\"background: linear-gradient(90deg, rgba(170,156,252,0.5), rgba(252,156,231,0.5)); padding: 0.45em 0.6em; margin: 0 0.25em; line-height: 1; border-radius: 0.35em; box-decoration-break: clone; -webkit-box-decoration-break: clone\">\n",
              "    publically\n",
              "    <span style=\"font-size: 0.8em; font-weight: bold; line-height: 1; border-radius: 0.35em; text-transform: uppercase; vertical-align: middle; margin-left: 0.5rem\">PERTURBED</span>\n",
              "</mark>\n",
              " transport has no future.</div>"
            ],
            "text/plain": [
              "<IPython.core.display.HTML object>"
            ]
          },
          "metadata": {
            "tags": []
          }
        },
        {
          "output_type": "stream",
          "text": [
            "\n",
            "\n"
          ],
          "name": "stdout"
        },
        {
          "output_type": "display_data",
          "data": {
            "text/markdown": "**Model output:**",
            "text/plain": [
              "<IPython.core.display.Markdown object>"
            ]
          },
          "metadata": {
            "tags": []
          }
        },
        {
          "output_type": "display_data",
          "data": {
            "text/html": [
              "<div class=\"entities\" style=\"line-height: 2.5; direction: ltr\">There is no point in saying publically transport has no future.</div>"
            ],
            "text/plain": [
              "<IPython.core.display.HTML object>"
            ]
          },
          "metadata": {
            "tags": []
          }
        }
      ]
    }
  ]
}