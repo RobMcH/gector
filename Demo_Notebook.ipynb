{
  "nbformat": 4,
  "nbformat_minor": 0,
  "metadata": {
    "colab": {
      "name": "Demo_Notebook.ipynb",
      "provenance": [],
      "collapsed_sections": [],
      "toc_visible": true,
      "authorship_tag": "ABX9TyO8qkdBK5EMRT8LQtSp2U5t",
      "include_colab_link": true
    },
    "kernelspec": {
      "name": "python3",
      "display_name": "Python 3"
    },
    "language_info": {
      "name": "python"
    },
    "widgets": {
      "application/vnd.jupyter.widget-state+json": {
        "0cd3e79c8d064bb3af61a04e062cc3dc": {
          "model_module": "@jupyter-widgets/controls",
          "model_name": "HBoxModel",
          "state": {
            "_view_name": "HBoxView",
            "_dom_classes": [],
            "_model_name": "HBoxModel",
            "_view_module": "@jupyter-widgets/controls",
            "_model_module_version": "1.5.0",
            "_view_count": null,
            "_view_module_version": "1.5.0",
            "box_style": "",
            "layout": "IPY_MODEL_61a7da4beb42492daa297f5d78ebfb1e",
            "_model_module": "@jupyter-widgets/controls",
            "children": [
              "IPY_MODEL_69fa25c97d1b4eeb828835300ad99123",
              "IPY_MODEL_afaa4fe2e8eb4a86a3ba811eb88e5443"
            ]
          }
        },
        "61a7da4beb42492daa297f5d78ebfb1e": {
          "model_module": "@jupyter-widgets/base",
          "model_name": "LayoutModel",
          "state": {
            "_view_name": "LayoutView",
            "grid_template_rows": null,
            "right": null,
            "justify_content": null,
            "_view_module": "@jupyter-widgets/base",
            "overflow": null,
            "_model_module_version": "1.2.0",
            "_view_count": null,
            "flex_flow": null,
            "width": null,
            "min_width": null,
            "border": null,
            "align_items": null,
            "bottom": null,
            "_model_module": "@jupyter-widgets/base",
            "top": null,
            "grid_column": null,
            "overflow_y": null,
            "overflow_x": null,
            "grid_auto_flow": null,
            "grid_area": null,
            "grid_template_columns": null,
            "flex": null,
            "_model_name": "LayoutModel",
            "justify_items": null,
            "grid_row": null,
            "max_height": null,
            "align_content": null,
            "visibility": null,
            "align_self": null,
            "height": null,
            "min_height": null,
            "padding": null,
            "grid_auto_rows": null,
            "grid_gap": null,
            "max_width": null,
            "order": null,
            "_view_module_version": "1.2.0",
            "grid_template_areas": null,
            "object_position": null,
            "object_fit": null,
            "grid_auto_columns": null,
            "margin": null,
            "display": null,
            "left": null
          }
        },
        "69fa25c97d1b4eeb828835300ad99123": {
          "model_module": "@jupyter-widgets/controls",
          "model_name": "FloatProgressModel",
          "state": {
            "_view_name": "ProgressView",
            "style": "IPY_MODEL_d4bffe6b9c3e4584bc92a9f4e7490d00",
            "_dom_classes": [],
            "description": "Downloading: 100%",
            "_model_name": "FloatProgressModel",
            "bar_style": "success",
            "max": 213450,
            "_view_module": "@jupyter-widgets/controls",
            "_model_module_version": "1.5.0",
            "value": 213450,
            "_view_count": null,
            "_view_module_version": "1.5.0",
            "orientation": "horizontal",
            "min": 0,
            "description_tooltip": null,
            "_model_module": "@jupyter-widgets/controls",
            "layout": "IPY_MODEL_d4c51e9a72bb439aba1e67eda1b74c65"
          }
        },
        "afaa4fe2e8eb4a86a3ba811eb88e5443": {
          "model_module": "@jupyter-widgets/controls",
          "model_name": "HTMLModel",
          "state": {
            "_view_name": "HTMLView",
            "style": "IPY_MODEL_7f85f9064f7f405486863aaea087bc7c",
            "_dom_classes": [],
            "description": "",
            "_model_name": "HTMLModel",
            "placeholder": "​",
            "_view_module": "@jupyter-widgets/controls",
            "_model_module_version": "1.5.0",
            "value": " 213k/213k [00:00&lt;00:00, 279kB/s]",
            "_view_count": null,
            "_view_module_version": "1.5.0",
            "description_tooltip": null,
            "_model_module": "@jupyter-widgets/controls",
            "layout": "IPY_MODEL_a06601cdb0d84174b254389429133748"
          }
        },
        "d4bffe6b9c3e4584bc92a9f4e7490d00": {
          "model_module": "@jupyter-widgets/controls",
          "model_name": "ProgressStyleModel",
          "state": {
            "_view_name": "StyleView",
            "_model_name": "ProgressStyleModel",
            "description_width": "initial",
            "_view_module": "@jupyter-widgets/base",
            "_model_module_version": "1.5.0",
            "_view_count": null,
            "_view_module_version": "1.2.0",
            "bar_color": null,
            "_model_module": "@jupyter-widgets/controls"
          }
        },
        "d4c51e9a72bb439aba1e67eda1b74c65": {
          "model_module": "@jupyter-widgets/base",
          "model_name": "LayoutModel",
          "state": {
            "_view_name": "LayoutView",
            "grid_template_rows": null,
            "right": null,
            "justify_content": null,
            "_view_module": "@jupyter-widgets/base",
            "overflow": null,
            "_model_module_version": "1.2.0",
            "_view_count": null,
            "flex_flow": null,
            "width": null,
            "min_width": null,
            "border": null,
            "align_items": null,
            "bottom": null,
            "_model_module": "@jupyter-widgets/base",
            "top": null,
            "grid_column": null,
            "overflow_y": null,
            "overflow_x": null,
            "grid_auto_flow": null,
            "grid_area": null,
            "grid_template_columns": null,
            "flex": null,
            "_model_name": "LayoutModel",
            "justify_items": null,
            "grid_row": null,
            "max_height": null,
            "align_content": null,
            "visibility": null,
            "align_self": null,
            "height": null,
            "min_height": null,
            "padding": null,
            "grid_auto_rows": null,
            "grid_gap": null,
            "max_width": null,
            "order": null,
            "_view_module_version": "1.2.0",
            "grid_template_areas": null,
            "object_position": null,
            "object_fit": null,
            "grid_auto_columns": null,
            "margin": null,
            "display": null,
            "left": null
          }
        },
        "7f85f9064f7f405486863aaea087bc7c": {
          "model_module": "@jupyter-widgets/controls",
          "model_name": "DescriptionStyleModel",
          "state": {
            "_view_name": "StyleView",
            "_model_name": "DescriptionStyleModel",
            "description_width": "",
            "_view_module": "@jupyter-widgets/base",
            "_model_module_version": "1.5.0",
            "_view_count": null,
            "_view_module_version": "1.2.0",
            "_model_module": "@jupyter-widgets/controls"
          }
        },
        "a06601cdb0d84174b254389429133748": {
          "model_module": "@jupyter-widgets/base",
          "model_name": "LayoutModel",
          "state": {
            "_view_name": "LayoutView",
            "grid_template_rows": null,
            "right": null,
            "justify_content": null,
            "_view_module": "@jupyter-widgets/base",
            "overflow": null,
            "_model_module_version": "1.2.0",
            "_view_count": null,
            "flex_flow": null,
            "width": null,
            "min_width": null,
            "border": null,
            "align_items": null,
            "bottom": null,
            "_model_module": "@jupyter-widgets/base",
            "top": null,
            "grid_column": null,
            "overflow_y": null,
            "overflow_x": null,
            "grid_auto_flow": null,
            "grid_area": null,
            "grid_template_columns": null,
            "flex": null,
            "_model_name": "LayoutModel",
            "justify_items": null,
            "grid_row": null,
            "max_height": null,
            "align_content": null,
            "visibility": null,
            "align_self": null,
            "height": null,
            "min_height": null,
            "padding": null,
            "grid_auto_rows": null,
            "grid_gap": null,
            "max_width": null,
            "order": null,
            "_view_module_version": "1.2.0",
            "grid_template_areas": null,
            "object_position": null,
            "object_fit": null,
            "grid_auto_columns": null,
            "margin": null,
            "display": null,
            "left": null
          }
        },
        "efa9f1a40cc94d9294db9cd6ec7ec7b2": {
          "model_module": "@jupyter-widgets/controls",
          "model_name": "HBoxModel",
          "state": {
            "_view_name": "HBoxView",
            "_dom_classes": [],
            "_model_name": "HBoxModel",
            "_view_module": "@jupyter-widgets/controls",
            "_model_module_version": "1.5.0",
            "_view_count": null,
            "_view_module_version": "1.5.0",
            "box_style": "",
            "layout": "IPY_MODEL_d08349d2c60a4e80bfed1e4f3fc9b2b7",
            "_model_module": "@jupyter-widgets/controls",
            "children": [
              "IPY_MODEL_4609d0c0b4ef4ab08c6399051831999e",
              "IPY_MODEL_4bba948d19f345998e46818df3b815fc"
            ]
          }
        },
        "d08349d2c60a4e80bfed1e4f3fc9b2b7": {
          "model_module": "@jupyter-widgets/base",
          "model_name": "LayoutModel",
          "state": {
            "_view_name": "LayoutView",
            "grid_template_rows": null,
            "right": null,
            "justify_content": null,
            "_view_module": "@jupyter-widgets/base",
            "overflow": null,
            "_model_module_version": "1.2.0",
            "_view_count": null,
            "flex_flow": null,
            "width": null,
            "min_width": null,
            "border": null,
            "align_items": null,
            "bottom": null,
            "_model_module": "@jupyter-widgets/base",
            "top": null,
            "grid_column": null,
            "overflow_y": null,
            "overflow_x": null,
            "grid_auto_flow": null,
            "grid_area": null,
            "grid_template_columns": null,
            "flex": null,
            "_model_name": "LayoutModel",
            "justify_items": null,
            "grid_row": null,
            "max_height": null,
            "align_content": null,
            "visibility": null,
            "align_self": null,
            "height": null,
            "min_height": null,
            "padding": null,
            "grid_auto_rows": null,
            "grid_gap": null,
            "max_width": null,
            "order": null,
            "_view_module_version": "1.2.0",
            "grid_template_areas": null,
            "object_position": null,
            "object_fit": null,
            "grid_auto_columns": null,
            "margin": null,
            "display": null,
            "left": null
          }
        },
        "4609d0c0b4ef4ab08c6399051831999e": {
          "model_module": "@jupyter-widgets/controls",
          "model_name": "FloatProgressModel",
          "state": {
            "_view_name": "ProgressView",
            "style": "IPY_MODEL_2f164c1c8e95428fb4f135026613ec0e",
            "_dom_classes": [],
            "description": "Downloading: 100%",
            "_model_name": "FloatProgressModel",
            "bar_style": "success",
            "max": 433,
            "_view_module": "@jupyter-widgets/controls",
            "_model_module_version": "1.5.0",
            "value": 433,
            "_view_count": null,
            "_view_module_version": "1.5.0",
            "orientation": "horizontal",
            "min": 0,
            "description_tooltip": null,
            "_model_module": "@jupyter-widgets/controls",
            "layout": "IPY_MODEL_14687fb6dc744c65bde0e2762eee475b"
          }
        },
        "4bba948d19f345998e46818df3b815fc": {
          "model_module": "@jupyter-widgets/controls",
          "model_name": "HTMLModel",
          "state": {
            "_view_name": "HTMLView",
            "style": "IPY_MODEL_61b5966fe48b4936b035a60fb4e04af2",
            "_dom_classes": [],
            "description": "",
            "_model_name": "HTMLModel",
            "placeholder": "​",
            "_view_module": "@jupyter-widgets/controls",
            "_model_module_version": "1.5.0",
            "value": " 433/433 [00:34&lt;00:00, 12.5B/s]",
            "_view_count": null,
            "_view_module_version": "1.5.0",
            "description_tooltip": null,
            "_model_module": "@jupyter-widgets/controls",
            "layout": "IPY_MODEL_f793dc2be20e4f4480e724d8cdad0182"
          }
        },
        "2f164c1c8e95428fb4f135026613ec0e": {
          "model_module": "@jupyter-widgets/controls",
          "model_name": "ProgressStyleModel",
          "state": {
            "_view_name": "StyleView",
            "_model_name": "ProgressStyleModel",
            "description_width": "initial",
            "_view_module": "@jupyter-widgets/base",
            "_model_module_version": "1.5.0",
            "_view_count": null,
            "_view_module_version": "1.2.0",
            "bar_color": null,
            "_model_module": "@jupyter-widgets/controls"
          }
        },
        "14687fb6dc744c65bde0e2762eee475b": {
          "model_module": "@jupyter-widgets/base",
          "model_name": "LayoutModel",
          "state": {
            "_view_name": "LayoutView",
            "grid_template_rows": null,
            "right": null,
            "justify_content": null,
            "_view_module": "@jupyter-widgets/base",
            "overflow": null,
            "_model_module_version": "1.2.0",
            "_view_count": null,
            "flex_flow": null,
            "width": null,
            "min_width": null,
            "border": null,
            "align_items": null,
            "bottom": null,
            "_model_module": "@jupyter-widgets/base",
            "top": null,
            "grid_column": null,
            "overflow_y": null,
            "overflow_x": null,
            "grid_auto_flow": null,
            "grid_area": null,
            "grid_template_columns": null,
            "flex": null,
            "_model_name": "LayoutModel",
            "justify_items": null,
            "grid_row": null,
            "max_height": null,
            "align_content": null,
            "visibility": null,
            "align_self": null,
            "height": null,
            "min_height": null,
            "padding": null,
            "grid_auto_rows": null,
            "grid_gap": null,
            "max_width": null,
            "order": null,
            "_view_module_version": "1.2.0",
            "grid_template_areas": null,
            "object_position": null,
            "object_fit": null,
            "grid_auto_columns": null,
            "margin": null,
            "display": null,
            "left": null
          }
        },
        "61b5966fe48b4936b035a60fb4e04af2": {
          "model_module": "@jupyter-widgets/controls",
          "model_name": "DescriptionStyleModel",
          "state": {
            "_view_name": "StyleView",
            "_model_name": "DescriptionStyleModel",
            "description_width": "",
            "_view_module": "@jupyter-widgets/base",
            "_model_module_version": "1.5.0",
            "_view_count": null,
            "_view_module_version": "1.2.0",
            "_model_module": "@jupyter-widgets/controls"
          }
        },
        "f793dc2be20e4f4480e724d8cdad0182": {
          "model_module": "@jupyter-widgets/base",
          "model_name": "LayoutModel",
          "state": {
            "_view_name": "LayoutView",
            "grid_template_rows": null,
            "right": null,
            "justify_content": null,
            "_view_module": "@jupyter-widgets/base",
            "overflow": null,
            "_model_module_version": "1.2.0",
            "_view_count": null,
            "flex_flow": null,
            "width": null,
            "min_width": null,
            "border": null,
            "align_items": null,
            "bottom": null,
            "_model_module": "@jupyter-widgets/base",
            "top": null,
            "grid_column": null,
            "overflow_y": null,
            "overflow_x": null,
            "grid_auto_flow": null,
            "grid_area": null,
            "grid_template_columns": null,
            "flex": null,
            "_model_name": "LayoutModel",
            "justify_items": null,
            "grid_row": null,
            "max_height": null,
            "align_content": null,
            "visibility": null,
            "align_self": null,
            "height": null,
            "min_height": null,
            "padding": null,
            "grid_auto_rows": null,
            "grid_gap": null,
            "max_width": null,
            "order": null,
            "_view_module_version": "1.2.0",
            "grid_template_areas": null,
            "object_position": null,
            "object_fit": null,
            "grid_auto_columns": null,
            "margin": null,
            "display": null,
            "left": null
          }
        },
        "a5e097eaf00b44029414e213dfd1f4b0": {
          "model_module": "@jupyter-widgets/controls",
          "model_name": "HBoxModel",
          "state": {
            "_view_name": "HBoxView",
            "_dom_classes": [],
            "_model_name": "HBoxModel",
            "_view_module": "@jupyter-widgets/controls",
            "_model_module_version": "1.5.0",
            "_view_count": null,
            "_view_module_version": "1.5.0",
            "box_style": "",
            "layout": "IPY_MODEL_defb9fc2efdb4fd2a807a622dfe21270",
            "_model_module": "@jupyter-widgets/controls",
            "children": [
              "IPY_MODEL_3b4d746300124c60a260806b3d5eeaf2",
              "IPY_MODEL_7d9e27add6f74807a773b09b08cd3384"
            ]
          }
        },
        "defb9fc2efdb4fd2a807a622dfe21270": {
          "model_module": "@jupyter-widgets/base",
          "model_name": "LayoutModel",
          "state": {
            "_view_name": "LayoutView",
            "grid_template_rows": null,
            "right": null,
            "justify_content": null,
            "_view_module": "@jupyter-widgets/base",
            "overflow": null,
            "_model_module_version": "1.2.0",
            "_view_count": null,
            "flex_flow": null,
            "width": null,
            "min_width": null,
            "border": null,
            "align_items": null,
            "bottom": null,
            "_model_module": "@jupyter-widgets/base",
            "top": null,
            "grid_column": null,
            "overflow_y": null,
            "overflow_x": null,
            "grid_auto_flow": null,
            "grid_area": null,
            "grid_template_columns": null,
            "flex": null,
            "_model_name": "LayoutModel",
            "justify_items": null,
            "grid_row": null,
            "max_height": null,
            "align_content": null,
            "visibility": null,
            "align_self": null,
            "height": null,
            "min_height": null,
            "padding": null,
            "grid_auto_rows": null,
            "grid_gap": null,
            "max_width": null,
            "order": null,
            "_view_module_version": "1.2.0",
            "grid_template_areas": null,
            "object_position": null,
            "object_fit": null,
            "grid_auto_columns": null,
            "margin": null,
            "display": null,
            "left": null
          }
        },
        "3b4d746300124c60a260806b3d5eeaf2": {
          "model_module": "@jupyter-widgets/controls",
          "model_name": "FloatProgressModel",
          "state": {
            "_view_name": "ProgressView",
            "style": "IPY_MODEL_9d6f289a613b4bf2b7caba10daea699a",
            "_dom_classes": [],
            "description": "Downloading: 100%",
            "_model_name": "FloatProgressModel",
            "bar_style": "success",
            "max": 435779157,
            "_view_module": "@jupyter-widgets/controls",
            "_model_module_version": "1.5.0",
            "value": 435779157,
            "_view_count": null,
            "_view_module_version": "1.5.0",
            "orientation": "horizontal",
            "min": 0,
            "description_tooltip": null,
            "_model_module": "@jupyter-widgets/controls",
            "layout": "IPY_MODEL_6cada2ef91fc4b2a90689541337ae3ab"
          }
        },
        "7d9e27add6f74807a773b09b08cd3384": {
          "model_module": "@jupyter-widgets/controls",
          "model_name": "HTMLModel",
          "state": {
            "_view_name": "HTMLView",
            "style": "IPY_MODEL_61df69d9ed5f407c8b543833e410fec7",
            "_dom_classes": [],
            "description": "",
            "_model_name": "HTMLModel",
            "placeholder": "​",
            "_view_module": "@jupyter-widgets/controls",
            "_model_module_version": "1.5.0",
            "value": " 436M/436M [00:32&lt;00:00, 13.2MB/s]",
            "_view_count": null,
            "_view_module_version": "1.5.0",
            "description_tooltip": null,
            "_model_module": "@jupyter-widgets/controls",
            "layout": "IPY_MODEL_a2932ec07d924c3fb162ae5aa65fc72f"
          }
        },
        "9d6f289a613b4bf2b7caba10daea699a": {
          "model_module": "@jupyter-widgets/controls",
          "model_name": "ProgressStyleModel",
          "state": {
            "_view_name": "StyleView",
            "_model_name": "ProgressStyleModel",
            "description_width": "initial",
            "_view_module": "@jupyter-widgets/base",
            "_model_module_version": "1.5.0",
            "_view_count": null,
            "_view_module_version": "1.2.0",
            "bar_color": null,
            "_model_module": "@jupyter-widgets/controls"
          }
        },
        "6cada2ef91fc4b2a90689541337ae3ab": {
          "model_module": "@jupyter-widgets/base",
          "model_name": "LayoutModel",
          "state": {
            "_view_name": "LayoutView",
            "grid_template_rows": null,
            "right": null,
            "justify_content": null,
            "_view_module": "@jupyter-widgets/base",
            "overflow": null,
            "_model_module_version": "1.2.0",
            "_view_count": null,
            "flex_flow": null,
            "width": null,
            "min_width": null,
            "border": null,
            "align_items": null,
            "bottom": null,
            "_model_module": "@jupyter-widgets/base",
            "top": null,
            "grid_column": null,
            "overflow_y": null,
            "overflow_x": null,
            "grid_auto_flow": null,
            "grid_area": null,
            "grid_template_columns": null,
            "flex": null,
            "_model_name": "LayoutModel",
            "justify_items": null,
            "grid_row": null,
            "max_height": null,
            "align_content": null,
            "visibility": null,
            "align_self": null,
            "height": null,
            "min_height": null,
            "padding": null,
            "grid_auto_rows": null,
            "grid_gap": null,
            "max_width": null,
            "order": null,
            "_view_module_version": "1.2.0",
            "grid_template_areas": null,
            "object_position": null,
            "object_fit": null,
            "grid_auto_columns": null,
            "margin": null,
            "display": null,
            "left": null
          }
        },
        "61df69d9ed5f407c8b543833e410fec7": {
          "model_module": "@jupyter-widgets/controls",
          "model_name": "DescriptionStyleModel",
          "state": {
            "_view_name": "StyleView",
            "_model_name": "DescriptionStyleModel",
            "description_width": "",
            "_view_module": "@jupyter-widgets/base",
            "_model_module_version": "1.5.0",
            "_view_count": null,
            "_view_module_version": "1.2.0",
            "_model_module": "@jupyter-widgets/controls"
          }
        },
        "a2932ec07d924c3fb162ae5aa65fc72f": {
          "model_module": "@jupyter-widgets/base",
          "model_name": "LayoutModel",
          "state": {
            "_view_name": "LayoutView",
            "grid_template_rows": null,
            "right": null,
            "justify_content": null,
            "_view_module": "@jupyter-widgets/base",
            "overflow": null,
            "_model_module_version": "1.2.0",
            "_view_count": null,
            "flex_flow": null,
            "width": null,
            "min_width": null,
            "border": null,
            "align_items": null,
            "bottom": null,
            "_model_module": "@jupyter-widgets/base",
            "top": null,
            "grid_column": null,
            "overflow_y": null,
            "overflow_x": null,
            "grid_auto_flow": null,
            "grid_area": null,
            "grid_template_columns": null,
            "flex": null,
            "_model_name": "LayoutModel",
            "justify_items": null,
            "grid_row": null,
            "max_height": null,
            "align_content": null,
            "visibility": null,
            "align_self": null,
            "height": null,
            "min_height": null,
            "padding": null,
            "grid_auto_rows": null,
            "grid_gap": null,
            "max_width": null,
            "order": null,
            "_view_module_version": "1.2.0",
            "grid_template_areas": null,
            "object_position": null,
            "object_fit": null,
            "grid_auto_columns": null,
            "margin": null,
            "display": null,
            "left": null
          }
        }
      }
    },
    "accelerator": "GPU"
  },
  "cells": [
    {
      "cell_type": "markdown",
      "metadata": {
        "id": "view-in-github",
        "colab_type": "text"
      },
      "source": [
        "<a href=\"https://colab.research.google.com/github/RobMcH/gector/blob/master/Demo_Notebook.ipynb\" target=\"_parent\"><img src=\"https://colab.research.google.com/assets/colab-badge.svg\" alt=\"Open In Colab\"/></a>"
      ]
    },
    {
      "cell_type": "markdown",
      "metadata": {
        "id": "i35B5CHomC_r"
      },
      "source": [
        "***The cells below have to be executed once to setup everything - This might take a few minutes***"
      ]
    },
    {
      "cell_type": "markdown",
      "metadata": {
        "id": "jn3GuO4J0D5j"
      },
      "source": [
        "#### Notebook setup"
      ]
    },
    {
      "cell_type": "markdown",
      "metadata": {
        "id": "-qgSEvuT9ebR"
      },
      "source": [
        "Clone the Github repo:"
      ]
    },
    {
      "cell_type": "code",
      "metadata": {
        "colab": {
          "base_uri": "https://localhost:8080/"
        },
        "id": "_Man-xh49gzq",
        "outputId": "9f45c766-5b8a-4c77-c76b-9e06598e712b"
      },
      "source": [
        "!git clone https://github.com/RobMcH/gector"
      ],
      "execution_count": 1,
      "outputs": [
        {
          "output_type": "stream",
          "text": [
            "Cloning into 'gector'...\n",
            "remote: Enumerating objects: 391, done.\u001b[K\n",
            "remote: Counting objects: 100% (311/311), done.\u001b[K\n",
            "remote: Compressing objects: 100% (190/190), done.\u001b[K\n",
            "remote: Total 391 (delta 203), reused 206 (delta 115), pack-reused 80\u001b[K\n",
            "Receiving objects: 100% (391/391), 1.75 MiB | 7.65 MiB/s, done.\n",
            "Resolving deltas: 100% (234/234), done.\n"
          ],
          "name": "stdout"
        }
      ]
    },
    {
      "cell_type": "code",
      "metadata": {
        "colab": {
          "base_uri": "https://localhost:8080/"
        },
        "id": "ep4AOVChwrVk",
        "outputId": "5338af63-56f2-436e-e16f-14eda78833da"
      },
      "source": [
        "%cd /content/gector"
      ],
      "execution_count": 2,
      "outputs": [
        {
          "output_type": "stream",
          "text": [
            "/content/gector\n"
          ],
          "name": "stdout"
        }
      ]
    },
    {
      "cell_type": "markdown",
      "metadata": {
        "id": "hEQs9NYzAPI5"
      },
      "source": [
        "Install requirements:"
      ]
    },
    {
      "cell_type": "code",
      "metadata": {
        "colab": {
          "base_uri": "https://localhost:8080/"
        },
        "id": "3MzXvJNtAOIh",
        "outputId": "6cf91ed5-0487-48b1-869d-b7f9f1f5fe61"
      },
      "source": [
        "pip install -r requirements.txt"
      ],
      "execution_count": 3,
      "outputs": [
        {
          "output_type": "stream",
          "text": [
            "Collecting git+https://github.com/amitness/nodebox_linguistics_extended@master (from -r requirements.txt (line 7))\n",
            "  Cloning https://github.com/amitness/nodebox_linguistics_extended (to revision master) to /tmp/pip-req-build-caqds_up\n",
            "  Running command git clone -q https://github.com/amitness/nodebox_linguistics_extended /tmp/pip-req-build-caqds_up\n",
            "Collecting torch==1.3.0\n",
            "\u001b[?25l  Downloading https://files.pythonhosted.org/packages/b4/0b/9d33aef363b6728ad937643d98be713c6c25d50ce338678ad57cee6e6fd5/torch-1.3.0-cp37-cp37m-manylinux1_x86_64.whl (773.1MB)\n",
            "\u001b[K     |████████████████████████████████| 773.1MB 23kB/s \n",
            "\u001b[?25hCollecting allennlp==0.8.4\n",
            "\u001b[?25l  Downloading https://files.pythonhosted.org/packages/30/8c/72b14d20c9cbb0306939ea41109fc599302634fd5c59ccba1a659b7d0360/allennlp-0.8.4-py3-none-any.whl (5.7MB)\n",
            "\u001b[K     |████████████████████████████████| 5.7MB 19.7MB/s \n",
            "\u001b[33mWARNING: The candidate selected for download or install is a yanked version: 'python-Levenshtein' candidate (version 0.12.0 at https://files.pythonhosted.org/packages/42/a9/d1785c85ebf9b7dfacd08938dd028209c34a0ea3b1bcdb895208bd40a67d/python-Levenshtein-0.12.0.tar.gz#sha256=033a11de5e3d19ea25c9302d11224e1a1898fe5abd23c61c7c360c25195e3eb1 (from https://pypi.org/simple/python-levenshtein/))\n",
            "Reason for being yanked: Insecure, upgrade to 0.12.1\u001b[0m\n",
            "\u001b[?25hCollecting python-Levenshtein==0.12.0\n",
            "\u001b[?25l  Downloading https://files.pythonhosted.org/packages/42/a9/d1785c85ebf9b7dfacd08938dd028209c34a0ea3b1bcdb895208bd40a67d/python-Levenshtein-0.12.0.tar.gz (48kB)\n",
            "\u001b[K     |████████████████████████████████| 51kB 8.6MB/s \n",
            "\u001b[?25hCollecting transformers==2.2.2\n",
            "\u001b[?25l  Downloading https://files.pythonhosted.org/packages/d1/08/4a6768ca1a7a4fa37e5ee08077c5d02b8d83876bd36caa5fc24d98992ac2/transformers-2.2.2-py3-none-any.whl (387kB)\n",
            "\u001b[K     |████████████████████████████████| 389kB 55.3MB/s \n",
            "\u001b[?25hCollecting scikit-learn==0.20.0\n",
            "\u001b[?25l  Downloading https://files.pythonhosted.org/packages/56/7d/0737aed3e157fb90a1eaecb1cbfa5742fa4206fb305c8f157b666b71da14/scikit_learn-0.20.0-cp37-cp37m-manylinux1_x86_64.whl (5.3MB)\n",
            "\u001b[K     |████████████████████████████████| 5.3MB 38.5MB/s \n",
            "\u001b[?25hCollecting sentencepiece==0.1.91\n",
            "\u001b[?25l  Downloading https://files.pythonhosted.org/packages/f2/e2/813dff3d72df2f49554204e7e5f73a3dc0f0eb1e3958a4cad3ef3fb278b7/sentencepiece-0.1.91-cp37-cp37m-manylinux1_x86_64.whl (1.1MB)\n",
            "\u001b[K     |████████████████████████████████| 1.1MB 54.2MB/s \n",
            "\u001b[?25hCollecting overrides==4.1.2\n",
            "  Downloading https://files.pythonhosted.org/packages/37/f8/b0e12ec2ef211b53803732b3ab49d8d2b7e439ae10132c4bfd0c11a74305/overrides-4.1.2-py3-none-any.whl\n",
            "Collecting sgmllib3k\n",
            "  Downloading https://files.pythonhosted.org/packages/9e/bd/3704a8c3e0942d711c1299ebf7b9091930adae6675d7c8f476a7ce48653c/sgmllib3k-1.0.0.tar.gz\n",
            "Requirement already satisfied: numpy in /usr/local/lib/python3.7/dist-packages (from torch==1.3.0->-r requirements.txt (line 1)) (1.19.5)\n",
            "Requirement already satisfied: tqdm>=4.19 in /usr/local/lib/python3.7/dist-packages (from allennlp==0.8.4->-r requirements.txt (line 2)) (4.41.1)\n",
            "Collecting numpydoc>=0.8.0\n",
            "\u001b[?25l  Downloading https://files.pythonhosted.org/packages/60/1d/9e398c53d6ae27d5ab312ddc16a9ffe1bee0dfdf1d6ec88c40b0ca97582e/numpydoc-1.1.0-py3-none-any.whl (47kB)\n",
            "\u001b[K     |████████████████████████████████| 51kB 7.8MB/s \n",
            "\u001b[?25hRequirement already satisfied: flask>=1.0.2 in /usr/local/lib/python3.7/dist-packages (from allennlp==0.8.4->-r requirements.txt (line 2)) (1.1.4)\n",
            "Collecting unidecode\n",
            "\u001b[?25l  Downloading https://files.pythonhosted.org/packages/9e/25/723487ca2a52ebcee88a34d7d1f5a4b80b793f179ee0f62d5371938dfa01/Unidecode-1.2.0-py2.py3-none-any.whl (241kB)\n",
            "\u001b[K     |████████████████████████████████| 245kB 57.6MB/s \n",
            "\u001b[?25hRequirement already satisfied: nltk in /usr/local/lib/python3.7/dist-packages (from allennlp==0.8.4->-r requirements.txt (line 2)) (3.2.5)\n",
            "Requirement already satisfied: pytz>=2017.3 in /usr/local/lib/python3.7/dist-packages (from allennlp==0.8.4->-r requirements.txt (line 2)) (2018.9)\n",
            "Collecting conllu==0.11\n",
            "  Downloading https://files.pythonhosted.org/packages/d4/2c/856344d9b69baf5b374c395b4286626181a80f0c2b2f704914d18a1cea47/conllu-0.11-py2.py3-none-any.whl\n",
            "Requirement already satisfied: pytest in /usr/local/lib/python3.7/dist-packages (from allennlp==0.8.4->-r requirements.txt (line 2)) (3.6.4)\n",
            "Collecting word2number>=1.1\n",
            "  Downloading https://files.pythonhosted.org/packages/4a/29/a31940c848521f0725f0df6b25dca8917f13a2025b0e8fcbe5d0457e45e6/word2number-1.1.zip\n",
            "Collecting jsonpickle\n",
            "  Downloading https://files.pythonhosted.org/packages/bb/1a/f2db026d4d682303793559f1c2bb425ba3ec0d6fd7ac63397790443f2461/jsonpickle-2.0.0-py2.py3-none-any.whl\n",
            "Collecting tensorboardX>=1.2\n",
            "\u001b[?25l  Downloading https://files.pythonhosted.org/packages/07/84/46421bd3e0e89a92682b1a38b40efc22dafb6d8e3d947e4ceefd4a5fabc7/tensorboardX-2.2-py2.py3-none-any.whl (120kB)\n",
            "\u001b[K     |████████████████████████████████| 122kB 53.7MB/s \n",
            "\u001b[?25hCollecting flaky\n",
            "  Downloading https://files.pythonhosted.org/packages/43/0e/2f50064e327f41a1eb811df089f813036e19a64b95e33f8e9e0b96c2447e/flaky-3.7.0-py2.py3-none-any.whl\n",
            "Requirement already satisfied: sqlparse>=0.2.4 in /usr/local/lib/python3.7/dist-packages (from allennlp==0.8.4->-r requirements.txt (line 2)) (0.4.1)\n",
            "Collecting spacy<2.2,>=2.0.18\n",
            "\u001b[?25l  Downloading https://files.pythonhosted.org/packages/16/f3/554271be8ff46471586d164bfbb6999364ba30ca5a0045e2a86da5f3b2c5/spacy-2.1.9-cp37-cp37m-manylinux1_x86_64.whl (30.8MB)\n",
            "\u001b[K     |████████████████████████████████| 30.8MB 170kB/s \n",
            "\u001b[?25hCollecting gevent>=1.3.6\n",
            "\u001b[?25l  Downloading https://files.pythonhosted.org/packages/3e/85/df3d1fd2b60a87455475f93012861b76a411d27ba4a0859939adbe2c9dc3/gevent-21.1.2-cp37-cp37m-manylinux2010_x86_64.whl (5.6MB)\n",
            "\u001b[K     |████████████████████████████████| 5.6MB 42.2MB/s \n",
            "\u001b[?25hCollecting pytorch-pretrained-bert>=0.6.0\n",
            "\u001b[?25l  Downloading https://files.pythonhosted.org/packages/d7/e0/c08d5553b89973d9a240605b9c12404bcf8227590de62bae27acbcfe076b/pytorch_pretrained_bert-0.6.2-py3-none-any.whl (123kB)\n",
            "\u001b[K     |████████████████████████████████| 133kB 56.8MB/s \n",
            "\u001b[?25hCollecting flask-cors>=3.0.7\n",
            "  Downloading https://files.pythonhosted.org/packages/db/84/901e700de86604b1c4ef4b57110d4e947c218b9997adf5d38fa7da493bce/Flask_Cors-3.0.10-py2.py3-none-any.whl\n",
            "Collecting responses>=0.7\n",
            "  Downloading https://files.pythonhosted.org/packages/ba/00/0e63b7024c2d873bf57411ab0ed77eeafd5f44bace7cbf1d56bca8ab3be2/responses-0.13.3-py2.py3-none-any.whl\n",
            "Requirement already satisfied: matplotlib>=2.2.3 in /usr/local/lib/python3.7/dist-packages (from allennlp==0.8.4->-r requirements.txt (line 2)) (3.2.2)\n",
            "Collecting boto3\n",
            "\u001b[?25l  Downloading https://files.pythonhosted.org/packages/11/20/4294e37c3c6936c905f1e9da958c776d7fee54a4512bdb7706d69c8720e6/boto3-1.17.84-py2.py3-none-any.whl (131kB)\n",
            "\u001b[K     |████████████████████████████████| 133kB 53.2MB/s \n",
            "\u001b[?25hRequirement already satisfied: requests>=2.18 in /usr/local/lib/python3.7/dist-packages (from allennlp==0.8.4->-r requirements.txt (line 2)) (2.23.0)\n",
            "Collecting ftfy\n",
            "\u001b[?25l  Downloading https://files.pythonhosted.org/packages/af/da/d215a091986e5f01b80f5145cff6f22e2dc57c6b048aab2e882a07018473/ftfy-6.0.3.tar.gz (64kB)\n",
            "\u001b[K     |████████████████████████████████| 71kB 11.0MB/s \n",
            "\u001b[?25hRequirement already satisfied: editdistance in /usr/local/lib/python3.7/dist-packages (from allennlp==0.8.4->-r requirements.txt (line 2)) (0.5.3)\n",
            "Collecting awscli>=1.11.91\n",
            "\u001b[?25l  Downloading https://files.pythonhosted.org/packages/62/b7/dc689e218b411b81b97636ce5c74190d25611956a325c7908b28a29fdd05/awscli-1.19.84-py2.py3-none-any.whl (3.6MB)\n",
            "\u001b[K     |████████████████████████████████| 3.6MB 30.8MB/s \n",
            "\u001b[?25hRequirement already satisfied: h5py in /usr/local/lib/python3.7/dist-packages (from allennlp==0.8.4->-r requirements.txt (line 2)) (3.1.0)\n",
            "Collecting jsonnet>=0.10.0; sys_platform != \"win32\"\n",
            "\u001b[?25l  Downloading https://files.pythonhosted.org/packages/42/40/6f16e5ac994b16fa71c24310f97174ce07d3a97b433275589265c6b94d2b/jsonnet-0.17.0.tar.gz (259kB)\n",
            "\u001b[K     |████████████████████████████████| 266kB 38.5MB/s \n",
            "\u001b[?25hCollecting parsimonious>=0.8.0\n",
            "\u001b[?25l  Downloading https://files.pythonhosted.org/packages/02/fc/067a3f89869a41009e1a7cdfb14725f8ddd246f30f63c645e8ef8a1c56f4/parsimonious-0.8.1.tar.gz (45kB)\n",
            "\u001b[K     |████████████████████████████████| 51kB 8.9MB/s \n",
            "\u001b[?25hRequirement already satisfied: scipy in /usr/local/lib/python3.7/dist-packages (from allennlp==0.8.4->-r requirements.txt (line 2)) (1.4.1)\n",
            "Requirement already satisfied: setuptools in /usr/local/lib/python3.7/dist-packages (from python-Levenshtein==0.12.0->-r requirements.txt (line 3)) (56.1.0)\n",
            "Requirement already satisfied: regex in /usr/local/lib/python3.7/dist-packages (from transformers==2.2.2->-r requirements.txt (line 4)) (2019.12.20)\n",
            "Collecting sacremoses\n",
            "\u001b[?25l  Downloading https://files.pythonhosted.org/packages/75/ee/67241dc87f266093c533a2d4d3d69438e57d7a90abb216fa076e7d475d4a/sacremoses-0.0.45-py3-none-any.whl (895kB)\n",
            "\u001b[K     |████████████████████████████████| 901kB 45.6MB/s \n",
            "\u001b[?25hCollecting typing-utils>=0.0.3\n",
            "  Downloading https://files.pythonhosted.org/packages/66/6e/99fe160a19676051070aa1da4ca44aac2a213e79ba1a492b5f03facf6447/typing_utils-0.1.0-py3-none-any.whl\n",
            "Requirement already satisfied: Jinja2>=2.3 in /usr/local/lib/python3.7/dist-packages (from numpydoc>=0.8.0->allennlp==0.8.4->-r requirements.txt (line 2)) (2.11.3)\n",
            "Requirement already satisfied: sphinx>=1.6.5 in /usr/local/lib/python3.7/dist-packages (from numpydoc>=0.8.0->allennlp==0.8.4->-r requirements.txt (line 2)) (1.8.5)\n",
            "Requirement already satisfied: itsdangerous<2.0,>=0.24 in /usr/local/lib/python3.7/dist-packages (from flask>=1.0.2->allennlp==0.8.4->-r requirements.txt (line 2)) (1.1.0)\n",
            "Requirement already satisfied: Werkzeug<2.0,>=0.15 in /usr/local/lib/python3.7/dist-packages (from flask>=1.0.2->allennlp==0.8.4->-r requirements.txt (line 2)) (1.0.1)\n",
            "Requirement already satisfied: click<8.0,>=5.1 in /usr/local/lib/python3.7/dist-packages (from flask>=1.0.2->allennlp==0.8.4->-r requirements.txt (line 2)) (7.1.2)\n",
            "Requirement already satisfied: six in /usr/local/lib/python3.7/dist-packages (from nltk->allennlp==0.8.4->-r requirements.txt (line 2)) (1.15.0)\n",
            "Requirement already satisfied: more-itertools>=4.0.0 in /usr/local/lib/python3.7/dist-packages (from pytest->allennlp==0.8.4->-r requirements.txt (line 2)) (8.7.0)\n",
            "Requirement already satisfied: atomicwrites>=1.0 in /usr/local/lib/python3.7/dist-packages (from pytest->allennlp==0.8.4->-r requirements.txt (line 2)) (1.4.0)\n",
            "Requirement already satisfied: pluggy<0.8,>=0.5 in /usr/local/lib/python3.7/dist-packages (from pytest->allennlp==0.8.4->-r requirements.txt (line 2)) (0.7.1)\n",
            "Requirement already satisfied: py>=1.5.0 in /usr/local/lib/python3.7/dist-packages (from pytest->allennlp==0.8.4->-r requirements.txt (line 2)) (1.10.0)\n",
            "Requirement already satisfied: attrs>=17.4.0 in /usr/local/lib/python3.7/dist-packages (from pytest->allennlp==0.8.4->-r requirements.txt (line 2)) (21.2.0)\n",
            "Requirement already satisfied: importlib-metadata; python_version < \"3.8\" in /usr/local/lib/python3.7/dist-packages (from jsonpickle->allennlp==0.8.4->-r requirements.txt (line 2)) (4.0.1)\n",
            "Requirement already satisfied: protobuf>=3.8.0 in /usr/local/lib/python3.7/dist-packages (from tensorboardX>=1.2->allennlp==0.8.4->-r requirements.txt (line 2)) (3.12.4)\n",
            "Requirement already satisfied: murmurhash<1.1.0,>=0.28.0 in /usr/local/lib/python3.7/dist-packages (from spacy<2.2,>=2.0.18->allennlp==0.8.4->-r requirements.txt (line 2)) (1.0.5)\n",
            "Requirement already satisfied: wasabi<1.1.0,>=0.2.0 in /usr/local/lib/python3.7/dist-packages (from spacy<2.2,>=2.0.18->allennlp==0.8.4->-r requirements.txt (line 2)) (0.8.2)\n",
            "Requirement already satisfied: cymem<2.1.0,>=2.0.2 in /usr/local/lib/python3.7/dist-packages (from spacy<2.2,>=2.0.18->allennlp==0.8.4->-r requirements.txt (line 2)) (2.0.5)\n",
            "Collecting thinc<7.1.0,>=7.0.8\n",
            "\u001b[?25l  Downloading https://files.pythonhosted.org/packages/36/42/d7ea7539af3852fd8c1f0b3adf4a100fb3d72b40b69cef1a764ff979a743/thinc-7.0.8-cp37-cp37m-manylinux1_x86_64.whl (2.1MB)\n",
            "\u001b[K     |████████████████████████████████| 2.1MB 43.2MB/s \n",
            "\u001b[?25hCollecting preshed<2.1.0,>=2.0.1\n",
            "\u001b[?25l  Downloading https://files.pythonhosted.org/packages/bc/2b/3ecd5d90d2d6fd39fbc520de7d80db5d74defdc2d7c2e15531d9cc3498c7/preshed-2.0.1-cp37-cp37m-manylinux1_x86_64.whl (82kB)\n",
            "\u001b[K     |████████████████████████████████| 92kB 13.3MB/s \n",
            "\u001b[?25hRequirement already satisfied: srsly<1.1.0,>=0.0.6 in /usr/local/lib/python3.7/dist-packages (from spacy<2.2,>=2.0.18->allennlp==0.8.4->-r requirements.txt (line 2)) (1.0.5)\n",
            "Collecting plac<1.0.0,>=0.9.6\n",
            "  Downloading https://files.pythonhosted.org/packages/9e/9b/62c60d2f5bc135d2aa1d8c8a86aaf84edb719a59c7f11a4316259e61a298/plac-0.9.6-py2.py3-none-any.whl\n",
            "Collecting blis<0.3.0,>=0.2.2\n",
            "\u001b[?25l  Downloading https://files.pythonhosted.org/packages/fa/5f/47b7b29ad202b2210020e2f33bfb06d1db2abe0e709c2a84736e8a9d1bd5/blis-0.2.4-cp37-cp37m-manylinux1_x86_64.whl (3.2MB)\n",
            "\u001b[K     |████████████████████████████████| 3.2MB 23.3MB/s \n",
            "\u001b[?25hCollecting zope.interface\n",
            "\u001b[?25l  Downloading https://files.pythonhosted.org/packages/bb/a7/94e1a92c71436f934cdd2102826fa041c83dcb7d21dd0f1fb1a57f6e0620/zope.interface-5.4.0-cp37-cp37m-manylinux2010_x86_64.whl (251kB)\n",
            "\u001b[K     |████████████████████████████████| 256kB 60.4MB/s \n",
            "\u001b[?25hRequirement already satisfied: greenlet<2.0,>=0.4.17; platform_python_implementation == \"CPython\" in /usr/local/lib/python3.7/dist-packages (from gevent>=1.3.6->allennlp==0.8.4->-r requirements.txt (line 2)) (1.1.0)\n",
            "Collecting zope.event\n",
            "  Downloading https://files.pythonhosted.org/packages/9e/85/b45408c64f3b888976f1d5b37eed8d746b8d5729a66a49ec846fda27d371/zope.event-4.5.0-py2.py3-none-any.whl\n",
            "Collecting urllib3>=1.25.10\n",
            "\u001b[?25l  Downloading https://files.pythonhosted.org/packages/0c/cd/1e2ec680ec7b09846dc6e605f5a7709dfb9d7128e51a026e7154e18a234e/urllib3-1.26.5-py2.py3-none-any.whl (138kB)\n",
            "\u001b[K     |████████████████████████████████| 143kB 58.6MB/s \n",
            "\u001b[?25hRequirement already satisfied: python-dateutil>=2.1 in /usr/local/lib/python3.7/dist-packages (from matplotlib>=2.2.3->allennlp==0.8.4->-r requirements.txt (line 2)) (2.8.1)\n",
            "Requirement already satisfied: kiwisolver>=1.0.1 in /usr/local/lib/python3.7/dist-packages (from matplotlib>=2.2.3->allennlp==0.8.4->-r requirements.txt (line 2)) (1.3.1)\n",
            "Requirement already satisfied: cycler>=0.10 in /usr/local/lib/python3.7/dist-packages (from matplotlib>=2.2.3->allennlp==0.8.4->-r requirements.txt (line 2)) (0.10.0)\n",
            "Requirement already satisfied: pyparsing!=2.0.4,!=2.1.2,!=2.1.6,>=2.0.1 in /usr/local/lib/python3.7/dist-packages (from matplotlib>=2.2.3->allennlp==0.8.4->-r requirements.txt (line 2)) (2.4.7)\n",
            "Collecting jmespath<1.0.0,>=0.7.1\n",
            "  Downloading https://files.pythonhosted.org/packages/07/cb/5f001272b6faeb23c1c9e0acc04d48eaaf5c862c17709d20e3469c6e0139/jmespath-0.10.0-py2.py3-none-any.whl\n",
            "Collecting s3transfer<0.5.0,>=0.4.0\n",
            "\u001b[?25l  Downloading https://files.pythonhosted.org/packages/63/d0/693477c688348654ddc21dcdce0817653a294aa43f41771084c25e7ff9c7/s3transfer-0.4.2-py2.py3-none-any.whl (79kB)\n",
            "\u001b[K     |████████████████████████████████| 81kB 11.3MB/s \n",
            "\u001b[?25hCollecting botocore<1.21.0,>=1.20.84\n",
            "\u001b[?25l  Downloading https://files.pythonhosted.org/packages/bc/22/72c81d754bbcb128cba2ad88670c3c320e4594e6ddd8cca6512c3967108c/botocore-1.20.84-py2.py3-none-any.whl (7.6MB)\n",
            "\u001b[K     |████████████████████████████████| 7.6MB 16.0MB/s \n",
            "\u001b[?25hRequirement already satisfied: chardet<4,>=3.0.2 in /usr/local/lib/python3.7/dist-packages (from requests>=2.18->allennlp==0.8.4->-r requirements.txt (line 2)) (3.0.4)\n",
            "Requirement already satisfied: certifi>=2017.4.17 in /usr/local/lib/python3.7/dist-packages (from requests>=2.18->allennlp==0.8.4->-r requirements.txt (line 2)) (2020.12.5)\n",
            "Requirement already satisfied: idna<3,>=2.5 in /usr/local/lib/python3.7/dist-packages (from requests>=2.18->allennlp==0.8.4->-r requirements.txt (line 2)) (2.10)\n",
            "Requirement already satisfied: wcwidth in /usr/local/lib/python3.7/dist-packages (from ftfy->allennlp==0.8.4->-r requirements.txt (line 2)) (0.2.5)\n",
            "Collecting docutils<0.16,>=0.10\n",
            "\u001b[?25l  Downloading https://files.pythonhosted.org/packages/22/cd/a6aa959dca619918ccb55023b4cb151949c64d4d5d55b3f4ffd7eee0c6e8/docutils-0.15.2-py3-none-any.whl (547kB)\n",
            "\u001b[K     |████████████████████████████████| 552kB 44.1MB/s \n",
            "\u001b[?25hRequirement already satisfied: rsa<4.8,>=3.1.2; python_version > \"2.7\" in /usr/local/lib/python3.7/dist-packages (from awscli>=1.11.91->allennlp==0.8.4->-r requirements.txt (line 2)) (4.7.2)\n",
            "Collecting colorama<0.4.4,>=0.2.5\n",
            "  Downloading https://files.pythonhosted.org/packages/c9/dc/45cdef1b4d119eb96316b3117e6d5708a08029992b2fee2c143c7a0a5cc5/colorama-0.4.3-py2.py3-none-any.whl\n",
            "Requirement already satisfied: PyYAML<5.5,>=3.10 in /usr/local/lib/python3.7/dist-packages (from awscli>=1.11.91->allennlp==0.8.4->-r requirements.txt (line 2)) (3.13)\n",
            "Requirement already satisfied: cached-property; python_version < \"3.8\" in /usr/local/lib/python3.7/dist-packages (from h5py->allennlp==0.8.4->-r requirements.txt (line 2)) (1.5.2)\n",
            "Requirement already satisfied: joblib in /usr/local/lib/python3.7/dist-packages (from sacremoses->transformers==2.2.2->-r requirements.txt (line 4)) (1.0.1)\n",
            "Requirement already satisfied: MarkupSafe>=0.23 in /usr/local/lib/python3.7/dist-packages (from Jinja2>=2.3->numpydoc>=0.8.0->allennlp==0.8.4->-r requirements.txt (line 2)) (2.0.1)\n",
            "Requirement already satisfied: sphinxcontrib-websupport in /usr/local/lib/python3.7/dist-packages (from sphinx>=1.6.5->numpydoc>=0.8.0->allennlp==0.8.4->-r requirements.txt (line 2)) (1.2.4)\n",
            "Requirement already satisfied: snowballstemmer>=1.1 in /usr/local/lib/python3.7/dist-packages (from sphinx>=1.6.5->numpydoc>=0.8.0->allennlp==0.8.4->-r requirements.txt (line 2)) (2.1.0)\n",
            "Requirement already satisfied: babel!=2.0,>=1.3 in /usr/local/lib/python3.7/dist-packages (from sphinx>=1.6.5->numpydoc>=0.8.0->allennlp==0.8.4->-r requirements.txt (line 2)) (2.9.1)\n",
            "Requirement already satisfied: packaging in /usr/local/lib/python3.7/dist-packages (from sphinx>=1.6.5->numpydoc>=0.8.0->allennlp==0.8.4->-r requirements.txt (line 2)) (20.9)\n",
            "Requirement already satisfied: imagesize in /usr/local/lib/python3.7/dist-packages (from sphinx>=1.6.5->numpydoc>=0.8.0->allennlp==0.8.4->-r requirements.txt (line 2)) (1.2.0)\n",
            "Requirement already satisfied: alabaster<0.8,>=0.7 in /usr/local/lib/python3.7/dist-packages (from sphinx>=1.6.5->numpydoc>=0.8.0->allennlp==0.8.4->-r requirements.txt (line 2)) (0.7.12)\n",
            "Requirement already satisfied: Pygments>=2.0 in /usr/local/lib/python3.7/dist-packages (from sphinx>=1.6.5->numpydoc>=0.8.0->allennlp==0.8.4->-r requirements.txt (line 2)) (2.6.1)\n",
            "Requirement already satisfied: zipp>=0.5 in /usr/local/lib/python3.7/dist-packages (from importlib-metadata; python_version < \"3.8\"->jsonpickle->allennlp==0.8.4->-r requirements.txt (line 2)) (3.4.1)\n",
            "Requirement already satisfied: typing-extensions>=3.6.4; python_version < \"3.8\" in /usr/local/lib/python3.7/dist-packages (from importlib-metadata; python_version < \"3.8\"->jsonpickle->allennlp==0.8.4->-r requirements.txt (line 2)) (3.7.4.3)\n",
            "Requirement already satisfied: pyasn1>=0.1.3 in /usr/local/lib/python3.7/dist-packages (from rsa<4.8,>=3.1.2; python_version > \"2.7\"->awscli>=1.11.91->allennlp==0.8.4->-r requirements.txt (line 2)) (0.4.8)\n",
            "Requirement already satisfied: sphinxcontrib-serializinghtml in /usr/local/lib/python3.7/dist-packages (from sphinxcontrib-websupport->sphinx>=1.6.5->numpydoc>=0.8.0->allennlp==0.8.4->-r requirements.txt (line 2)) (1.1.4)\n",
            "Building wheels for collected packages: python-Levenshtein, nodebox-linguistics-extended, sgmllib3k, word2number, ftfy, jsonnet, parsimonious\n",
            "  Building wheel for python-Levenshtein (setup.py) ... \u001b[?25l\u001b[?25hdone\n",
            "  Created wheel for python-Levenshtein: filename=python_Levenshtein-0.12.0-cp37-cp37m-linux_x86_64.whl size=145886 sha256=575b6b5b046921c4d43468b96150582d7e7fb83c884f30b404520c83bf0c489d\n",
            "  Stored in directory: /root/.cache/pip/wheels/de/c2/93/660fd5f7559049268ad2dc6d81c4e39e9e36518766eaf7e342\n",
            "  Building wheel for nodebox-linguistics-extended (setup.py) ... \u001b[?25l\u001b[?25hdone\n",
            "  Created wheel for nodebox-linguistics-extended: filename=nodebox_linguistics_extended-0.0.1-cp37-none-any.whl size=15921415 sha256=7803176e39c0ae2c8677e415445f37b97770b83529c5fd9ce8a1e65d78544bd9\n",
            "  Stored in directory: /tmp/pip-ephem-wheel-cache-kqak_y1g/wheels/f0/2c/ce/9f7c943e87710ec7d447b89ef1c423444d9ded21399edef848\n",
            "  Building wheel for sgmllib3k (setup.py) ... \u001b[?25l\u001b[?25hdone\n",
            "  Created wheel for sgmllib3k: filename=sgmllib3k-1.0.0-cp37-none-any.whl size=6067 sha256=b9498c7753c4091516c5ab0388eb965929b8b51072d6e86beef1b4315ef22b7c\n",
            "  Stored in directory: /root/.cache/pip/wheels/f1/80/5a/444ba08a550cdd241bd9baf8bae44be750efe370adb944506a\n",
            "  Building wheel for word2number (setup.py) ... \u001b[?25l\u001b[?25hdone\n",
            "  Created wheel for word2number: filename=word2number-1.1-cp37-none-any.whl size=5589 sha256=a63d6e7386b96559f5aca806720655c47617289c324ecbf6dd59b58859ae5225\n",
            "  Stored in directory: /root/.cache/pip/wheels/46/2f/53/5f5c1d275492f2fce1cdab9a9bb12d49286dead829a4078e0e\n",
            "  Building wheel for ftfy (setup.py) ... \u001b[?25l\u001b[?25hdone\n",
            "  Created wheel for ftfy: filename=ftfy-6.0.3-cp37-none-any.whl size=41916 sha256=ca94f76005f5189b0b1a8c76e5ebcd05e8403363878f0746dd04baaab6bc9208\n",
            "  Stored in directory: /root/.cache/pip/wheels/99/2c/e6/109c8a28fef7a443f67ba58df21fe1d0067ac3322e75e6b0b7\n",
            "  Building wheel for jsonnet (setup.py) ... \u001b[?25l\u001b[?25hdone\n",
            "  Created wheel for jsonnet: filename=jsonnet-0.17.0-cp37-cp37m-linux_x86_64.whl size=3388771 sha256=f2613bf9962752f78d46a9876bf9ae004c893bc2fbf9f8dbe06b5d3980f52202\n",
            "  Stored in directory: /root/.cache/pip/wheels/26/7a/37/7dbcc30a6b4efd17b91ad1f0128b7bbf84813bd4e1cfb8c1e3\n",
            "  Building wheel for parsimonious (setup.py) ... \u001b[?25l\u001b[?25hdone\n",
            "  Created wheel for parsimonious: filename=parsimonious-0.8.1-cp37-none-any.whl size=42711 sha256=a2a2465129703ea2064a9111722d66eaaf00e52749dde9ca8d6f1472187941c5\n",
            "  Stored in directory: /root/.cache/pip/wheels/b7/8d/e7/a0e74217da5caeb3c1c7689639b6d28ddbf9985b840bc96a9a\n",
            "Successfully built python-Levenshtein nodebox-linguistics-extended sgmllib3k word2number ftfy jsonnet parsimonious\n",
            "\u001b[31mERROR: torchvision 0.9.1+cu101 has requirement torch==1.8.1, but you'll have torch 1.3.0 which is incompatible.\u001b[0m\n",
            "\u001b[31mERROR: torchtext 0.9.1 has requirement torch==1.8.1, but you'll have torch 1.3.0 which is incompatible.\u001b[0m\n",
            "\u001b[31mERROR: requests 2.23.0 has requirement urllib3!=1.25.0,!=1.25.1,<1.26,>=1.21.1, but you'll have urllib3 1.26.5 which is incompatible.\u001b[0m\n",
            "\u001b[31mERROR: en-core-web-sm 2.2.5 has requirement spacy>=2.2.2, but you'll have spacy 2.1.9 which is incompatible.\u001b[0m\n",
            "\u001b[31mERROR: datascience 0.10.6 has requirement folium==0.2.1, but you'll have folium 0.8.3 which is incompatible.\u001b[0m\n",
            "Installing collected packages: torch, numpydoc, unidecode, scikit-learn, conllu, word2number, jsonpickle, tensorboardX, flaky, blis, plac, preshed, thinc, spacy, zope.interface, zope.event, gevent, jmespath, urllib3, botocore, s3transfer, boto3, pytorch-pretrained-bert, flask-cors, responses, ftfy, typing-utils, overrides, docutils, colorama, awscli, jsonnet, parsimonious, allennlp, python-Levenshtein, sentencepiece, sacremoses, transformers, sgmllib3k, nodebox-linguistics-extended\n",
            "  Found existing installation: torch 1.8.1+cu101\n",
            "    Uninstalling torch-1.8.1+cu101:\n",
            "      Successfully uninstalled torch-1.8.1+cu101\n",
            "  Found existing installation: scikit-learn 0.22.2.post1\n",
            "    Uninstalling scikit-learn-0.22.2.post1:\n",
            "      Successfully uninstalled scikit-learn-0.22.2.post1\n",
            "  Found existing installation: blis 0.4.1\n",
            "    Uninstalling blis-0.4.1:\n",
            "      Successfully uninstalled blis-0.4.1\n",
            "  Found existing installation: plac 1.1.3\n",
            "    Uninstalling plac-1.1.3:\n",
            "      Successfully uninstalled plac-1.1.3\n",
            "  Found existing installation: preshed 3.0.5\n",
            "    Uninstalling preshed-3.0.5:\n",
            "      Successfully uninstalled preshed-3.0.5\n",
            "  Found existing installation: thinc 7.4.0\n",
            "    Uninstalling thinc-7.4.0:\n",
            "      Successfully uninstalled thinc-7.4.0\n",
            "  Found existing installation: spacy 2.2.4\n",
            "    Uninstalling spacy-2.2.4:\n",
            "      Successfully uninstalled spacy-2.2.4\n",
            "  Found existing installation: urllib3 1.24.3\n",
            "    Uninstalling urllib3-1.24.3:\n",
            "      Successfully uninstalled urllib3-1.24.3\n",
            "  Found existing installation: docutils 0.17.1\n",
            "    Uninstalling docutils-0.17.1:\n",
            "      Successfully uninstalled docutils-0.17.1\n",
            "Successfully installed allennlp-0.8.4 awscli-1.19.84 blis-0.2.4 boto3-1.17.84 botocore-1.20.84 colorama-0.4.3 conllu-0.11 docutils-0.15.2 flaky-3.7.0 flask-cors-3.0.10 ftfy-6.0.3 gevent-21.1.2 jmespath-0.10.0 jsonnet-0.17.0 jsonpickle-2.0.0 nodebox-linguistics-extended-0.0.1 numpydoc-1.1.0 overrides-4.1.2 parsimonious-0.8.1 plac-0.9.6 preshed-2.0.1 python-Levenshtein-0.12.0 pytorch-pretrained-bert-0.6.2 responses-0.13.3 s3transfer-0.4.2 sacremoses-0.0.45 scikit-learn-0.20.0 sentencepiece-0.1.91 sgmllib3k-1.0.0 spacy-2.1.9 tensorboardX-2.2 thinc-7.0.8 torch-1.3.0 transformers-2.2.2 typing-utils-0.1.0 unidecode-1.2.0 urllib3-1.26.5 word2number-1.1 zope.event-4.5.0 zope.interface-5.4.0\n"
          ],
          "name": "stdout"
        }
      ]
    },
    {
      "cell_type": "code",
      "metadata": {
        "colab": {
          "base_uri": "https://localhost:8080/"
        },
        "id": "6wfXflF9QwON",
        "outputId": "fb5bd55c-b9aa-4793-96a4-39f5a34e7c21"
      },
      "source": [
        "!python -m spacy download en_core_web_sm"
      ],
      "execution_count": 4,
      "outputs": [
        {
          "output_type": "stream",
          "text": [
            "/usr/local/lib/python3.7/dist-packages/requests/__init__.py:91: RequestsDependencyWarning: urllib3 (1.26.5) or chardet (3.0.4) doesn't match a supported version!\n",
            "  RequestsDependencyWarning)\n",
            "Collecting en_core_web_sm==2.1.0\n",
            "\u001b[?25l  Downloading https://github.com/explosion/spacy-models/releases/download/en_core_web_sm-2.1.0/en_core_web_sm-2.1.0.tar.gz (11.1MB)\n",
            "\u001b[K     |████████████████████████████████| 11.1MB 32.5MB/s \n",
            "\u001b[?25hBuilding wheels for collected packages: en-core-web-sm\n",
            "  Building wheel for en-core-web-sm (setup.py) ... \u001b[?25l\u001b[?25hdone\n",
            "  Created wheel for en-core-web-sm: filename=en_core_web_sm-2.1.0-cp37-none-any.whl size=11074434 sha256=4528b69bd53ac2c0f4895bf359b7889308480e7b949013ba767cd6c6f85b860e\n",
            "  Stored in directory: /tmp/pip-ephem-wheel-cache-mnv3q8rs/wheels/39/ea/3b/507f7df78be8631a7a3d7090962194cf55bc1158572c0be77f\n",
            "Successfully built en-core-web-sm\n",
            "Installing collected packages: en-core-web-sm\n",
            "  Found existing installation: en-core-web-sm 2.2.5\n",
            "    Uninstalling en-core-web-sm-2.2.5:\n",
            "      Successfully uninstalled en-core-web-sm-2.2.5\n",
            "Successfully installed en-core-web-sm-2.1.0\n",
            "\u001b[38;5;2m✔ Download and installation successful\u001b[0m\n",
            "You can now load the model via spacy.load('en_core_web_sm')\n"
          ],
          "name": "stdout"
        }
      ]
    },
    {
      "cell_type": "markdown",
      "metadata": {
        "id": "okzSkzVo5n_V"
      },
      "source": [
        "Imports:"
      ]
    },
    {
      "cell_type": "code",
      "metadata": {
        "colab": {
          "base_uri": "https://localhost:8080/"
        },
        "id": "REXStac45mv4",
        "outputId": "aba29bbd-cc13-4d85-dd2b-4ca0d4ee171d"
      },
      "source": [
        "import os.path\n",
        "from os import path\n",
        "import matplotlib.pyplot as plt\n",
        "import numpy as np\n",
        "%matplotlib inline\n",
        "plt.style.use('ggplot')\n",
        "\n",
        "import nltk\n",
        "nltk.download('wordnet')\n",
        "\n",
        "from IPython.display import SVG, Markdown\n",
        "def printmd(string):\n",
        "    display(Markdown(string))"
      ],
      "execution_count": 5,
      "outputs": [
        {
          "output_type": "stream",
          "text": [
            "[nltk_data] Downloading package wordnet to /root/nltk_data...\n",
            "[nltk_data]   Unzipping corpora/wordnet.zip.\n"
          ],
          "name": "stdout"
        }
      ]
    },
    {
      "cell_type": "code",
      "metadata": {
        "id": "WeZ0PWAvNkCG",
        "colab": {
          "base_uri": "https://localhost:8080/"
        },
        "outputId": "2a43c6b5-4066-4e39-9688-87b55fcde1d6"
      },
      "source": [
        "import sys\n",
        "\n",
        "sys.path.insert(0, '/content/gector/utils')\n",
        "\n",
        "from adversarial import convert_sentence"
      ],
      "execution_count": 6,
      "outputs": [
        {
          "output_type": "stream",
          "text": [
            "/usr/local/lib/python3.7/dist-packages/requests/__init__.py:91: RequestsDependencyWarning: urllib3 (1.26.5) or chardet (3.0.4) doesn't match a supported version!\n",
            "  RequestsDependencyWarning)\n"
          ],
          "name": "stderr"
        }
      ]
    },
    {
      "cell_type": "markdown",
      "metadata": {
        "id": "xTQl2f2s6UhV"
      },
      "source": [
        "Load pre-trained model:"
      ]
    },
    {
      "cell_type": "code",
      "metadata": {
        "colab": {
          "base_uri": "https://localhost:8080/"
        },
        "id": "xpXS5ejM6Z1l",
        "outputId": "f200788c-8461-4eb1-af20-698c2ec8186d"
      },
      "source": [
        "# Create new folder for pre-trained models and for the demo files\n",
        "if path.exists('/content/gector/pre-trained-models') == False:\n",
        "  os.mkdir('/content/gector/pre-trained-models')\n",
        "\n",
        "# Create a folder where all temporary files for the demo will be saved\n",
        "if path.exists('/content/gector/demo-files') == False:\n",
        "  os.mkdir('/content/gector/demo-files')\n",
        "\n",
        "# Load pre-trained Gector BERT model (baseline)\n",
        "if os.path.isfile('/content/gector/pre-trained-models/bert_0_gector.th') == False:\n",
        "  !wget -P /content/gector/pre-trained-models https://grammarly-nlp-data-public.s3.amazonaws.com/gector/bert_0_gector.th\n",
        "\n",
        "# Load our Gector BERT model\n",
        "if os.path.isfile('/content/gector/pre-trained-models/model_random.th') == False:\n",
        "  !wget -P /content/gector/pre-trained-models https://gector.s3.eu-west-2.amazonaws.com/model_random.th"
      ],
      "execution_count": 7,
      "outputs": [
        {
          "output_type": "stream",
          "text": [
            "--2021-05-30 14:38:26--  https://grammarly-nlp-data-public.s3.amazonaws.com/gector/bert_0_gector.th\n",
            "Resolving grammarly-nlp-data-public.s3.amazonaws.com (grammarly-nlp-data-public.s3.amazonaws.com)... 52.216.105.171\n",
            "Connecting to grammarly-nlp-data-public.s3.amazonaws.com (grammarly-nlp-data-public.s3.amazonaws.com)|52.216.105.171|:443... connected.\n",
            "HTTP request sent, awaiting response... 200 OK\n",
            "Length: 448709742 (428M) [application/x-www-form-urlencoded]\n",
            "Saving to: ‘/content/gector/pre-trained-models/bert_0_gector.th’\n",
            "\n",
            "bert_0_gector.th    100%[===================>] 427.92M  16.8MB/s    in 28s     \n",
            "\n",
            "2021-05-30 14:38:55 (15.3 MB/s) - ‘/content/gector/pre-trained-models/bert_0_gector.th’ saved [448709742/448709742]\n",
            "\n",
            "--2021-05-30 14:38:55--  https://gector.s3.eu-west-2.amazonaws.com/model_random.th\n",
            "Resolving gector.s3.eu-west-2.amazonaws.com (gector.s3.eu-west-2.amazonaws.com)... 52.95.148.94\n",
            "Connecting to gector.s3.eu-west-2.amazonaws.com (gector.s3.eu-west-2.amazonaws.com)|52.95.148.94|:443... connected.\n",
            "HTTP request sent, awaiting response... 200 OK\n",
            "Length: 448709678 (428M) [application/x-www-form-urlencoded]\n",
            "Saving to: ‘/content/gector/pre-trained-models/model_random.th’\n",
            "\n",
            "model_random.th     100%[===================>] 427.92M  12.2MB/s    in 38s     \n",
            "\n",
            "2021-05-30 14:39:35 (11.1 MB/s) - ‘/content/gector/pre-trained-models/model_random.th’ saved [448709678/448709678]\n",
            "\n"
          ],
          "name": "stdout"
        }
      ]
    },
    {
      "cell_type": "markdown",
      "metadata": {
        "id": "KOBk-60NjNYk"
      },
      "source": [
        "Load baseline model:"
      ]
    },
    {
      "cell_type": "code",
      "metadata": {
        "colab": {
          "base_uri": "https://localhost:8080/",
          "height": 164,
          "referenced_widgets": [
            "0cd3e79c8d064bb3af61a04e062cc3dc",
            "61a7da4beb42492daa297f5d78ebfb1e",
            "69fa25c97d1b4eeb828835300ad99123",
            "afaa4fe2e8eb4a86a3ba811eb88e5443",
            "d4bffe6b9c3e4584bc92a9f4e7490d00",
            "d4c51e9a72bb439aba1e67eda1b74c65",
            "7f85f9064f7f405486863aaea087bc7c",
            "a06601cdb0d84174b254389429133748",
            "efa9f1a40cc94d9294db9cd6ec7ec7b2",
            "d08349d2c60a4e80bfed1e4f3fc9b2b7",
            "4609d0c0b4ef4ab08c6399051831999e",
            "4bba948d19f345998e46818df3b815fc",
            "2f164c1c8e95428fb4f135026613ec0e",
            "14687fb6dc744c65bde0e2762eee475b",
            "61b5966fe48b4936b035a60fb4e04af2",
            "f793dc2be20e4f4480e724d8cdad0182",
            "a5e097eaf00b44029414e213dfd1f4b0",
            "defb9fc2efdb4fd2a807a622dfe21270",
            "3b4d746300124c60a260806b3d5eeaf2",
            "7d9e27add6f74807a773b09b08cd3384",
            "9d6f289a613b4bf2b7caba10daea699a",
            "6cada2ef91fc4b2a90689541337ae3ab",
            "61df69d9ed5f407c8b543833e410fec7",
            "a2932ec07d924c3fb162ae5aa65fc72f"
          ]
        },
        "id": "zNZPb6oOjPKc",
        "outputId": "e7e878f3-635a-4ff5-d8a4-e92d41339551"
      },
      "source": [
        "from gector.gec_model import GecBERTModel\n",
        "\n",
        "baseline_model = GecBERTModel(vocab_path='data/output_vocabulary',\n",
        "                             model_paths=[\"pre-trained-models/bert_0_gector.th\"],\n",
        "                             max_len=50, min_len=3,\n",
        "                             iterations=5,\n",
        "                             min_error_probability=0.41,\n",
        "                             lowercase_tokens=0,\n",
        "                             model_name='bert',\n",
        "                             special_tokens_fix=0,\n",
        "                             log=False,\n",
        "                             confidence=0.1,\n",
        "                             is_ensemble=0,\n",
        "                             weigths=None)\n",
        "\n",
        "our_model = GecBERTModel(vocab_path='data/output_vocabulary',\n",
        "                             model_paths=[\"pre-trained-models/model_random.th\"],\n",
        "                             max_len=50, min_len=3,\n",
        "                             iterations=5,\n",
        "                             min_error_probability=0.55,\n",
        "                             lowercase_tokens=0,\n",
        "                             model_name='bert',\n",
        "                             special_tokens_fix=0,\n",
        "                             log=False,\n",
        "                             confidence=0.15,\n",
        "                             is_ensemble=0,\n",
        "                             weigths=None)"
      ],
      "execution_count": 8,
      "outputs": [
        {
          "output_type": "display_data",
          "data": {
            "application/vnd.jupyter.widget-view+json": {
              "model_id": "0cd3e79c8d064bb3af61a04e062cc3dc",
              "version_minor": 0,
              "version_major": 2
            },
            "text/plain": [
              "HBox(children=(FloatProgress(value=0.0, description='Downloading', max=213450.0, style=ProgressStyle(descripti…"
            ]
          },
          "metadata": {
            "tags": []
          }
        },
        {
          "output_type": "stream",
          "text": [
            "\n"
          ],
          "name": "stdout"
        },
        {
          "output_type": "display_data",
          "data": {
            "application/vnd.jupyter.widget-view+json": {
              "model_id": "efa9f1a40cc94d9294db9cd6ec7ec7b2",
              "version_minor": 0,
              "version_major": 2
            },
            "text/plain": [
              "HBox(children=(FloatProgress(value=0.0, description='Downloading', max=433.0, style=ProgressStyle(description_…"
            ]
          },
          "metadata": {
            "tags": []
          }
        },
        {
          "output_type": "stream",
          "text": [
            "\n"
          ],
          "name": "stdout"
        },
        {
          "output_type": "display_data",
          "data": {
            "application/vnd.jupyter.widget-view+json": {
              "model_id": "a5e097eaf00b44029414e213dfd1f4b0",
              "version_minor": 0,
              "version_major": 2
            },
            "text/plain": [
              "HBox(children=(FloatProgress(value=0.0, description='Downloading', max=435779157.0, style=ProgressStyle(descri…"
            ]
          },
          "metadata": {
            "tags": []
          }
        },
        {
          "output_type": "stream",
          "text": [
            "\n"
          ],
          "name": "stdout"
        }
      ]
    },
    {
      "cell_type": "code",
      "metadata": {
        "id": "RDxkvfXJ2BM0"
      },
      "source": [
        "import spacy\n",
        "from spacy.lang.en import English\n",
        "from spacy.tokens import Doc, Token, Span\n",
        "from spacy import displacy\n",
        "from IPython.core.display import display, HTML\n",
        "from matplotlib import cm\n",
        "\n",
        "def visualise_changes(sentence, tags, label=None, color_options=None):\n",
        "  '''\n",
        "  Function to create a html which highlights the changes in a sentence\n",
        "\n",
        "  INPUT:\n",
        "  sentence        :   (str) sentence\n",
        "  tags            :   (list) List with tupel (start, end) of each tag\n",
        "  label           :   [optional] (list) Label for each index (e.g. \"ORG\")\n",
        "  color_options   :   [optional] (dict) color setting for each label\n",
        "\n",
        "  OUTPUT:\n",
        "  html            :   (html) visualization of tags\n",
        "  '''\n",
        "  # Create nlp object (without a NER tagger in the pipeline)\n",
        "  nlp = English()\n",
        "\n",
        "  # Tokenize the sentence\n",
        "  doc = nlp(sentence)\n",
        "\n",
        "  # Check if custom labels should be used\n",
        "  if label is None:\n",
        "    # Default: Create a Span for each match and assign the label \"PERTURBED\"\n",
        "    doc.ents = [Span(doc, start, end, label=\"PERTURBED\") for start, end in tags]\n",
        "\n",
        "    # Define coloring options\n",
        "    #color_options = {\"PERTURBED\": \"linear-gradient(90deg, #aa9cfc, #fc9ce7)\"}\n",
        "    color_options = {\"PERTURBED\": \"linear-gradient(90deg, rgba(170,156,252,0.5), rgba(252,156,231,0.5))\"}\n",
        "    options = {\"ents\": [\"PERTURBED\"], \"colors\": color_options}\n",
        "\n",
        "  else:\n",
        "    # Uppercase all labels\n",
        "    label = [label_.upper() for label_ in label]\n",
        "\n",
        "    # Otherwise use custom label\n",
        "    doc.ents = [Span(doc, start, end, label=label) for (start, end), label in zip(tags, label)]\n",
        "\n",
        "    # Get unique labels\n",
        "    unique_labels = list(set(label))\n",
        "\n",
        "    # Check if custom colors should be used\n",
        "    if color_options is None:\n",
        "\n",
        "      # Get the number of unique labels\n",
        "      n_labels = len(unique_labels)\n",
        "      \n",
        "      # Create background colors as rgb\n",
        "      rgb_vals = (cm.get_cmap('hsv')(np.linspace(0.05,0.6,2*n_labels))*255).astype(int)\n",
        "\n",
        "      color_options = {}\n",
        "\n",
        "      # Add colors\n",
        "      for i, label in enumerate(unique_labels):\n",
        "        #color_options[label] = \"rgba(\" + str(rgb_vals[i,0]) + \", \" + str(rgb_vals[i,1]) + \", \" + str(rgb_vals[i,2]) + \", \" + str(0.7) + \")\"\n",
        "        hex1 = '#%02x%02x%02x' % (rgb_vals[2*i,0], rgb_vals[2*i,1], rgb_vals[2*i,2])\n",
        "        hex2 = '#%02x%02x%02x' % (rgb_vals[2*i+1,0], rgb_vals[2*i+1,1], rgb_vals[2*i+1,2])\n",
        "        color_options[label] = \"linear-gradient(90deg, \" + hex1 + \", \" + hex2 + \")\"\n",
        "    \n",
        "    # Create the color options\n",
        "    options = {\"ents\": unique_labels, \"colors\": color_options}\n",
        "\n",
        "  # Create html and print output\n",
        "  html = displacy.render(doc, style=\"ent\", options=options)\n",
        "\n",
        "  # return modified doc\n",
        "  return html"
      ],
      "execution_count": 9,
      "outputs": []
    },
    {
      "cell_type": "code",
      "metadata": {
        "id": "jZmaAoUxAc_U"
      },
      "source": [
        "with open('/content/gector/data/output_vocabulary/labels.txt') as f:\n",
        "    gector_label = f.readlines()\n",
        "    \n",
        "# remove whitespace characters like `\\n` at the end of each line\n",
        "gector_label = [x.strip() for x in gector_label] "
      ],
      "execution_count": 10,
      "outputs": []
    },
    {
      "cell_type": "markdown",
      "metadata": {
        "id": "dXSDCguQ9Bdp"
      },
      "source": [
        "# **Adversarial Training for Grammatical Error Correction**\n",
        "\n",
        "*David Byrne, Alan Jeffares, Robert McHardy, Nils Zerrer*\n",
        "\n",
        "This notebook provides a functional overview of the optimised Gector model as presented in our paper. The notebook consists of two parts:\n",
        "* The first part is a **personalised demo** where the different parts of the model can be tested using arbitrary examples\n",
        "* In the second part, specific improvements on pre-defined sentences are **showcased**"
      ]
    },
    {
      "cell_type": "markdown",
      "metadata": {
        "id": "d9SgiULpkvu0"
      },
      "source": [
        "## **Personalised demo**\n",
        "\n",
        "The section below contains a personalised demo. Please feel free to use different sentences and test the model."
      ]
    },
    {
      "cell_type": "markdown",
      "metadata": {
        "id": "TlHPUBZ8ltur"
      },
      "source": [
        "Please enter your example sentence below and **[run the cell]**:"
      ]
    },
    {
      "cell_type": "code",
      "metadata": {
        "id": "xqW-drlclDoT",
        "cellView": "form"
      },
      "source": [
        "sentence = \"The girl and the boy going eats dinner\" #@param {type:\"string\"} \n",
        "\n",
        "perturbations, weights, tokens, indices = convert_sentence(sentence, '', our_model)"
      ],
      "execution_count": 11,
      "outputs": []
    },
    {
      "cell_type": "markdown",
      "metadata": {
        "id": "U9HGvae-GohL"
      },
      "source": [
        "### Attention weight"
      ]
    },
    {
      "cell_type": "markdown",
      "metadata": {
        "id": "p7S3CvV8pDjz"
      },
      "source": [
        "As a first step, we extract the weights from the first attention head which is depicted below for an arbitrary example sentence:"
      ]
    },
    {
      "cell_type": "markdown",
      "metadata": {
        "id": "tMHMqU4dmTv7"
      },
      "source": [
        "<p align=\"center\">\n",
        "<img src=\"https://raw.githubusercontent.com/RobMcH/gector/master/figures/attention_weights.svg\">\n",
        "</p>"
      ]
    },
    {
      "cell_type": "code",
      "metadata": {
        "colab": {
          "base_uri": "https://localhost:8080/",
          "height": 411
        },
        "id": "00F_2jjVpcuj",
        "cellView": "form",
        "outputId": "53bb9ff0-0d7b-4986-ba09-cfe5a818ad37"
      },
      "source": [
        "#@markdown **[run the cell]** For your given example sentence, the attention weight in the first attention head is distributed as follows:\n",
        "\n",
        "weight = weights[0]\n",
        "\n",
        "x_pos = [i for i, _ in enumerate(tokens)]\n",
        "\n",
        "max_weight = weight.max()\n",
        "\n",
        "colors = []\n",
        "for val in weight:\n",
        "    if val == max_weight:\n",
        "        colors.append('tab:pink')\n",
        "    else:\n",
        "        colors.append('tab:cyan')\n",
        "\n",
        "#(0.0, 0.6875, 0.9375)\n",
        "\n",
        "plt.rcParams['xtick.labelsize']=12\n",
        "\n",
        "bar_width = max(1, len(max(tokens, key=len))*0.15)\n",
        "\n",
        "f, ax = plt.subplots(figsize=(bar_width*weight.size,6)) # set the size that you'd like (width, height)\n",
        "plt.bar(x_pos, weight, color=colors)\n",
        "plt.xlabel(\"token\")\n",
        "plt.ylabel(\"relative weight\")\n",
        "plt.title(\"attention weight first layer\")\n",
        "\n",
        "plt.xticks(x_pos, tokens)\n",
        "\n",
        "\n",
        "plt.show()"
      ],
      "execution_count": 12,
      "outputs": [
        {
          "output_type": "display_data",
          "data": {
            "image/png": "[encoded data removed]",
            "text/plain": [
              "<Figure size 576x432 with 1 Axes>"
            ]
          },
          "metadata": {
            "tags": []
          }
        }
      ]
    },
    {
      "cell_type": "markdown",
      "metadata": {
        "id": "2D3rjU0WGwUI"
      },
      "source": [
        "### Perturbation"
      ]
    },
    {
      "cell_type": "markdown",
      "metadata": {
        "id": "DiTKHFeSpc4T"
      },
      "source": [
        "We use the attention weight information to identify which token is most relevant in making a decision about the correctness of a sentence. The token with the highest overall weight is then perturbed using a rule-based approach. This assures that we not only generate gramatically wrong sentences, but also sentences on which the model is likely to fail:"
      ]
    },
    {
      "cell_type": "markdown",
      "metadata": {
        "id": "Q1kKDkV-qQgL"
      },
      "source": [
        "<p align=\"center\">\n",
        "<img src=\"https://raw.githubusercontent.com/RobMcH/gector/master/figures/adversarial_sample_generation.svg\" width=\"600\"/>\n",
        "</p>"
      ]
    },
    {
      "cell_type": "code",
      "metadata": {
        "colab": {
          "base_uri": "https://localhost:8080/"
        },
        "id": "PTJHZrGLubY-",
        "outputId": "bb491bba-e7d9-40bd-9ce4-3f8ebb1461bd"
      },
      "source": [
        "perturbations[0]"
      ],
      "execution_count": 19,
      "outputs": [
        {
          "output_type": "execute_result",
          "data": {
            "text/plain": [
              "('The girl and the boy going dinner', '')"
            ]
          },
          "metadata": {
            "tags": []
          },
          "execution_count": 19
        }
      ]
    },
    {
      "cell_type": "code",
      "metadata": {
        "colab": {
          "base_uri": "https://localhost:8080/"
        },
        "id": "khvmgG4Zu3oF",
        "outputId": "fb610658-071c-4b94-8a1a-4eb6340449b4"
      },
      "source": [
        "indices"
      ],
      "execution_count": 20,
      "outputs": [
        {
          "output_type": "execute_result",
          "data": {
            "text/plain": [
              "[-1, -1, -1]"
            ]
          },
          "metadata": {
            "tags": []
          },
          "execution_count": 20
        }
      ]
    },
    {
      "cell_type": "code",
      "metadata": {
        "colab": {
          "base_uri": "https://localhost:8080/",
          "height": 375
        },
        "id": "ugB05eERyLas",
        "cellView": "form",
        "outputId": "274aba39-ef0d-4198-d31b-5296f8949073"
      },
      "source": [
        "#@markdown **[run the cell]** Perturbed sentences:\n",
        "\n",
        "printmd('**Original sentence:**')\n",
        "html = visualise_changes(sentence, [(0,0)])\n",
        "display(HTML(html))\n",
        "print('\\n')\n",
        "\n",
        "for i, perturbation in enumerate(perturbations):\n",
        "  if i == 0:\n",
        "    change_type = 'Perturbed token with maximum attention weight'\n",
        "  elif i == 1:\n",
        "    change_type = 'Perturbed token with minimum attention weight'\n",
        "  else:\n",
        "    change_type = 'Perturbed random token'\n",
        "\n",
        "  if indices[i] == -1:\n",
        "    html = visualise_changes(perturbation[0], [(0,0)])\n",
        "    printmd('**' + change_type + ' (removed token):**')\n",
        "  else:\n",
        "    html = visualise_changes(perturbation[0], [(indices[i],indices[i]+1)])\n",
        "    printmd('**' + change_type + ' :**')\n",
        "  display(HTML(html))\n",
        "\n",
        "  if i < 2:\n",
        "    print('\\n')"
      ],
      "execution_count": 22,
      "outputs": [
        {
          "output_type": "display_data",
          "data": {
            "text/markdown": "**Original sentence:**",
            "text/plain": [
              "<IPython.core.display.Markdown object>"
            ]
          },
          "metadata": {
            "tags": []
          }
        },
        {
          "output_type": "display_data",
          "data": {
            "text/html": [
              "<div class=\"entities\" style=\"line-height: 2.5; direction: ltr\">The girl and the boy going eats dinner</div>"
            ],
            "text/plain": [
              "<IPython.core.display.HTML object>"
            ]
          },
          "metadata": {
            "tags": []
          }
        },
        {
          "output_type": "stream",
          "text": [
            "\n",
            "\n"
          ],
          "name": "stdout"
        },
        {
          "output_type": "display_data",
          "data": {
            "text/markdown": "**Perturbed token with maximum attention weight (removed token):**",
            "text/plain": [
              "<IPython.core.display.Markdown object>"
            ]
          },
          "metadata": {
            "tags": []
          }
        },
        {
          "output_type": "display_data",
          "data": {
            "text/html": [
              "<div class=\"entities\" style=\"line-height: 2.5; direction: ltr\">The girl and the boy going dinner</div>"
            ],
            "text/plain": [
              "<IPython.core.display.HTML object>"
            ]
          },
          "metadata": {
            "tags": []
          }
        },
        {
          "output_type": "stream",
          "text": [
            "\n",
            "\n"
          ],
          "name": "stdout"
        },
        {
          "output_type": "display_data",
          "data": {
            "text/markdown": "**Perturbed token with minimum attention weight (removed token):**",
            "text/plain": [
              "<IPython.core.display.Markdown object>"
            ]
          },
          "metadata": {
            "tags": []
          }
        },
        {
          "output_type": "display_data",
          "data": {
            "text/html": [
              "<div class=\"entities\" style=\"line-height: 2.5; direction: ltr\">The girl and boy going eats dinner</div>"
            ],
            "text/plain": [
              "<IPython.core.display.HTML object>"
            ]
          },
          "metadata": {
            "tags": []
          }
        },
        {
          "output_type": "stream",
          "text": [
            "\n",
            "\n"
          ],
          "name": "stdout"
        },
        {
          "output_type": "display_data",
          "data": {
            "text/markdown": "**Perturbed random token (removed token):**",
            "text/plain": [
              "<IPython.core.display.Markdown object>"
            ]
          },
          "metadata": {
            "tags": []
          }
        },
        {
          "output_type": "display_data",
          "data": {
            "text/html": [
              "<div class=\"entities\" style=\"line-height: 2.5; direction: ltr\">The girl and the boy eats dinner</div>"
            ],
            "text/plain": [
              "<IPython.core.display.HTML object>"
            ]
          },
          "metadata": {
            "tags": []
          }
        }
      ]
    },
    {
      "cell_type": "markdown",
      "metadata": {
        "id": "79aDFeVTzVxU"
      },
      "source": [
        "### Tagging and Correction"
      ]
    },
    {
      "cell_type": "markdown",
      "metadata": {
        "id": "FNeu6vgd5fe0"
      },
      "source": [
        "<p align=\"center\">\n",
        "<img src=\"https://raw.githubusercontent.com/RobMcH/gector/master/figures/gector_pipeline.svg\" width=\"600\"/>\n",
        "</p>\n",
        "\n"
      ]
    },
    {
      "cell_type": "code",
      "metadata": {
        "colab": {
          "base_uri": "https://localhost:8080/",
          "height": 375
        },
        "id": "-8YBniGdsuIc",
        "cellView": "form",
        "outputId": "af748e9e-ec67-4b10-f037-479497dcaa65"
      },
      "source": [
        "#@markdown **[run the cell]** The model (choose either ours or the basline) makes the following iterative corrections:\n",
        "model = \"Ours\" #@param [\"Ours\", \"Baseline\"]\n",
        "\n",
        "if model == 'Ours':\n",
        "  pred_model = our_model\n",
        "else:\n",
        "  pred_model = baseline_model\n",
        "\n",
        "printmd('**Original sentence:**')\n",
        "html = visualise_changes(sentence, [(0,0)])\n",
        "display(HTML(html))\n",
        "print('\\n')\n",
        "\n",
        "# Create nlp object\n",
        "nlp = English()\n",
        "\n",
        "# Tokenize the sentence\n",
        "tokens = [token.text for token in nlp(sentence)]\n",
        "\n",
        "# Make prediction\n",
        "pred_result = pred_model.handle_batch([tokens], True)\n",
        "\n",
        "# Get number of iterations until correct sentence / max iterations reached\n",
        "n_iterations = len(pred_result[2])\n",
        "\n",
        "# Counter for number of changes\n",
        "n_changes = 0\n",
        "\n",
        "# Array of input sentences after each iteration\n",
        "input_sentences = []\n",
        "\n",
        "# Create colors\n",
        "all_labels = []\n",
        "for i in range(n_iterations):\n",
        "  all_labels += pred_result[2][i][2][0]\n",
        "\n",
        "unique_labels = list(set([gector_label[label].upper() for label in all_labels]))\n",
        "\n",
        "n_labels = len(unique_labels)\n",
        "\n",
        "# Create background colors as rgb\n",
        "rgb_vals = (cm.get_cmap('hsv')(np.linspace(0.05,0.6,2*n_labels))*255).astype(int)\n",
        "\n",
        "color_options = {}\n",
        "\n",
        "# Add colors\n",
        "for i, label in enumerate(unique_labels):\n",
        "  #color_options[label] = \"rgba(\" + str(rgb_vals[i,0]) + \", \" + str(rgb_vals[i,1]) + \", \" + str(rgb_vals[i,2]) + \", \" + str(0.7) + \")\"\n",
        "  hex1 = '#%02x%02x%02x' % (rgb_vals[2*i,0], rgb_vals[2*i,1], rgb_vals[2*i,2])\n",
        "  hex2 = '#%02x%02x%02x' % (rgb_vals[2*i+1,0], rgb_vals[2*i+1,1], rgb_vals[2*i+1,2])\n",
        "  color_options[label] = \"linear-gradient(90deg, \" + hex1 + \", \" + hex2 + \")\"\n",
        "\n",
        "# For each iteration\n",
        "for i in range(n_iterations):\n",
        "  input_tokens = pred_result[2][i][0][0]\n",
        "  \n",
        "  predicted_tags = pred_result[2][i][2][0][1:]\n",
        "\n",
        "  input_sentence = ''\n",
        "  n_tokens = len(input_tokens)\n",
        "\n",
        "  for j, token in enumerate(input_tokens):\n",
        "    if j < (n_tokens-1):\n",
        "      input_sentence += token + ' '\n",
        "    else:\n",
        "      input_sentence += token\n",
        "  \n",
        "  tag_indexes = []\n",
        "  label = []\n",
        "\n",
        "  for k, predicted_tag in enumerate(predicted_tags):\n",
        "    if not predicted_tag == 0:\n",
        "      tag_indexes.append((k, k+1))\n",
        "      label.append(gector_label[predicted_tag])\n",
        "\n",
        "  if tag_indexes:\n",
        "    printmd('**Iteration ' + str(i+1) + ':**')\n",
        "    html = visualise_changes(input_sentence, tag_indexes, label, color_options)\n",
        "    display(HTML(html))\n",
        "    print('\\n')\n",
        "  else:\n",
        "    printmd('**Model output:**')\n",
        "    html = visualise_changes(input_sentence, [(0,0)])\n",
        "    display(HTML(html))"
      ],
      "execution_count": 26,
      "outputs": [
        {
          "output_type": "display_data",
          "data": {
            "text/markdown": "**Original sentence:**",
            "text/plain": [
              "<IPython.core.display.Markdown object>"
            ]
          },
          "metadata": {
            "tags": []
          }
        },
        {
          "output_type": "display_data",
          "data": {
            "text/html": [
              "<div class=\"entities\" style=\"line-height: 2.5; direction: ltr\">The girl and the boy going eats dinner</div>"
            ],
            "text/plain": [
              "<IPython.core.display.HTML object>"
            ]
          },
          "metadata": {
            "tags": []
          }
        },
        {
          "output_type": "stream",
          "text": [
            "\n",
            "\n"
          ],
          "name": "stdout"
        },
        {
          "output_type": "display_data",
          "data": {
            "text/markdown": "**Iteration 1:**",
            "text/plain": [
              "<IPython.core.display.Markdown object>"
            ]
          },
          "metadata": {
            "tags": []
          }
        },
        {
          "output_type": "display_data",
          "data": {
            "text/html": [
              "<div class=\"entities\" style=\"line-height: 2.5; direction: ltr\">The girl and the boy \n",
              "<mark class=\"entity\" style=\"background: linear-gradient(90deg, #00ff74, #00ffd2); padding: 0.45em 0.6em; margin: 0 0.25em; line-height: 1; border-radius: 0.35em; box-decoration-break: clone; -webkit-box-decoration-break: clone\">\n",
              "    going\n",
              "    <span style=\"font-size: 0.8em; font-weight: bold; line-height: 1; border-radius: 0.35em; text-transform: uppercase; vertical-align: middle; margin-left: 0.5rem\">$APPEND_TO</span>\n",
              "</mark>\n",
              " \n",
              "<mark class=\"entity\" style=\"background: linear-gradient(90deg, #ff4600, #ffa500); padding: 0.45em 0.6em; margin: 0 0.25em; line-height: 1; border-radius: 0.35em; box-decoration-break: clone; -webkit-box-decoration-break: clone\">\n",
              "    eats\n",
              "    <span style=\"font-size: 0.8em; font-weight: bold; line-height: 1; border-radius: 0.35em; text-transform: uppercase; vertical-align: middle; margin-left: 0.5rem\">$TRANSFORM_VERB_VBZ_VB</span>\n",
              "</mark>\n",
              " \n",
              "<mark class=\"entity\" style=\"background: linear-gradient(90deg, #00d2ff, #0074ff); padding: 0.45em 0.6em; margin: 0 0.25em; line-height: 1; border-radius: 0.35em; box-decoration-break: clone; -webkit-box-decoration-break: clone\">\n",
              "    dinner\n",
              "    <span style=\"font-size: 0.8em; font-weight: bold; line-height: 1; border-radius: 0.35em; text-transform: uppercase; vertical-align: middle; margin-left: 0.5rem\">$APPEND_.</span>\n",
              "</mark>\n",
              "</div>"
            ],
            "text/plain": [
              "<IPython.core.display.HTML object>"
            ]
          },
          "metadata": {
            "tags": []
          }
        },
        {
          "output_type": "stream",
          "text": [
            "\n",
            "\n"
          ],
          "name": "stdout"
        },
        {
          "output_type": "display_data",
          "data": {
            "text/markdown": "**Iteration 2:**",
            "text/plain": [
              "<IPython.core.display.Markdown object>"
            ]
          },
          "metadata": {
            "tags": []
          }
        },
        {
          "output_type": "display_data",
          "data": {
            "text/html": [
              "<div class=\"entities\" style=\"line-height: 2.5; direction: ltr\">The girl and the \n",
              "<mark class=\"entity\" style=\"background: linear-gradient(90deg, #43ff00, #00ff1b); padding: 0.45em 0.6em; margin: 0 0.25em; line-height: 1; border-radius: 0.35em; box-decoration-break: clone; -webkit-box-decoration-break: clone\">\n",
              "    boy\n",
              "    <span style=\"font-size: 0.8em; font-weight: bold; line-height: 1; border-radius: 0.35em; text-transform: uppercase; vertical-align: middle; margin-left: 0.5rem\">$APPEND_ARE</span>\n",
              "</mark>\n",
              " going to eat dinner .</div>"
            ],
            "text/plain": [
              "<IPython.core.display.HTML object>"
            ]
          },
          "metadata": {
            "tags": []
          }
        },
        {
          "output_type": "stream",
          "text": [
            "\n",
            "\n"
          ],
          "name": "stdout"
        },
        {
          "output_type": "display_data",
          "data": {
            "text/markdown": "**Model output:**",
            "text/plain": [
              "<IPython.core.display.Markdown object>"
            ]
          },
          "metadata": {
            "tags": []
          }
        },
        {
          "output_type": "display_data",
          "data": {
            "text/html": [
              "<div class=\"entities\" style=\"line-height: 2.5; direction: ltr\">The girl and the boy are going to eat dinner .</div>"
            ],
            "text/plain": [
              "<IPython.core.display.HTML object>"
            ]
          },
          "metadata": {
            "tags": []
          }
        }
      ]
    },
    {
      "cell_type": "markdown",
      "metadata": {
        "id": "wSWPi1bt1cNF"
      },
      "source": [
        "## **Showcase**"
      ]
    },
    {
      "cell_type": "markdown",
      "metadata": {
        "id": "EURWOa8w1h80"
      },
      "source": [
        "In the following we present the specific improvements for pre-defined sentences."
      ]
    }
  ]
}