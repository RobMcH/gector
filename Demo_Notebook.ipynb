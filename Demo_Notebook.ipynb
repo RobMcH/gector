{
  "nbformat": 4,
  "nbformat_minor": 0,
  "metadata": {
    "colab": {
      "name": "Demo_Notebook.ipynb",
      "provenance": [],
      "collapsed_sections": [
        "jn3GuO4J0D5j"
      ],
      "toc_visible": true,
      "authorship_tag": "ABX9TyMs9EQTE1/XPyCSUoiq7lW8",
      "include_colab_link": true
    },
    "kernelspec": {
      "name": "python3",
      "display_name": "Python 3"
    },
    "language_info": {
      "name": "python"
    },
    "widgets": {
      "application/vnd.jupyter.widget-state+json": {
        "2af0b6a560334651bce95294c44eefed": {
          "model_module": "@jupyter-widgets/controls",
          "model_name": "HBoxModel",
          "state": {
            "_view_name": "HBoxView",
            "_dom_classes": [],
            "_model_name": "HBoxModel",
            "_view_module": "@jupyter-widgets/controls",
            "_model_module_version": "1.5.0",
            "_view_count": null,
            "_view_module_version": "1.5.0",
            "box_style": "",
            "layout": "IPY_MODEL_c3aad91a83ec4827a8b600c7a6e30864",
            "_model_module": "@jupyter-widgets/controls",
            "children": [
              "IPY_MODEL_b7d338b3d88e4899bb8e5848df9aa000",
              "IPY_MODEL_6e85c3187a7c47d1bece8a509b49cb2e"
            ]
          }
        },
        "c3aad91a83ec4827a8b600c7a6e30864": {
          "model_module": "@jupyter-widgets/base",
          "model_name": "LayoutModel",
          "state": {
            "_view_name": "LayoutView",
            "grid_template_rows": null,
            "right": null,
            "justify_content": null,
            "_view_module": "@jupyter-widgets/base",
            "overflow": null,
            "_model_module_version": "1.2.0",
            "_view_count": null,
            "flex_flow": null,
            "width": null,
            "min_width": null,
            "border": null,
            "align_items": null,
            "bottom": null,
            "_model_module": "@jupyter-widgets/base",
            "top": null,
            "grid_column": null,
            "overflow_y": null,
            "overflow_x": null,
            "grid_auto_flow": null,
            "grid_area": null,
            "grid_template_columns": null,
            "flex": null,
            "_model_name": "LayoutModel",
            "justify_items": null,
            "grid_row": null,
            "max_height": null,
            "align_content": null,
            "visibility": null,
            "align_self": null,
            "height": null,
            "min_height": null,
            "padding": null,
            "grid_auto_rows": null,
            "grid_gap": null,
            "max_width": null,
            "order": null,
            "_view_module_version": "1.2.0",
            "grid_template_areas": null,
            "object_position": null,
            "object_fit": null,
            "grid_auto_columns": null,
            "margin": null,
            "display": null,
            "left": null
          }
        },
        "b7d338b3d88e4899bb8e5848df9aa000": {
          "model_module": "@jupyter-widgets/controls",
          "model_name": "FloatProgressModel",
          "state": {
            "_view_name": "ProgressView",
            "style": "IPY_MODEL_5498019b46cd4cd7960b1441d240bef9",
            "_dom_classes": [],
            "description": "Downloading: 100%",
            "_model_name": "FloatProgressModel",
            "bar_style": "success",
            "max": 213450,
            "_view_module": "@jupyter-widgets/controls",
            "_model_module_version": "1.5.0",
            "value": 213450,
            "_view_count": null,
            "_view_module_version": "1.5.0",
            "orientation": "horizontal",
            "min": 0,
            "description_tooltip": null,
            "_model_module": "@jupyter-widgets/controls",
            "layout": "IPY_MODEL_6911de0522944bbabf48ce74050023dc"
          }
        },
        "6e85c3187a7c47d1bece8a509b49cb2e": {
          "model_module": "@jupyter-widgets/controls",
          "model_name": "HTMLModel",
          "state": {
            "_view_name": "HTMLView",
            "style": "IPY_MODEL_7694751aa98844e7abd75862e42cf28e",
            "_dom_classes": [],
            "description": "",
            "_model_name": "HTMLModel",
            "placeholder": "​",
            "_view_module": "@jupyter-widgets/controls",
            "_model_module_version": "1.5.0",
            "value": " 213k/213k [00:00&lt;00:00, 273kB/s]",
            "_view_count": null,
            "_view_module_version": "1.5.0",
            "description_tooltip": null,
            "_model_module": "@jupyter-widgets/controls",
            "layout": "IPY_MODEL_4428fe77843f432db2595c4866819230"
          }
        },
        "5498019b46cd4cd7960b1441d240bef9": {
          "model_module": "@jupyter-widgets/controls",
          "model_name": "ProgressStyleModel",
          "state": {
            "_view_name": "StyleView",
            "_model_name": "ProgressStyleModel",
            "description_width": "initial",
            "_view_module": "@jupyter-widgets/base",
            "_model_module_version": "1.5.0",
            "_view_count": null,
            "_view_module_version": "1.2.0",
            "bar_color": null,
            "_model_module": "@jupyter-widgets/controls"
          }
        },
        "6911de0522944bbabf48ce74050023dc": {
          "model_module": "@jupyter-widgets/base",
          "model_name": "LayoutModel",
          "state": {
            "_view_name": "LayoutView",
            "grid_template_rows": null,
            "right": null,
            "justify_content": null,
            "_view_module": "@jupyter-widgets/base",
            "overflow": null,
            "_model_module_version": "1.2.0",
            "_view_count": null,
            "flex_flow": null,
            "width": null,
            "min_width": null,
            "border": null,
            "align_items": null,
            "bottom": null,
            "_model_module": "@jupyter-widgets/base",
            "top": null,
            "grid_column": null,
            "overflow_y": null,
            "overflow_x": null,
            "grid_auto_flow": null,
            "grid_area": null,
            "grid_template_columns": null,
            "flex": null,
            "_model_name": "LayoutModel",
            "justify_items": null,
            "grid_row": null,
            "max_height": null,
            "align_content": null,
            "visibility": null,
            "align_self": null,
            "height": null,
            "min_height": null,
            "padding": null,
            "grid_auto_rows": null,
            "grid_gap": null,
            "max_width": null,
            "order": null,
            "_view_module_version": "1.2.0",
            "grid_template_areas": null,
            "object_position": null,
            "object_fit": null,
            "grid_auto_columns": null,
            "margin": null,
            "display": null,
            "left": null
          }
        },
        "7694751aa98844e7abd75862e42cf28e": {
          "model_module": "@jupyter-widgets/controls",
          "model_name": "DescriptionStyleModel",
          "state": {
            "_view_name": "StyleView",
            "_model_name": "DescriptionStyleModel",
            "description_width": "",
            "_view_module": "@jupyter-widgets/base",
            "_model_module_version": "1.5.0",
            "_view_count": null,
            "_view_module_version": "1.2.0",
            "_model_module": "@jupyter-widgets/controls"
          }
        },
        "4428fe77843f432db2595c4866819230": {
          "model_module": "@jupyter-widgets/base",
          "model_name": "LayoutModel",
          "state": {
            "_view_name": "LayoutView",
            "grid_template_rows": null,
            "right": null,
            "justify_content": null,
            "_view_module": "@jupyter-widgets/base",
            "overflow": null,
            "_model_module_version": "1.2.0",
            "_view_count": null,
            "flex_flow": null,
            "width": null,
            "min_width": null,
            "border": null,
            "align_items": null,
            "bottom": null,
            "_model_module": "@jupyter-widgets/base",
            "top": null,
            "grid_column": null,
            "overflow_y": null,
            "overflow_x": null,
            "grid_auto_flow": null,
            "grid_area": null,
            "grid_template_columns": null,
            "flex": null,
            "_model_name": "LayoutModel",
            "justify_items": null,
            "grid_row": null,
            "max_height": null,
            "align_content": null,
            "visibility": null,
            "align_self": null,
            "height": null,
            "min_height": null,
            "padding": null,
            "grid_auto_rows": null,
            "grid_gap": null,
            "max_width": null,
            "order": null,
            "_view_module_version": "1.2.0",
            "grid_template_areas": null,
            "object_position": null,
            "object_fit": null,
            "grid_auto_columns": null,
            "margin": null,
            "display": null,
            "left": null
          }
        },
        "fcba0fabad3e4659b1dce3a83fe9897e": {
          "model_module": "@jupyter-widgets/controls",
          "model_name": "HBoxModel",
          "state": {
            "_view_name": "HBoxView",
            "_dom_classes": [],
            "_model_name": "HBoxModel",
            "_view_module": "@jupyter-widgets/controls",
            "_model_module_version": "1.5.0",
            "_view_count": null,
            "_view_module_version": "1.5.0",
            "box_style": "",
            "layout": "IPY_MODEL_03b6e2f94c694687868df9ee5092b0a6",
            "_model_module": "@jupyter-widgets/controls",
            "children": [
              "IPY_MODEL_c2283bb1e2224c30aabf357419430457",
              "IPY_MODEL_13b0f9410d9840098a5b6d826f0777d1"
            ]
          }
        },
        "03b6e2f94c694687868df9ee5092b0a6": {
          "model_module": "@jupyter-widgets/base",
          "model_name": "LayoutModel",
          "state": {
            "_view_name": "LayoutView",
            "grid_template_rows": null,
            "right": null,
            "justify_content": null,
            "_view_module": "@jupyter-widgets/base",
            "overflow": null,
            "_model_module_version": "1.2.0",
            "_view_count": null,
            "flex_flow": null,
            "width": null,
            "min_width": null,
            "border": null,
            "align_items": null,
            "bottom": null,
            "_model_module": "@jupyter-widgets/base",
            "top": null,
            "grid_column": null,
            "overflow_y": null,
            "overflow_x": null,
            "grid_auto_flow": null,
            "grid_area": null,
            "grid_template_columns": null,
            "flex": null,
            "_model_name": "LayoutModel",
            "justify_items": null,
            "grid_row": null,
            "max_height": null,
            "align_content": null,
            "visibility": null,
            "align_self": null,
            "height": null,
            "min_height": null,
            "padding": null,
            "grid_auto_rows": null,
            "grid_gap": null,
            "max_width": null,
            "order": null,
            "_view_module_version": "1.2.0",
            "grid_template_areas": null,
            "object_position": null,
            "object_fit": null,
            "grid_auto_columns": null,
            "margin": null,
            "display": null,
            "left": null
          }
        },
        "c2283bb1e2224c30aabf357419430457": {
          "model_module": "@jupyter-widgets/controls",
          "model_name": "FloatProgressModel",
          "state": {
            "_view_name": "ProgressView",
            "style": "IPY_MODEL_3a49d36f0c114f018ff572c7a7b0b29d",
            "_dom_classes": [],
            "description": "Downloading: 100%",
            "_model_name": "FloatProgressModel",
            "bar_style": "success",
            "max": 433,
            "_view_module": "@jupyter-widgets/controls",
            "_model_module_version": "1.5.0",
            "value": 433,
            "_view_count": null,
            "_view_module_version": "1.5.0",
            "orientation": "horizontal",
            "min": 0,
            "description_tooltip": null,
            "_model_module": "@jupyter-widgets/controls",
            "layout": "IPY_MODEL_044ac78a3c09491bac23b340be8b3139"
          }
        },
        "13b0f9410d9840098a5b6d826f0777d1": {
          "model_module": "@jupyter-widgets/controls",
          "model_name": "HTMLModel",
          "state": {
            "_view_name": "HTMLView",
            "style": "IPY_MODEL_98c1ebdbc3ed49d396984f1ad9b815b9",
            "_dom_classes": [],
            "description": "",
            "_model_name": "HTMLModel",
            "placeholder": "​",
            "_view_module": "@jupyter-widgets/controls",
            "_model_module_version": "1.5.0",
            "value": " 433/433 [00:01&lt;00:00, 233B/s]",
            "_view_count": null,
            "_view_module_version": "1.5.0",
            "description_tooltip": null,
            "_model_module": "@jupyter-widgets/controls",
            "layout": "IPY_MODEL_a12d37fde05444afa929b6eeebab7221"
          }
        },
        "3a49d36f0c114f018ff572c7a7b0b29d": {
          "model_module": "@jupyter-widgets/controls",
          "model_name": "ProgressStyleModel",
          "state": {
            "_view_name": "StyleView",
            "_model_name": "ProgressStyleModel",
            "description_width": "initial",
            "_view_module": "@jupyter-widgets/base",
            "_model_module_version": "1.5.0",
            "_view_count": null,
            "_view_module_version": "1.2.0",
            "bar_color": null,
            "_model_module": "@jupyter-widgets/controls"
          }
        },
        "044ac78a3c09491bac23b340be8b3139": {
          "model_module": "@jupyter-widgets/base",
          "model_name": "LayoutModel",
          "state": {
            "_view_name": "LayoutView",
            "grid_template_rows": null,
            "right": null,
            "justify_content": null,
            "_view_module": "@jupyter-widgets/base",
            "overflow": null,
            "_model_module_version": "1.2.0",
            "_view_count": null,
            "flex_flow": null,
            "width": null,
            "min_width": null,
            "border": null,
            "align_items": null,
            "bottom": null,
            "_model_module": "@jupyter-widgets/base",
            "top": null,
            "grid_column": null,
            "overflow_y": null,
            "overflow_x": null,
            "grid_auto_flow": null,
            "grid_area": null,
            "grid_template_columns": null,
            "flex": null,
            "_model_name": "LayoutModel",
            "justify_items": null,
            "grid_row": null,
            "max_height": null,
            "align_content": null,
            "visibility": null,
            "align_self": null,
            "height": null,
            "min_height": null,
            "padding": null,
            "grid_auto_rows": null,
            "grid_gap": null,
            "max_width": null,
            "order": null,
            "_view_module_version": "1.2.0",
            "grid_template_areas": null,
            "object_position": null,
            "object_fit": null,
            "grid_auto_columns": null,
            "margin": null,
            "display": null,
            "left": null
          }
        },
        "98c1ebdbc3ed49d396984f1ad9b815b9": {
          "model_module": "@jupyter-widgets/controls",
          "model_name": "DescriptionStyleModel",
          "state": {
            "_view_name": "StyleView",
            "_model_name": "DescriptionStyleModel",
            "description_width": "",
            "_view_module": "@jupyter-widgets/base",
            "_model_module_version": "1.5.0",
            "_view_count": null,
            "_view_module_version": "1.2.0",
            "_model_module": "@jupyter-widgets/controls"
          }
        },
        "a12d37fde05444afa929b6eeebab7221": {
          "model_module": "@jupyter-widgets/base",
          "model_name": "LayoutModel",
          "state": {
            "_view_name": "LayoutView",
            "grid_template_rows": null,
            "right": null,
            "justify_content": null,
            "_view_module": "@jupyter-widgets/base",
            "overflow": null,
            "_model_module_version": "1.2.0",
            "_view_count": null,
            "flex_flow": null,
            "width": null,
            "min_width": null,
            "border": null,
            "align_items": null,
            "bottom": null,
            "_model_module": "@jupyter-widgets/base",
            "top": null,
            "grid_column": null,
            "overflow_y": null,
            "overflow_x": null,
            "grid_auto_flow": null,
            "grid_area": null,
            "grid_template_columns": null,
            "flex": null,
            "_model_name": "LayoutModel",
            "justify_items": null,
            "grid_row": null,
            "max_height": null,
            "align_content": null,
            "visibility": null,
            "align_self": null,
            "height": null,
            "min_height": null,
            "padding": null,
            "grid_auto_rows": null,
            "grid_gap": null,
            "max_width": null,
            "order": null,
            "_view_module_version": "1.2.0",
            "grid_template_areas": null,
            "object_position": null,
            "object_fit": null,
            "grid_auto_columns": null,
            "margin": null,
            "display": null,
            "left": null
          }
        },
        "7b7d0cf986334a2c8f1d275319c23f60": {
          "model_module": "@jupyter-widgets/controls",
          "model_name": "HBoxModel",
          "state": {
            "_view_name": "HBoxView",
            "_dom_classes": [],
            "_model_name": "HBoxModel",
            "_view_module": "@jupyter-widgets/controls",
            "_model_module_version": "1.5.0",
            "_view_count": null,
            "_view_module_version": "1.5.0",
            "box_style": "",
            "layout": "IPY_MODEL_4ee60169601f4346a87c65bd7298f420",
            "_model_module": "@jupyter-widgets/controls",
            "children": [
              "IPY_MODEL_a95bb2a567204ca3965ba03c4424ba40",
              "IPY_MODEL_8bd642a41c734acebffef766e17d3c16"
            ]
          }
        },
        "4ee60169601f4346a87c65bd7298f420": {
          "model_module": "@jupyter-widgets/base",
          "model_name": "LayoutModel",
          "state": {
            "_view_name": "LayoutView",
            "grid_template_rows": null,
            "right": null,
            "justify_content": null,
            "_view_module": "@jupyter-widgets/base",
            "overflow": null,
            "_model_module_version": "1.2.0",
            "_view_count": null,
            "flex_flow": null,
            "width": null,
            "min_width": null,
            "border": null,
            "align_items": null,
            "bottom": null,
            "_model_module": "@jupyter-widgets/base",
            "top": null,
            "grid_column": null,
            "overflow_y": null,
            "overflow_x": null,
            "grid_auto_flow": null,
            "grid_area": null,
            "grid_template_columns": null,
            "flex": null,
            "_model_name": "LayoutModel",
            "justify_items": null,
            "grid_row": null,
            "max_height": null,
            "align_content": null,
            "visibility": null,
            "align_self": null,
            "height": null,
            "min_height": null,
            "padding": null,
            "grid_auto_rows": null,
            "grid_gap": null,
            "max_width": null,
            "order": null,
            "_view_module_version": "1.2.0",
            "grid_template_areas": null,
            "object_position": null,
            "object_fit": null,
            "grid_auto_columns": null,
            "margin": null,
            "display": null,
            "left": null
          }
        },
        "a95bb2a567204ca3965ba03c4424ba40": {
          "model_module": "@jupyter-widgets/controls",
          "model_name": "FloatProgressModel",
          "state": {
            "_view_name": "ProgressView",
            "style": "IPY_MODEL_e5ef0b5b336c4d8399474701ea46e7e3",
            "_dom_classes": [],
            "description": "Downloading: 100%",
            "_model_name": "FloatProgressModel",
            "bar_style": "success",
            "max": 435779157,
            "_view_module": "@jupyter-widgets/controls",
            "_model_module_version": "1.5.0",
            "value": 435779157,
            "_view_count": null,
            "_view_module_version": "1.5.0",
            "orientation": "horizontal",
            "min": 0,
            "description_tooltip": null,
            "_model_module": "@jupyter-widgets/controls",
            "layout": "IPY_MODEL_b23687c4643e4c60816e7e71a9110918"
          }
        },
        "8bd642a41c734acebffef766e17d3c16": {
          "model_module": "@jupyter-widgets/controls",
          "model_name": "HTMLModel",
          "state": {
            "_view_name": "HTMLView",
            "style": "IPY_MODEL_592c0809ea9d4a0eb37dff389d33f3e0",
            "_dom_classes": [],
            "description": "",
            "_model_name": "HTMLModel",
            "placeholder": "​",
            "_view_module": "@jupyter-widgets/controls",
            "_model_module_version": "1.5.0",
            "value": " 436M/436M [00:40&lt;00:00, 10.6MB/s]",
            "_view_count": null,
            "_view_module_version": "1.5.0",
            "description_tooltip": null,
            "_model_module": "@jupyter-widgets/controls",
            "layout": "IPY_MODEL_a5b1b67dd88744ef83cf3d2884fd52c1"
          }
        },
        "e5ef0b5b336c4d8399474701ea46e7e3": {
          "model_module": "@jupyter-widgets/controls",
          "model_name": "ProgressStyleModel",
          "state": {
            "_view_name": "StyleView",
            "_model_name": "ProgressStyleModel",
            "description_width": "initial",
            "_view_module": "@jupyter-widgets/base",
            "_model_module_version": "1.5.0",
            "_view_count": null,
            "_view_module_version": "1.2.0",
            "bar_color": null,
            "_model_module": "@jupyter-widgets/controls"
          }
        },
        "b23687c4643e4c60816e7e71a9110918": {
          "model_module": "@jupyter-widgets/base",
          "model_name": "LayoutModel",
          "state": {
            "_view_name": "LayoutView",
            "grid_template_rows": null,
            "right": null,
            "justify_content": null,
            "_view_module": "@jupyter-widgets/base",
            "overflow": null,
            "_model_module_version": "1.2.0",
            "_view_count": null,
            "flex_flow": null,
            "width": null,
            "min_width": null,
            "border": null,
            "align_items": null,
            "bottom": null,
            "_model_module": "@jupyter-widgets/base",
            "top": null,
            "grid_column": null,
            "overflow_y": null,
            "overflow_x": null,
            "grid_auto_flow": null,
            "grid_area": null,
            "grid_template_columns": null,
            "flex": null,
            "_model_name": "LayoutModel",
            "justify_items": null,
            "grid_row": null,
            "max_height": null,
            "align_content": null,
            "visibility": null,
            "align_self": null,
            "height": null,
            "min_height": null,
            "padding": null,
            "grid_auto_rows": null,
            "grid_gap": null,
            "max_width": null,
            "order": null,
            "_view_module_version": "1.2.0",
            "grid_template_areas": null,
            "object_position": null,
            "object_fit": null,
            "grid_auto_columns": null,
            "margin": null,
            "display": null,
            "left": null
          }
        },
        "592c0809ea9d4a0eb37dff389d33f3e0": {
          "model_module": "@jupyter-widgets/controls",
          "model_name": "DescriptionStyleModel",
          "state": {
            "_view_name": "StyleView",
            "_model_name": "DescriptionStyleModel",
            "description_width": "",
            "_view_module": "@jupyter-widgets/base",
            "_model_module_version": "1.5.0",
            "_view_count": null,
            "_view_module_version": "1.2.0",
            "_model_module": "@jupyter-widgets/controls"
          }
        },
        "a5b1b67dd88744ef83cf3d2884fd52c1": {
          "model_module": "@jupyter-widgets/base",
          "model_name": "LayoutModel",
          "state": {
            "_view_name": "LayoutView",
            "grid_template_rows": null,
            "right": null,
            "justify_content": null,
            "_view_module": "@jupyter-widgets/base",
            "overflow": null,
            "_model_module_version": "1.2.0",
            "_view_count": null,
            "flex_flow": null,
            "width": null,
            "min_width": null,
            "border": null,
            "align_items": null,
            "bottom": null,
            "_model_module": "@jupyter-widgets/base",
            "top": null,
            "grid_column": null,
            "overflow_y": null,
            "overflow_x": null,
            "grid_auto_flow": null,
            "grid_area": null,
            "grid_template_columns": null,
            "flex": null,
            "_model_name": "LayoutModel",
            "justify_items": null,
            "grid_row": null,
            "max_height": null,
            "align_content": null,
            "visibility": null,
            "align_self": null,
            "height": null,
            "min_height": null,
            "padding": null,
            "grid_auto_rows": null,
            "grid_gap": null,
            "max_width": null,
            "order": null,
            "_view_module_version": "1.2.0",
            "grid_template_areas": null,
            "object_position": null,
            "object_fit": null,
            "grid_auto_columns": null,
            "margin": null,
            "display": null,
            "left": null
          }
        }
      }
    },
    "accelerator": "GPU"
  },
  "cells": [
    {
      "cell_type": "markdown",
      "metadata": {
        "id": "view-in-github",
        "colab_type": "text"
      },
      "source": [
        "<a href=\"https://colab.research.google.com/github/RobMcH/gector/blob/master/Demo_Notebook.ipynb\" target=\"_parent\"><img src=\"https://colab.research.google.com/assets/colab-badge.svg\" alt=\"Open In Colab\"/></a>"
      ]
    },
    {
      "cell_type": "markdown",
      "metadata": {
        "id": "i35B5CHomC_r"
      },
      "source": [
        "***The cells below have to be executed once to setup everything - This might take a few minutes***"
      ]
    },
    {
      "cell_type": "markdown",
      "metadata": {
        "id": "jn3GuO4J0D5j"
      },
      "source": [
        "#### Notebook setup"
      ]
    },
    {
      "cell_type": "markdown",
      "metadata": {
        "id": "-qgSEvuT9ebR"
      },
      "source": [
        "Clone the Github repo:"
      ]
    },
    {
      "cell_type": "code",
      "metadata": {
        "colab": {
          "base_uri": "https://localhost:8080/"
        },
        "id": "_Man-xh49gzq",
        "outputId": "5f9ed1f4-d8c7-4a66-808f-97aeefc6d3b3"
      },
      "source": [
        "!git clone https://github.com/RobMcH/gector"
      ],
      "execution_count": 1,
      "outputs": [
        {
          "output_type": "stream",
          "text": [
            "Cloning into 'gector'...\n",
            "remote: Enumerating objects: 404, done.\u001b[K\n",
            "remote: Counting objects: 100% (324/324), done.\u001b[K\n",
            "remote: Compressing objects: 100% (202/202), done.\u001b[K\n",
            "remote: Total 404 (delta 212), reused 208 (delta 116), pack-reused 80\u001b[K\n",
            "Receiving objects: 100% (404/404), 1.77 MiB | 7.48 MiB/s, done.\n",
            "Resolving deltas: 100% (243/243), done.\n"
          ],
          "name": "stdout"
        }
      ]
    },
    {
      "cell_type": "code",
      "metadata": {
        "colab": {
          "base_uri": "https://localhost:8080/"
        },
        "id": "ep4AOVChwrVk",
        "outputId": "e65c7622-3235-4385-f343-c588c4cdc0d0"
      },
      "source": [
        "%cd /content/gector"
      ],
      "execution_count": 2,
      "outputs": [
        {
          "output_type": "stream",
          "text": [
            "/content/gector\n"
          ],
          "name": "stdout"
        }
      ]
    },
    {
      "cell_type": "markdown",
      "metadata": {
        "id": "hEQs9NYzAPI5"
      },
      "source": [
        "Install requirements:"
      ]
    },
    {
      "cell_type": "code",
      "metadata": {
        "colab": {
          "base_uri": "https://localhost:8080/"
        },
        "id": "3MzXvJNtAOIh",
        "outputId": "eac2342f-7586-42d9-b1c6-1a72909d2b93"
      },
      "source": [
        "pip install -r requirements.txt"
      ],
      "execution_count": 3,
      "outputs": [
        {
          "output_type": "stream",
          "text": [
            "Collecting git+https://github.com/amitness/nodebox_linguistics_extended@master (from -r requirements.txt (line 7))\n",
            "  Cloning https://github.com/amitness/nodebox_linguistics_extended (to revision master) to /tmp/pip-req-build-uwdcwinm\n",
            "  Running command git clone -q https://github.com/amitness/nodebox_linguistics_extended /tmp/pip-req-build-uwdcwinm\n",
            "Collecting torch==1.3.0\n",
            "\u001b[?25l  Downloading https://files.pythonhosted.org/packages/b4/0b/9d33aef363b6728ad937643d98be713c6c25d50ce338678ad57cee6e6fd5/torch-1.3.0-cp37-cp37m-manylinux1_x86_64.whl (773.1MB)\n",
            "\u001b[K     |████████████████████████████████| 773.1MB 24kB/s \n",
            "\u001b[?25hCollecting allennlp==0.8.4\n",
            "\u001b[?25l  Downloading https://files.pythonhosted.org/packages/30/8c/72b14d20c9cbb0306939ea41109fc599302634fd5c59ccba1a659b7d0360/allennlp-0.8.4-py3-none-any.whl (5.7MB)\n",
            "\u001b[K     |████████████████████████████████| 5.7MB 22.8MB/s \n",
            "\u001b[33mWARNING: The candidate selected for download or install is a yanked version: 'python-Levenshtein' candidate (version 0.12.0 at https://files.pythonhosted.org/packages/42/a9/d1785c85ebf9b7dfacd08938dd028209c34a0ea3b1bcdb895208bd40a67d/python-Levenshtein-0.12.0.tar.gz#sha256=033a11de5e3d19ea25c9302d11224e1a1898fe5abd23c61c7c360c25195e3eb1 (from https://pypi.org/simple/python-levenshtein/))\n",
            "Reason for being yanked: Insecure, upgrade to 0.12.1\u001b[0m\n",
            "\u001b[?25hCollecting python-Levenshtein==0.12.0\n",
            "\u001b[?25l  Downloading https://files.pythonhosted.org/packages/42/a9/d1785c85ebf9b7dfacd08938dd028209c34a0ea3b1bcdb895208bd40a67d/python-Levenshtein-0.12.0.tar.gz (48kB)\n",
            "\u001b[K     |████████████████████████████████| 51kB 6.0MB/s \n",
            "\u001b[?25hCollecting transformers==2.2.2\n",
            "\u001b[?25l  Downloading https://files.pythonhosted.org/packages/d1/08/4a6768ca1a7a4fa37e5ee08077c5d02b8d83876bd36caa5fc24d98992ac2/transformers-2.2.2-py3-none-any.whl (387kB)\n",
            "\u001b[K     |████████████████████████████████| 389kB 32.3MB/s \n",
            "\u001b[?25hCollecting scikit-learn==0.20.0\n",
            "\u001b[?25l  Downloading https://files.pythonhosted.org/packages/56/7d/0737aed3e157fb90a1eaecb1cbfa5742fa4206fb305c8f157b666b71da14/scikit_learn-0.20.0-cp37-cp37m-manylinux1_x86_64.whl (5.3MB)\n",
            "\u001b[K     |████████████████████████████████| 5.3MB 15.3MB/s \n",
            "\u001b[?25hCollecting sentencepiece==0.1.91\n",
            "\u001b[?25l  Downloading https://files.pythonhosted.org/packages/f2/e2/813dff3d72df2f49554204e7e5f73a3dc0f0eb1e3958a4cad3ef3fb278b7/sentencepiece-0.1.91-cp37-cp37m-manylinux1_x86_64.whl (1.1MB)\n",
            "\u001b[K     |████████████████████████████████| 1.1MB 32.1MB/s \n",
            "\u001b[?25hCollecting overrides==4.1.2\n",
            "  Downloading https://files.pythonhosted.org/packages/37/f8/b0e12ec2ef211b53803732b3ab49d8d2b7e439ae10132c4bfd0c11a74305/overrides-4.1.2-py3-none-any.whl\n",
            "Collecting sgmllib3k\n",
            "  Downloading https://files.pythonhosted.org/packages/9e/bd/3704a8c3e0942d711c1299ebf7b9091930adae6675d7c8f476a7ce48653c/sgmllib3k-1.0.0.tar.gz\n",
            "Requirement already satisfied: numpy in /usr/local/lib/python3.7/dist-packages (from torch==1.3.0->-r requirements.txt (line 1)) (1.19.5)\n",
            "Collecting conllu==0.11\n",
            "  Downloading https://files.pythonhosted.org/packages/d4/2c/856344d9b69baf5b374c395b4286626181a80f0c2b2f704914d18a1cea47/conllu-0.11-py2.py3-none-any.whl\n",
            "Collecting parsimonious>=0.8.0\n",
            "\u001b[?25l  Downloading https://files.pythonhosted.org/packages/02/fc/067a3f89869a41009e1a7cdfb14725f8ddd246f30f63c645e8ef8a1c56f4/parsimonious-0.8.1.tar.gz (45kB)\n",
            "\u001b[K     |████████████████████████████████| 51kB 6.3MB/s \n",
            "\u001b[?25hCollecting boto3\n",
            "\u001b[?25l  Downloading https://files.pythonhosted.org/packages/11/20/4294e37c3c6936c905f1e9da958c776d7fee54a4512bdb7706d69c8720e6/boto3-1.17.84-py2.py3-none-any.whl (131kB)\n",
            "\u001b[K     |████████████████████████████████| 133kB 39.6MB/s \n",
            "\u001b[?25hRequirement already satisfied: pytz>=2017.3 in /usr/local/lib/python3.7/dist-packages (from allennlp==0.8.4->-r requirements.txt (line 2)) (2018.9)\n",
            "Requirement already satisfied: sqlparse>=0.2.4 in /usr/local/lib/python3.7/dist-packages (from allennlp==0.8.4->-r requirements.txt (line 2)) (0.4.1)\n",
            "Collecting jsonpickle\n",
            "  Downloading https://files.pythonhosted.org/packages/bb/1a/f2db026d4d682303793559f1c2bb425ba3ec0d6fd7ac63397790443f2461/jsonpickle-2.0.0-py2.py3-none-any.whl\n",
            "Collecting spacy<2.2,>=2.0.18\n",
            "\u001b[?25l  Downloading https://files.pythonhosted.org/packages/16/f3/554271be8ff46471586d164bfbb6999364ba30ca5a0045e2a86da5f3b2c5/spacy-2.1.9-cp37-cp37m-manylinux1_x86_64.whl (30.8MB)\n",
            "\u001b[K     |████████████████████████████████| 30.8MB 134kB/s \n",
            "\u001b[?25hRequirement already satisfied: nltk in /usr/local/lib/python3.7/dist-packages (from allennlp==0.8.4->-r requirements.txt (line 2)) (3.2.5)\n",
            "Requirement already satisfied: scipy in /usr/local/lib/python3.7/dist-packages (from allennlp==0.8.4->-r requirements.txt (line 2)) (1.4.1)\n",
            "Collecting flaky\n",
            "  Downloading https://files.pythonhosted.org/packages/43/0e/2f50064e327f41a1eb811df089f813036e19a64b95e33f8e9e0b96c2447e/flaky-3.7.0-py2.py3-none-any.whl\n",
            "Collecting responses>=0.7\n",
            "  Downloading https://files.pythonhosted.org/packages/ba/00/0e63b7024c2d873bf57411ab0ed77eeafd5f44bace7cbf1d56bca8ab3be2/responses-0.13.3-py2.py3-none-any.whl\n",
            "Requirement already satisfied: flask>=1.0.2 in /usr/local/lib/python3.7/dist-packages (from allennlp==0.8.4->-r requirements.txt (line 2)) (1.1.4)\n",
            "Requirement already satisfied: h5py in /usr/local/lib/python3.7/dist-packages (from allennlp==0.8.4->-r requirements.txt (line 2)) (3.1.0)\n",
            "Collecting numpydoc>=0.8.0\n",
            "\u001b[?25l  Downloading https://files.pythonhosted.org/packages/60/1d/9e398c53d6ae27d5ab312ddc16a9ffe1bee0dfdf1d6ec88c40b0ca97582e/numpydoc-1.1.0-py3-none-any.whl (47kB)\n",
            "\u001b[K     |████████████████████████████████| 51kB 6.6MB/s \n",
            "\u001b[?25hCollecting tensorboardX>=1.2\n",
            "\u001b[?25l  Downloading https://files.pythonhosted.org/packages/07/84/46421bd3e0e89a92682b1a38b40efc22dafb6d8e3d947e4ceefd4a5fabc7/tensorboardX-2.2-py2.py3-none-any.whl (120kB)\n",
            "\u001b[K     |████████████████████████████████| 122kB 40.5MB/s \n",
            "\u001b[?25hCollecting gevent>=1.3.6\n",
            "\u001b[?25l  Downloading https://files.pythonhosted.org/packages/3e/85/df3d1fd2b60a87455475f93012861b76a411d27ba4a0859939adbe2c9dc3/gevent-21.1.2-cp37-cp37m-manylinux2010_x86_64.whl (5.6MB)\n",
            "\u001b[K     |████████████████████████████████| 5.6MB 28.2MB/s \n",
            "\u001b[?25hCollecting pytorch-pretrained-bert>=0.6.0\n",
            "\u001b[?25l  Downloading https://files.pythonhosted.org/packages/d7/e0/c08d5553b89973d9a240605b9c12404bcf8227590de62bae27acbcfe076b/pytorch_pretrained_bert-0.6.2-py3-none-any.whl (123kB)\n",
            "\u001b[K     |████████████████████████████████| 133kB 39.6MB/s \n",
            "\u001b[?25hRequirement already satisfied: editdistance in /usr/local/lib/python3.7/dist-packages (from allennlp==0.8.4->-r requirements.txt (line 2)) (0.5.3)\n",
            "Requirement already satisfied: pytest in /usr/local/lib/python3.7/dist-packages (from allennlp==0.8.4->-r requirements.txt (line 2)) (3.6.4)\n",
            "Collecting ftfy\n",
            "\u001b[?25l  Downloading https://files.pythonhosted.org/packages/af/da/d215a091986e5f01b80f5145cff6f22e2dc57c6b048aab2e882a07018473/ftfy-6.0.3.tar.gz (64kB)\n",
            "\u001b[K     |████████████████████████████████| 71kB 7.8MB/s \n",
            "\u001b[?25hCollecting awscli>=1.11.91\n",
            "\u001b[?25l  Downloading https://files.pythonhosted.org/packages/62/b7/dc689e218b411b81b97636ce5c74190d25611956a325c7908b28a29fdd05/awscli-1.19.84-py2.py3-none-any.whl (3.6MB)\n",
            "\u001b[K     |████████████████████████████████| 3.6MB 12.4MB/s \n",
            "\u001b[?25hRequirement already satisfied: matplotlib>=2.2.3 in /usr/local/lib/python3.7/dist-packages (from allennlp==0.8.4->-r requirements.txt (line 2)) (3.2.2)\n",
            "Requirement already satisfied: tqdm>=4.19 in /usr/local/lib/python3.7/dist-packages (from allennlp==0.8.4->-r requirements.txt (line 2)) (4.41.1)\n",
            "Collecting jsonnet>=0.10.0; sys_platform != \"win32\"\n",
            "\u001b[?25l  Downloading https://files.pythonhosted.org/packages/42/40/6f16e5ac994b16fa71c24310f97174ce07d3a97b433275589265c6b94d2b/jsonnet-0.17.0.tar.gz (259kB)\n",
            "\u001b[K     |████████████████████████████████| 266kB 39.8MB/s \n",
            "\u001b[?25hCollecting flask-cors>=3.0.7\n",
            "  Downloading https://files.pythonhosted.org/packages/db/84/901e700de86604b1c4ef4b57110d4e947c218b9997adf5d38fa7da493bce/Flask_Cors-3.0.10-py2.py3-none-any.whl\n",
            "Requirement already satisfied: requests>=2.18 in /usr/local/lib/python3.7/dist-packages (from allennlp==0.8.4->-r requirements.txt (line 2)) (2.23.0)\n",
            "Collecting unidecode\n",
            "\u001b[?25l  Downloading https://files.pythonhosted.org/packages/9e/25/723487ca2a52ebcee88a34d7d1f5a4b80b793f179ee0f62d5371938dfa01/Unidecode-1.2.0-py2.py3-none-any.whl (241kB)\n",
            "\u001b[K     |████████████████████████████████| 245kB 39.2MB/s \n",
            "\u001b[?25hCollecting word2number>=1.1\n",
            "  Downloading https://files.pythonhosted.org/packages/4a/29/a31940c848521f0725f0df6b25dca8917f13a2025b0e8fcbe5d0457e45e6/word2number-1.1.zip\n",
            "Requirement already satisfied: setuptools in /usr/local/lib/python3.7/dist-packages (from python-Levenshtein==0.12.0->-r requirements.txt (line 3)) (56.1.0)\n",
            "Collecting sacremoses\n",
            "\u001b[?25l  Downloading https://files.pythonhosted.org/packages/75/ee/67241dc87f266093c533a2d4d3d69438e57d7a90abb216fa076e7d475d4a/sacremoses-0.0.45-py3-none-any.whl (895kB)\n",
            "\u001b[K     |████████████████████████████████| 901kB 29.7MB/s \n",
            "\u001b[?25hRequirement already satisfied: regex in /usr/local/lib/python3.7/dist-packages (from transformers==2.2.2->-r requirements.txt (line 4)) (2019.12.20)\n",
            "Collecting typing-utils>=0.0.3\n",
            "  Downloading https://files.pythonhosted.org/packages/66/6e/99fe160a19676051070aa1da4ca44aac2a213e79ba1a492b5f03facf6447/typing_utils-0.1.0-py3-none-any.whl\n",
            "Requirement already satisfied: six>=1.9.0 in /usr/local/lib/python3.7/dist-packages (from parsimonious>=0.8.0->allennlp==0.8.4->-r requirements.txt (line 2)) (1.15.0)\n",
            "Collecting jmespath<1.0.0,>=0.7.1\n",
            "  Downloading https://files.pythonhosted.org/packages/07/cb/5f001272b6faeb23c1c9e0acc04d48eaaf5c862c17709d20e3469c6e0139/jmespath-0.10.0-py2.py3-none-any.whl\n",
            "Collecting botocore<1.21.0,>=1.20.84\n",
            "\u001b[?25l  Downloading https://files.pythonhosted.org/packages/bc/22/72c81d754bbcb128cba2ad88670c3c320e4594e6ddd8cca6512c3967108c/botocore-1.20.84-py2.py3-none-any.whl (7.6MB)\n",
            "\u001b[K     |████████████████████████████████| 7.6MB 18.7MB/s \n",
            "\u001b[?25hCollecting s3transfer<0.5.0,>=0.4.0\n",
            "\u001b[?25l  Downloading https://files.pythonhosted.org/packages/63/d0/693477c688348654ddc21dcdce0817653a294aa43f41771084c25e7ff9c7/s3transfer-0.4.2-py2.py3-none-any.whl (79kB)\n",
            "\u001b[K     |████████████████████████████████| 81kB 9.0MB/s \n",
            "\u001b[?25hRequirement already satisfied: importlib-metadata; python_version < \"3.8\" in /usr/local/lib/python3.7/dist-packages (from jsonpickle->allennlp==0.8.4->-r requirements.txt (line 2)) (4.0.1)\n",
            "Requirement already satisfied: srsly<1.1.0,>=0.0.6 in /usr/local/lib/python3.7/dist-packages (from spacy<2.2,>=2.0.18->allennlp==0.8.4->-r requirements.txt (line 2)) (1.0.5)\n",
            "Requirement already satisfied: cymem<2.1.0,>=2.0.2 in /usr/local/lib/python3.7/dist-packages (from spacy<2.2,>=2.0.18->allennlp==0.8.4->-r requirements.txt (line 2)) (2.0.5)\n",
            "Requirement already satisfied: murmurhash<1.1.0,>=0.28.0 in /usr/local/lib/python3.7/dist-packages (from spacy<2.2,>=2.0.18->allennlp==0.8.4->-r requirements.txt (line 2)) (1.0.5)\n",
            "Requirement already satisfied: wasabi<1.1.0,>=0.2.0 in /usr/local/lib/python3.7/dist-packages (from spacy<2.2,>=2.0.18->allennlp==0.8.4->-r requirements.txt (line 2)) (0.8.2)\n",
            "Collecting thinc<7.1.0,>=7.0.8\n",
            "\u001b[?25l  Downloading https://files.pythonhosted.org/packages/36/42/d7ea7539af3852fd8c1f0b3adf4a100fb3d72b40b69cef1a764ff979a743/thinc-7.0.8-cp37-cp37m-manylinux1_x86_64.whl (2.1MB)\n",
            "\u001b[K     |████████████████████████████████| 2.1MB 18.5MB/s \n",
            "\u001b[?25hCollecting blis<0.3.0,>=0.2.2\n",
            "\u001b[?25l  Downloading https://files.pythonhosted.org/packages/fa/5f/47b7b29ad202b2210020e2f33bfb06d1db2abe0e709c2a84736e8a9d1bd5/blis-0.2.4-cp37-cp37m-manylinux1_x86_64.whl (3.2MB)\n",
            "\u001b[K     |████████████████████████████████| 3.2MB 17.4MB/s \n",
            "\u001b[?25hCollecting preshed<2.1.0,>=2.0.1\n",
            "\u001b[?25l  Downloading https://files.pythonhosted.org/packages/bc/2b/3ecd5d90d2d6fd39fbc520de7d80db5d74defdc2d7c2e15531d9cc3498c7/preshed-2.0.1-cp37-cp37m-manylinux1_x86_64.whl (82kB)\n",
            "\u001b[K     |████████████████████████████████| 92kB 9.7MB/s \n",
            "\u001b[?25hCollecting plac<1.0.0,>=0.9.6\n",
            "  Downloading https://files.pythonhosted.org/packages/9e/9b/62c60d2f5bc135d2aa1d8c8a86aaf84edb719a59c7f11a4316259e61a298/plac-0.9.6-py2.py3-none-any.whl\n",
            "Collecting urllib3>=1.25.10\n",
            "\u001b[?25l  Downloading https://files.pythonhosted.org/packages/0c/cd/1e2ec680ec7b09846dc6e605f5a7709dfb9d7128e51a026e7154e18a234e/urllib3-1.26.5-py2.py3-none-any.whl (138kB)\n",
            "\u001b[K     |████████████████████████████████| 143kB 41.7MB/s \n",
            "\u001b[?25hRequirement already satisfied: Jinja2<3.0,>=2.10.1 in /usr/local/lib/python3.7/dist-packages (from flask>=1.0.2->allennlp==0.8.4->-r requirements.txt (line 2)) (2.11.3)\n",
            "Requirement already satisfied: itsdangerous<2.0,>=0.24 in /usr/local/lib/python3.7/dist-packages (from flask>=1.0.2->allennlp==0.8.4->-r requirements.txt (line 2)) (1.1.0)\n",
            "Requirement already satisfied: Werkzeug<2.0,>=0.15 in /usr/local/lib/python3.7/dist-packages (from flask>=1.0.2->allennlp==0.8.4->-r requirements.txt (line 2)) (1.0.1)\n",
            "Requirement already satisfied: click<8.0,>=5.1 in /usr/local/lib/python3.7/dist-packages (from flask>=1.0.2->allennlp==0.8.4->-r requirements.txt (line 2)) (7.1.2)\n",
            "Requirement already satisfied: cached-property; python_version < \"3.8\" in /usr/local/lib/python3.7/dist-packages (from h5py->allennlp==0.8.4->-r requirements.txt (line 2)) (1.5.2)\n",
            "Requirement already satisfied: sphinx>=1.6.5 in /usr/local/lib/python3.7/dist-packages (from numpydoc>=0.8.0->allennlp==0.8.4->-r requirements.txt (line 2)) (1.8.5)\n",
            "Requirement already satisfied: protobuf>=3.8.0 in /usr/local/lib/python3.7/dist-packages (from tensorboardX>=1.2->allennlp==0.8.4->-r requirements.txt (line 2)) (3.12.4)\n",
            "Requirement already satisfied: greenlet<2.0,>=0.4.17; platform_python_implementation == \"CPython\" in /usr/local/lib/python3.7/dist-packages (from gevent>=1.3.6->allennlp==0.8.4->-r requirements.txt (line 2)) (1.1.0)\n",
            "Collecting zope.event\n",
            "  Downloading https://files.pythonhosted.org/packages/9e/85/b45408c64f3b888976f1d5b37eed8d746b8d5729a66a49ec846fda27d371/zope.event-4.5.0-py2.py3-none-any.whl\n",
            "Collecting zope.interface\n",
            "\u001b[?25l  Downloading https://files.pythonhosted.org/packages/bb/a7/94e1a92c71436f934cdd2102826fa041c83dcb7d21dd0f1fb1a57f6e0620/zope.interface-5.4.0-cp37-cp37m-manylinux2010_x86_64.whl (251kB)\n",
            "\u001b[K     |████████████████████████████████| 256kB 40.4MB/s \n",
            "\u001b[?25hRequirement already satisfied: pluggy<0.8,>=0.5 in /usr/local/lib/python3.7/dist-packages (from pytest->allennlp==0.8.4->-r requirements.txt (line 2)) (0.7.1)\n",
            "Requirement already satisfied: py>=1.5.0 in /usr/local/lib/python3.7/dist-packages (from pytest->allennlp==0.8.4->-r requirements.txt (line 2)) (1.10.0)\n",
            "Requirement already satisfied: attrs>=17.4.0 in /usr/local/lib/python3.7/dist-packages (from pytest->allennlp==0.8.4->-r requirements.txt (line 2)) (21.2.0)\n",
            "Requirement already satisfied: atomicwrites>=1.0 in /usr/local/lib/python3.7/dist-packages (from pytest->allennlp==0.8.4->-r requirements.txt (line 2)) (1.4.0)\n",
            "Requirement already satisfied: more-itertools>=4.0.0 in /usr/local/lib/python3.7/dist-packages (from pytest->allennlp==0.8.4->-r requirements.txt (line 2)) (8.7.0)\n",
            "Requirement already satisfied: wcwidth in /usr/local/lib/python3.7/dist-packages (from ftfy->allennlp==0.8.4->-r requirements.txt (line 2)) (0.2.5)\n",
            "Requirement already satisfied: PyYAML<5.5,>=3.10 in /usr/local/lib/python3.7/dist-packages (from awscli>=1.11.91->allennlp==0.8.4->-r requirements.txt (line 2)) (3.13)\n",
            "Requirement already satisfied: rsa<4.8,>=3.1.2; python_version > \"2.7\" in /usr/local/lib/python3.7/dist-packages (from awscli>=1.11.91->allennlp==0.8.4->-r requirements.txt (line 2)) (4.7.2)\n",
            "Collecting docutils<0.16,>=0.10\n",
            "\u001b[?25l  Downloading https://files.pythonhosted.org/packages/22/cd/a6aa959dca619918ccb55023b4cb151949c64d4d5d55b3f4ffd7eee0c6e8/docutils-0.15.2-py3-none-any.whl (547kB)\n",
            "\u001b[K     |████████████████████████████████| 552kB 40.8MB/s \n",
            "\u001b[?25hCollecting colorama<0.4.4,>=0.2.5\n",
            "  Downloading https://files.pythonhosted.org/packages/c9/dc/45cdef1b4d119eb96316b3117e6d5708a08029992b2fee2c143c7a0a5cc5/colorama-0.4.3-py2.py3-none-any.whl\n",
            "Requirement already satisfied: kiwisolver>=1.0.1 in /usr/local/lib/python3.7/dist-packages (from matplotlib>=2.2.3->allennlp==0.8.4->-r requirements.txt (line 2)) (1.3.1)\n",
            "Requirement already satisfied: pyparsing!=2.0.4,!=2.1.2,!=2.1.6,>=2.0.1 in /usr/local/lib/python3.7/dist-packages (from matplotlib>=2.2.3->allennlp==0.8.4->-r requirements.txt (line 2)) (2.4.7)\n",
            "Requirement already satisfied: python-dateutil>=2.1 in /usr/local/lib/python3.7/dist-packages (from matplotlib>=2.2.3->allennlp==0.8.4->-r requirements.txt (line 2)) (2.8.1)\n",
            "Requirement already satisfied: cycler>=0.10 in /usr/local/lib/python3.7/dist-packages (from matplotlib>=2.2.3->allennlp==0.8.4->-r requirements.txt (line 2)) (0.10.0)\n",
            "Requirement already satisfied: chardet<4,>=3.0.2 in /usr/local/lib/python3.7/dist-packages (from requests>=2.18->allennlp==0.8.4->-r requirements.txt (line 2)) (3.0.4)\n",
            "Requirement already satisfied: certifi>=2017.4.17 in /usr/local/lib/python3.7/dist-packages (from requests>=2.18->allennlp==0.8.4->-r requirements.txt (line 2)) (2020.12.5)\n",
            "Requirement already satisfied: idna<3,>=2.5 in /usr/local/lib/python3.7/dist-packages (from requests>=2.18->allennlp==0.8.4->-r requirements.txt (line 2)) (2.10)\n",
            "Requirement already satisfied: joblib in /usr/local/lib/python3.7/dist-packages (from sacremoses->transformers==2.2.2->-r requirements.txt (line 4)) (1.0.1)\n",
            "Requirement already satisfied: typing-extensions>=3.6.4; python_version < \"3.8\" in /usr/local/lib/python3.7/dist-packages (from importlib-metadata; python_version < \"3.8\"->jsonpickle->allennlp==0.8.4->-r requirements.txt (line 2)) (3.7.4.3)\n",
            "Requirement already satisfied: zipp>=0.5 in /usr/local/lib/python3.7/dist-packages (from importlib-metadata; python_version < \"3.8\"->jsonpickle->allennlp==0.8.4->-r requirements.txt (line 2)) (3.4.1)\n",
            "Requirement already satisfied: MarkupSafe>=0.23 in /usr/local/lib/python3.7/dist-packages (from Jinja2<3.0,>=2.10.1->flask>=1.0.2->allennlp==0.8.4->-r requirements.txt (line 2)) (2.0.1)\n",
            "Requirement already satisfied: snowballstemmer>=1.1 in /usr/local/lib/python3.7/dist-packages (from sphinx>=1.6.5->numpydoc>=0.8.0->allennlp==0.8.4->-r requirements.txt (line 2)) (2.1.0)\n",
            "Requirement already satisfied: packaging in /usr/local/lib/python3.7/dist-packages (from sphinx>=1.6.5->numpydoc>=0.8.0->allennlp==0.8.4->-r requirements.txt (line 2)) (20.9)\n",
            "Requirement already satisfied: sphinxcontrib-websupport in /usr/local/lib/python3.7/dist-packages (from sphinx>=1.6.5->numpydoc>=0.8.0->allennlp==0.8.4->-r requirements.txt (line 2)) (1.2.4)\n",
            "Requirement already satisfied: Pygments>=2.0 in /usr/local/lib/python3.7/dist-packages (from sphinx>=1.6.5->numpydoc>=0.8.0->allennlp==0.8.4->-r requirements.txt (line 2)) (2.6.1)\n",
            "Requirement already satisfied: babel!=2.0,>=1.3 in /usr/local/lib/python3.7/dist-packages (from sphinx>=1.6.5->numpydoc>=0.8.0->allennlp==0.8.4->-r requirements.txt (line 2)) (2.9.1)\n",
            "Requirement already satisfied: alabaster<0.8,>=0.7 in /usr/local/lib/python3.7/dist-packages (from sphinx>=1.6.5->numpydoc>=0.8.0->allennlp==0.8.4->-r requirements.txt (line 2)) (0.7.12)\n",
            "Requirement already satisfied: imagesize in /usr/local/lib/python3.7/dist-packages (from sphinx>=1.6.5->numpydoc>=0.8.0->allennlp==0.8.4->-r requirements.txt (line 2)) (1.2.0)\n",
            "Requirement already satisfied: pyasn1>=0.1.3 in /usr/local/lib/python3.7/dist-packages (from rsa<4.8,>=3.1.2; python_version > \"2.7\"->awscli>=1.11.91->allennlp==0.8.4->-r requirements.txt (line 2)) (0.4.8)\n",
            "Requirement already satisfied: sphinxcontrib-serializinghtml in /usr/local/lib/python3.7/dist-packages (from sphinxcontrib-websupport->sphinx>=1.6.5->numpydoc>=0.8.0->allennlp==0.8.4->-r requirements.txt (line 2)) (1.1.4)\n",
            "Building wheels for collected packages: python-Levenshtein, nodebox-linguistics-extended, sgmllib3k, parsimonious, ftfy, jsonnet, word2number\n",
            "  Building wheel for python-Levenshtein (setup.py) ... \u001b[?25l\u001b[?25hdone\n",
            "  Created wheel for python-Levenshtein: filename=python_Levenshtein-0.12.0-cp37-cp37m-linux_x86_64.whl size=145876 sha256=0d2c5fa9f8e6dd7d425be1616edb7a91d92ed08524ccbd91d6a011eb52f1df4e\n",
            "  Stored in directory: /root/.cache/pip/wheels/de/c2/93/660fd5f7559049268ad2dc6d81c4e39e9e36518766eaf7e342\n",
            "  Building wheel for nodebox-linguistics-extended (setup.py) ... \u001b[?25l\u001b[?25hdone\n",
            "  Created wheel for nodebox-linguistics-extended: filename=nodebox_linguistics_extended-0.0.1-cp37-none-any.whl size=15921415 sha256=e38d8930dd1720fa3be3988e3452d63a990b1ab797c80dda66c86da8b8d353dd\n",
            "  Stored in directory: /tmp/pip-ephem-wheel-cache-6076jzcf/wheels/f0/2c/ce/9f7c943e87710ec7d447b89ef1c423444d9ded21399edef848\n",
            "  Building wheel for sgmllib3k (setup.py) ... \u001b[?25l\u001b[?25hdone\n",
            "  Created wheel for sgmllib3k: filename=sgmllib3k-1.0.0-cp37-none-any.whl size=6067 sha256=f0fd67be5b2b6481bbef0f5c4f90c422af56561a06708aa53175c9fd462b997b\n",
            "  Stored in directory: /root/.cache/pip/wheels/f1/80/5a/444ba08a550cdd241bd9baf8bae44be750efe370adb944506a\n",
            "  Building wheel for parsimonious (setup.py) ... \u001b[?25l\u001b[?25hdone\n",
            "  Created wheel for parsimonious: filename=parsimonious-0.8.1-cp37-none-any.whl size=42711 sha256=dc7bcfd1d0fe76fa35bc7bafd4f920b5c1a377e3c16ef32bc143123f83edf097\n",
            "  Stored in directory: /root/.cache/pip/wheels/b7/8d/e7/a0e74217da5caeb3c1c7689639b6d28ddbf9985b840bc96a9a\n",
            "  Building wheel for ftfy (setup.py) ... \u001b[?25l\u001b[?25hdone\n",
            "  Created wheel for ftfy: filename=ftfy-6.0.3-cp37-none-any.whl size=41916 sha256=0e99ce7ed5134711bcadd6420a735963a4923a9e811a3aeb3822991e7de65a6f\n",
            "  Stored in directory: /root/.cache/pip/wheels/99/2c/e6/109c8a28fef7a443f67ba58df21fe1d0067ac3322e75e6b0b7\n",
            "  Building wheel for jsonnet (setup.py) ... \u001b[?25l\u001b[?25hdone\n",
            "  Created wheel for jsonnet: filename=jsonnet-0.17.0-cp37-cp37m-linux_x86_64.whl size=3388765 sha256=f1883e81a80adb5f2674e79ac37ff9c8d9cc163eb417d8f66094d52a863faef5\n",
            "  Stored in directory: /root/.cache/pip/wheels/26/7a/37/7dbcc30a6b4efd17b91ad1f0128b7bbf84813bd4e1cfb8c1e3\n",
            "  Building wheel for word2number (setup.py) ... \u001b[?25l\u001b[?25hdone\n",
            "  Created wheel for word2number: filename=word2number-1.1-cp37-none-any.whl size=5589 sha256=443ac69face6f695847481ec7339dd9d3bbe68837579771e19e8f2335c712549\n",
            "  Stored in directory: /root/.cache/pip/wheels/46/2f/53/5f5c1d275492f2fce1cdab9a9bb12d49286dead829a4078e0e\n",
            "Successfully built python-Levenshtein nodebox-linguistics-extended sgmllib3k parsimonious ftfy jsonnet word2number\n",
            "\u001b[31mERROR: torchvision 0.9.1+cu101 has requirement torch==1.8.1, but you'll have torch 1.3.0 which is incompatible.\u001b[0m\n",
            "\u001b[31mERROR: torchtext 0.9.1 has requirement torch==1.8.1, but you'll have torch 1.3.0 which is incompatible.\u001b[0m\n",
            "\u001b[31mERROR: requests 2.23.0 has requirement urllib3!=1.25.0,!=1.25.1,<1.26,>=1.21.1, but you'll have urllib3 1.26.5 which is incompatible.\u001b[0m\n",
            "\u001b[31mERROR: en-core-web-sm 2.2.5 has requirement spacy>=2.2.2, but you'll have spacy 2.1.9 which is incompatible.\u001b[0m\n",
            "\u001b[31mERROR: datascience 0.10.6 has requirement folium==0.2.1, but you'll have folium 0.8.3 which is incompatible.\u001b[0m\n",
            "Installing collected packages: torch, conllu, scikit-learn, parsimonious, jmespath, urllib3, botocore, s3transfer, boto3, typing-utils, overrides, jsonpickle, preshed, plac, blis, thinc, spacy, flaky, responses, numpydoc, tensorboardX, zope.event, zope.interface, gevent, pytorch-pretrained-bert, ftfy, docutils, colorama, awscli, jsonnet, flask-cors, unidecode, word2number, allennlp, python-Levenshtein, sacremoses, sentencepiece, transformers, sgmllib3k, nodebox-linguistics-extended\n",
            "  Found existing installation: torch 1.8.1+cu101\n",
            "    Uninstalling torch-1.8.1+cu101:\n",
            "      Successfully uninstalled torch-1.8.1+cu101\n",
            "  Found existing installation: scikit-learn 0.22.2.post1\n",
            "    Uninstalling scikit-learn-0.22.2.post1:\n",
            "      Successfully uninstalled scikit-learn-0.22.2.post1\n",
            "  Found existing installation: urllib3 1.24.3\n",
            "    Uninstalling urllib3-1.24.3:\n",
            "      Successfully uninstalled urllib3-1.24.3\n",
            "  Found existing installation: preshed 3.0.5\n",
            "    Uninstalling preshed-3.0.5:\n",
            "      Successfully uninstalled preshed-3.0.5\n",
            "  Found existing installation: plac 1.1.3\n",
            "    Uninstalling plac-1.1.3:\n",
            "      Successfully uninstalled plac-1.1.3\n",
            "  Found existing installation: blis 0.4.1\n",
            "    Uninstalling blis-0.4.1:\n",
            "      Successfully uninstalled blis-0.4.1\n",
            "  Found existing installation: thinc 7.4.0\n",
            "    Uninstalling thinc-7.4.0:\n",
            "      Successfully uninstalled thinc-7.4.0\n",
            "  Found existing installation: spacy 2.2.4\n",
            "    Uninstalling spacy-2.2.4:\n",
            "      Successfully uninstalled spacy-2.2.4\n",
            "  Found existing installation: docutils 0.17.1\n",
            "    Uninstalling docutils-0.17.1:\n",
            "      Successfully uninstalled docutils-0.17.1\n",
            "Successfully installed allennlp-0.8.4 awscli-1.19.84 blis-0.2.4 boto3-1.17.84 botocore-1.20.84 colorama-0.4.3 conllu-0.11 docutils-0.15.2 flaky-3.7.0 flask-cors-3.0.10 ftfy-6.0.3 gevent-21.1.2 jmespath-0.10.0 jsonnet-0.17.0 jsonpickle-2.0.0 nodebox-linguistics-extended-0.0.1 numpydoc-1.1.0 overrides-4.1.2 parsimonious-0.8.1 plac-0.9.6 preshed-2.0.1 python-Levenshtein-0.12.0 pytorch-pretrained-bert-0.6.2 responses-0.13.3 s3transfer-0.4.2 sacremoses-0.0.45 scikit-learn-0.20.0 sentencepiece-0.1.91 sgmllib3k-1.0.0 spacy-2.1.9 tensorboardX-2.2 thinc-7.0.8 torch-1.3.0 transformers-2.2.2 typing-utils-0.1.0 unidecode-1.2.0 urllib3-1.26.5 word2number-1.1 zope.event-4.5.0 zope.interface-5.4.0\n"
          ],
          "name": "stdout"
        }
      ]
    },
    {
      "cell_type": "code",
      "metadata": {
        "colab": {
          "base_uri": "https://localhost:8080/"
        },
        "id": "6wfXflF9QwON",
        "outputId": "56654385-6b1b-4a27-cfd9-90368849f647"
      },
      "source": [
        "!python -m spacy download en_core_web_sm"
      ],
      "execution_count": 4,
      "outputs": [
        {
          "output_type": "stream",
          "text": [
            "/usr/local/lib/python3.7/dist-packages/requests/__init__.py:91: RequestsDependencyWarning: urllib3 (1.26.5) or chardet (3.0.4) doesn't match a supported version!\n",
            "  RequestsDependencyWarning)\n",
            "Collecting en_core_web_sm==2.1.0\n",
            "\u001b[?25l  Downloading https://github.com/explosion/spacy-models/releases/download/en_core_web_sm-2.1.0/en_core_web_sm-2.1.0.tar.gz (11.1MB)\n",
            "\u001b[K     |████████████████████████████████| 11.1MB 3.0MB/s \n",
            "\u001b[?25hBuilding wheels for collected packages: en-core-web-sm\n",
            "  Building wheel for en-core-web-sm (setup.py) ... \u001b[?25l\u001b[?25hdone\n",
            "  Created wheel for en-core-web-sm: filename=en_core_web_sm-2.1.0-cp37-none-any.whl size=11074434 sha256=18ab35c9b073f2f98d764b433a224ee0c6c7bb0d60660986aaee417adae748f0\n",
            "  Stored in directory: /tmp/pip-ephem-wheel-cache-2xu5iuwc/wheels/39/ea/3b/507f7df78be8631a7a3d7090962194cf55bc1158572c0be77f\n",
            "Successfully built en-core-web-sm\n",
            "Installing collected packages: en-core-web-sm\n",
            "  Found existing installation: en-core-web-sm 2.2.5\n",
            "    Uninstalling en-core-web-sm-2.2.5:\n",
            "      Successfully uninstalled en-core-web-sm-2.2.5\n",
            "Successfully installed en-core-web-sm-2.1.0\n",
            "\u001b[38;5;2m✔ Download and installation successful\u001b[0m\n",
            "You can now load the model via spacy.load('en_core_web_sm')\n"
          ],
          "name": "stdout"
        }
      ]
    },
    {
      "cell_type": "markdown",
      "metadata": {
        "id": "okzSkzVo5n_V"
      },
      "source": [
        "Imports:"
      ]
    },
    {
      "cell_type": "code",
      "metadata": {
        "colab": {
          "base_uri": "https://localhost:8080/"
        },
        "id": "REXStac45mv4",
        "outputId": "cd933cd3-8795-49ac-fae0-d30288b2a292"
      },
      "source": [
        "import os.path\n",
        "from os import path\n",
        "import matplotlib.pyplot as plt\n",
        "import numpy as np\n",
        "%matplotlib inline\n",
        "plt.style.use('ggplot')\n",
        "\n",
        "import nltk\n",
        "nltk.download('wordnet')\n",
        "\n",
        "from IPython.display import SVG, Markdown\n",
        "def printmd(string):\n",
        "    display(Markdown(string))\n",
        "\n",
        "from nltk.tokenize.treebank import TreebankWordDetokenizer"
      ],
      "execution_count": 5,
      "outputs": [
        {
          "output_type": "stream",
          "text": [
            "[nltk_data] Downloading package wordnet to /root/nltk_data...\n",
            "[nltk_data]   Unzipping corpora/wordnet.zip.\n"
          ],
          "name": "stdout"
        }
      ]
    },
    {
      "cell_type": "code",
      "metadata": {
        "id": "WeZ0PWAvNkCG",
        "colab": {
          "base_uri": "https://localhost:8080/"
        },
        "outputId": "755d6442-87ff-4951-8e3d-f8066058d135"
      },
      "source": [
        "import sys\n",
        "\n",
        "sys.path.insert(0, '/content/gector/utils')\n",
        "\n",
        "from adversarial import convert_sentence"
      ],
      "execution_count": 6,
      "outputs": [
        {
          "output_type": "stream",
          "text": [
            "/usr/local/lib/python3.7/dist-packages/requests/__init__.py:91: RequestsDependencyWarning: urllib3 (1.26.5) or chardet (3.0.4) doesn't match a supported version!\n",
            "  RequestsDependencyWarning)\n"
          ],
          "name": "stderr"
        }
      ]
    },
    {
      "cell_type": "markdown",
      "metadata": {
        "id": "xTQl2f2s6UhV"
      },
      "source": [
        "Load pre-trained model:"
      ]
    },
    {
      "cell_type": "code",
      "metadata": {
        "colab": {
          "base_uri": "https://localhost:8080/"
        },
        "id": "xpXS5ejM6Z1l",
        "outputId": "e612812b-35e3-4fa3-e1ef-6ad10c0edcca"
      },
      "source": [
        "# Create new folder for pre-trained models and for the demo files\n",
        "if path.exists('/content/gector/pre-trained-models') == False:\n",
        "  os.mkdir('/content/gector/pre-trained-models')\n",
        "\n",
        "# Create a folder where all temporary files for the demo will be saved\n",
        "if path.exists('/content/gector/demo-files') == False:\n",
        "  os.mkdir('/content/gector/demo-files')\n",
        "\n",
        "# Load pre-trained Gector BERT model (baseline)\n",
        "if os.path.isfile('/content/gector/pre-trained-models/bert_0_gector.th') == False:\n",
        "  !wget -P /content/gector/pre-trained-models https://grammarly-nlp-data-public.s3.amazonaws.com/gector/bert_0_gector.th\n",
        "\n",
        "# Load our Gector BERT model\n",
        "if os.path.isfile('/content/gector/pre-trained-models/model_random.th') == False:\n",
        "  !wget -P /content/gector/pre-trained-models https://gector.s3.eu-west-2.amazonaws.com/model_random.th"
      ],
      "execution_count": 7,
      "outputs": [
        {
          "output_type": "stream",
          "text": [
            "--2021-05-31 01:39:17--  https://grammarly-nlp-data-public.s3.amazonaws.com/gector/bert_0_gector.th\n",
            "Resolving grammarly-nlp-data-public.s3.amazonaws.com (grammarly-nlp-data-public.s3.amazonaws.com)... 52.216.132.187\n",
            "Connecting to grammarly-nlp-data-public.s3.amazonaws.com (grammarly-nlp-data-public.s3.amazonaws.com)|52.216.132.187|:443... connected.\n",
            "HTTP request sent, awaiting response... 200 OK\n",
            "Length: 448709742 (428M) [application/x-www-form-urlencoded]\n",
            "Saving to: ‘/content/gector/pre-trained-models/bert_0_gector.th’\n",
            "\n",
            "bert_0_gector.th    100%[===================>] 427.92M  3.21MB/s    in 43s     \n",
            "\n",
            "2021-05-31 01:40:01 (9.98 MB/s) - ‘/content/gector/pre-trained-models/bert_0_gector.th’ saved [448709742/448709742]\n",
            "\n",
            "--2021-05-31 01:40:01--  https://gector.s3.eu-west-2.amazonaws.com/model_random.th\n",
            "Resolving gector.s3.eu-west-2.amazonaws.com (gector.s3.eu-west-2.amazonaws.com)... 52.95.149.2\n",
            "Connecting to gector.s3.eu-west-2.amazonaws.com (gector.s3.eu-west-2.amazonaws.com)|52.95.149.2|:443... connected.\n",
            "HTTP request sent, awaiting response... 200 OK\n",
            "Length: 448709678 (428M) [application/x-www-form-urlencoded]\n",
            "Saving to: ‘/content/gector/pre-trained-models/model_random.th’\n",
            "\n",
            "model_random.th     100%[===================>] 427.92M  12.0MB/s    in 39s     \n",
            "\n",
            "2021-05-31 01:40:41 (11.0 MB/s) - ‘/content/gector/pre-trained-models/model_random.th’ saved [448709678/448709678]\n",
            "\n"
          ],
          "name": "stdout"
        }
      ]
    },
    {
      "cell_type": "markdown",
      "metadata": {
        "id": "KOBk-60NjNYk"
      },
      "source": [
        "Load baseline model:"
      ]
    },
    {
      "cell_type": "code",
      "metadata": {
        "colab": {
          "base_uri": "https://localhost:8080/",
          "height": 0,
          "referenced_widgets": [
            "2af0b6a560334651bce95294c44eefed",
            "c3aad91a83ec4827a8b600c7a6e30864",
            "b7d338b3d88e4899bb8e5848df9aa000",
            "6e85c3187a7c47d1bece8a509b49cb2e",
            "5498019b46cd4cd7960b1441d240bef9",
            "6911de0522944bbabf48ce74050023dc",
            "7694751aa98844e7abd75862e42cf28e",
            "4428fe77843f432db2595c4866819230",
            "fcba0fabad3e4659b1dce3a83fe9897e",
            "03b6e2f94c694687868df9ee5092b0a6",
            "c2283bb1e2224c30aabf357419430457",
            "13b0f9410d9840098a5b6d826f0777d1",
            "3a49d36f0c114f018ff572c7a7b0b29d",
            "044ac78a3c09491bac23b340be8b3139",
            "98c1ebdbc3ed49d396984f1ad9b815b9",
            "a12d37fde05444afa929b6eeebab7221",
            "7b7d0cf986334a2c8f1d275319c23f60",
            "4ee60169601f4346a87c65bd7298f420",
            "a95bb2a567204ca3965ba03c4424ba40",
            "8bd642a41c734acebffef766e17d3c16",
            "e5ef0b5b336c4d8399474701ea46e7e3",
            "b23687c4643e4c60816e7e71a9110918",
            "592c0809ea9d4a0eb37dff389d33f3e0",
            "a5b1b67dd88744ef83cf3d2884fd52c1"
          ]
        },
        "id": "zNZPb6oOjPKc",
        "outputId": "af6b4667-fb4e-46d7-85ce-6b6f7442f289"
      },
      "source": [
        "from gector.gec_model import GecBERTModel\n",
        "\n",
        "baseline_model = GecBERTModel(vocab_path='data/output_vocabulary',\n",
        "                             model_paths=[\"pre-trained-models/bert_0_gector.th\"],\n",
        "                             max_len=50, min_len=3,\n",
        "                             iterations=5,\n",
        "                             min_error_probability=0.41,\n",
        "                             lowercase_tokens=0,\n",
        "                             model_name='bert',\n",
        "                             special_tokens_fix=0,\n",
        "                             log=False,\n",
        "                             confidence=0.1,\n",
        "                             is_ensemble=0,\n",
        "                             weigths=None)\n",
        "\n",
        "our_model = GecBERTModel(vocab_path='data/output_vocabulary',\n",
        "                             model_paths=[\"pre-trained-models/model_random.th\"],\n",
        "                             max_len=50, min_len=3,\n",
        "                             iterations=5,\n",
        "                             min_error_probability=0.55,\n",
        "                             lowercase_tokens=0,\n",
        "                             model_name='bert',\n",
        "                             special_tokens_fix=0,\n",
        "                             log=False,\n",
        "                             confidence=0.15,\n",
        "                             is_ensemble=0,\n",
        "                             weigths=None)"
      ],
      "execution_count": 8,
      "outputs": [
        {
          "output_type": "display_data",
          "data": {
            "application/vnd.jupyter.widget-view+json": {
              "model_id": "2af0b6a560334651bce95294c44eefed",
              "version_minor": 0,
              "version_major": 2
            },
            "text/plain": [
              "HBox(children=(FloatProgress(value=0.0, description='Downloading', max=213450.0, style=ProgressStyle(descripti…"
            ]
          },
          "metadata": {
            "tags": []
          }
        },
        {
          "output_type": "stream",
          "text": [
            "\n"
          ],
          "name": "stdout"
        },
        {
          "output_type": "display_data",
          "data": {
            "application/vnd.jupyter.widget-view+json": {
              "model_id": "fcba0fabad3e4659b1dce3a83fe9897e",
              "version_minor": 0,
              "version_major": 2
            },
            "text/plain": [
              "HBox(children=(FloatProgress(value=0.0, description='Downloading', max=433.0, style=ProgressStyle(description_…"
            ]
          },
          "metadata": {
            "tags": []
          }
        },
        {
          "output_type": "stream",
          "text": [
            "\n"
          ],
          "name": "stdout"
        },
        {
          "output_type": "display_data",
          "data": {
            "application/vnd.jupyter.widget-view+json": {
              "model_id": "7b7d0cf986334a2c8f1d275319c23f60",
              "version_minor": 0,
              "version_major": 2
            },
            "text/plain": [
              "HBox(children=(FloatProgress(value=0.0, description='Downloading', max=435779157.0, style=ProgressStyle(descri…"
            ]
          },
          "metadata": {
            "tags": []
          }
        },
        {
          "output_type": "stream",
          "text": [
            "\n"
          ],
          "name": "stdout"
        }
      ]
    },
    {
      "cell_type": "code",
      "metadata": {
        "id": "RDxkvfXJ2BM0"
      },
      "source": [
        "import spacy\n",
        "from spacy.lang.en import English\n",
        "from spacy.tokens import Doc, Token, Span\n",
        "from spacy import displacy\n",
        "from IPython.core.display import display, HTML\n",
        "from matplotlib import cm\n",
        "\n",
        "def visualise_changes(sentence, tags, label=None, color_options=None):\n",
        "  '''\n",
        "  Function to create a html which highlights the changes in a sentence\n",
        "\n",
        "  INPUT:\n",
        "  sentence        :   (str) sentence\n",
        "  tags            :   (list) List with tupel (start, end) of each tag\n",
        "  label           :   [optional] (list) Label for each index (e.g. \"ORG\")\n",
        "  color_options   :   [optional] (dict) color setting for each label\n",
        "\n",
        "  OUTPUT:\n",
        "  html            :   (html) visualization of tags\n",
        "  '''\n",
        "  # Create nlp object (without a NER tagger in the pipeline)\n",
        "  nlp = English()\n",
        "\n",
        "  # Tokenize the sentence\n",
        "  doc = nlp(sentence)\n",
        "\n",
        "  # Check if custom labels should be used\n",
        "  if label is None:\n",
        "    # Default: Create a Span for each match and assign the label \"PERTURBED\"\n",
        "    doc.ents = [Span(doc, start, end, label=\"PERTURBED\") for start, end in tags]\n",
        "\n",
        "    # Define coloring options\n",
        "    #color_options = {\"PERTURBED\": \"linear-gradient(90deg, #aa9cfc, #fc9ce7)\"}\n",
        "    color_options = {\"PERTURBED\": \"linear-gradient(90deg, rgba(170,156,252,0.5), rgba(252,156,231,0.5))\"}\n",
        "    options = {\"ents\": [\"PERTURBED\"], \"colors\": color_options}\n",
        "\n",
        "  else:\n",
        "    # Uppercase all labels\n",
        "    label = [label_.upper() for label_ in label]\n",
        "\n",
        "    # Otherwise use custom label\n",
        "    doc.ents = [Span(doc, start, end, label=label) for (start, end), label in zip(tags, label)]\n",
        "\n",
        "    # Get unique labels\n",
        "    unique_labels = list(set(label))\n",
        "\n",
        "    # Check if custom colors should be used\n",
        "    if color_options is None:\n",
        "\n",
        "      # Get the number of unique labels\n",
        "      n_labels = len(unique_labels)\n",
        "      \n",
        "      # Create background colors as rgb\n",
        "      rgb_vals = (cm.get_cmap('hsv')(np.linspace(0.05,0.6,2*n_labels))*255).astype(int)\n",
        "\n",
        "      color_options = {}\n",
        "\n",
        "      # Add colors\n",
        "      for i, label in enumerate(unique_labels):\n",
        "        #color_options[label] = \"rgba(\" + str(rgb_vals[i,0]) + \", \" + str(rgb_vals[i,1]) + \", \" + str(rgb_vals[i,2]) + \", \" + str(0.7) + \")\"\n",
        "        hex1 = '#%02x%02x%02x' % (rgb_vals[2*i,0], rgb_vals[2*i,1], rgb_vals[2*i,2])\n",
        "        hex2 = '#%02x%02x%02x' % (rgb_vals[2*i+1,0], rgb_vals[2*i+1,1], rgb_vals[2*i+1,2])\n",
        "        color_options[label] = \"linear-gradient(90deg, \" + hex1 + \", \" + hex2 + \")\"\n",
        "    \n",
        "    # Create the color options\n",
        "    options = {\"ents\": unique_labels, \"colors\": color_options}\n",
        "\n",
        "  # Create html and print output\n",
        "  html = displacy.render(doc, style=\"ent\", options=options)\n",
        "\n",
        "  # return modified doc\n",
        "  return html\n",
        "\n"
      ],
      "execution_count": 9,
      "outputs": []
    },
    {
      "cell_type": "code",
      "metadata": {
        "id": "jZmaAoUxAc_U"
      },
      "source": [
        "with open('/content/gector/data/output_vocabulary/labels.txt') as f:\n",
        "    gector_label = f.readlines()\n",
        "    \n",
        "# remove whitespace characters like `\\n` at the end of each line\n",
        "gector_label = [x.strip() for x in gector_label] "
      ],
      "execution_count": 10,
      "outputs": []
    },
    {
      "cell_type": "markdown",
      "metadata": {
        "id": "dXSDCguQ9Bdp"
      },
      "source": [
        "# **Adversarial Training for Grammatical Error Correction**\n",
        "\n",
        "*David Byrne, Alan Jeffares, Robert McHardy, Nils Zerrer*\n",
        "\n",
        "This notebook provides a functional overview of the optimised Gector model as presented in our paper. The notebook consists of two parts:\n",
        "* The first part is a **personalised demo** where the different parts of the model can be tested using arbitrary examples\n",
        "* In the second part, specific improvements on pre-defined sentences are **showcased**"
      ]
    },
    {
      "cell_type": "markdown",
      "metadata": {
        "id": "d9SgiULpkvu0"
      },
      "source": [
        "## **Personalised demo**\n",
        "\n",
        "The section below contains a personalised demo. Please feel free to use different sentences and test the model."
      ]
    },
    {
      "cell_type": "markdown",
      "metadata": {
        "id": "TlHPUBZ8ltur"
      },
      "source": [
        "Please enter your example sentence below and **[run the cell]**:"
      ]
    },
    {
      "cell_type": "code",
      "metadata": {
        "id": "xqW-drlclDoT",
        "cellView": "form"
      },
      "source": [
        "user_sentence = \"He has ever been with me.\" #@param {type:\"string\"} \n",
        "\n",
        "perturbations, weights, tokens, indices = convert_sentence(user_sentence, '', our_model)"
      ],
      "execution_count": 419,
      "outputs": []
    },
    {
      "cell_type": "markdown",
      "metadata": {
        "id": "U9HGvae-GohL"
      },
      "source": [
        "### Attention weight"
      ]
    },
    {
      "cell_type": "markdown",
      "metadata": {
        "id": "p7S3CvV8pDjz"
      },
      "source": [
        "As a first step, we extract the weights from the first attention head which is depicted below for an arbitrary example sentence:"
      ]
    },
    {
      "cell_type": "markdown",
      "metadata": {
        "id": "tMHMqU4dmTv7"
      },
      "source": [
        "<p align=\"center\">\n",
        "<img src=\"https://raw.githubusercontent.com/RobMcH/gector/master/figures/attention_weights.svg\">\n",
        "</p>"
      ]
    },
    {
      "cell_type": "code",
      "metadata": {
        "colab": {
          "base_uri": "https://localhost:8080/",
          "height": 411
        },
        "id": "00F_2jjVpcuj",
        "cellView": "form",
        "outputId": "3d93a31f-a990-4992-8c49-fbe189abd1ad"
      },
      "source": [
        "#@markdown **[run the cell]** For your given example sentence, the attention weight in the first attention head is distributed as follows:\n",
        "\n",
        "weight = weights[0]\n",
        "\n",
        "x_pos = [i for i, _ in enumerate(tokens)]\n",
        "\n",
        "max_weight = weight.max()\n",
        "\n",
        "colors = []\n",
        "for val in weight:\n",
        "    if val == max_weight:\n",
        "        colors.append('tab:pink')\n",
        "    else:\n",
        "        colors.append('tab:cyan')\n",
        "\n",
        "#(0.0, 0.6875, 0.9375)\n",
        "\n",
        "plt.rcParams['xtick.labelsize']=12\n",
        "\n",
        "bar_width = max(1, len(max(tokens, key=len))*0.15)\n",
        "\n",
        "f, ax = plt.subplots(figsize=(bar_width*weight.size,6)) # set the size that you'd like (width, height)\n",
        "plt.bar(x_pos, weight, color=colors)\n",
        "plt.xlabel(\"token\")\n",
        "plt.ylabel(\"relative weight\")\n",
        "plt.title(\"attention weight first layer\")\n",
        "\n",
        "plt.xticks(x_pos, tokens)\n",
        "\n",
        "\n",
        "plt.show()"
      ],
      "execution_count": 57,
      "outputs": [
        {
          "output_type": "display_data",
          "data": {
            "image/png": "[encoded data removed]",
            "text/plain": [
              "<Figure size 1058.4x432 with 1 Axes>"
            ]
          },
          "metadata": {
            "tags": []
          }
        }
      ]
    },
    {
      "cell_type": "markdown",
      "metadata": {
        "id": "2D3rjU0WGwUI"
      },
      "source": [
        "### Perturbation"
      ]
    },
    {
      "cell_type": "markdown",
      "metadata": {
        "id": "DiTKHFeSpc4T"
      },
      "source": [
        "We use the attention weight information to identify which token is most relevant in making a decision about the correctness of a sentence. The token with the highest overall weight is then perturbed using a rule-based approach. This assures that we not only generate gramatically wrong sentences, but also sentences on which the model is likely to fail:"
      ]
    },
    {
      "cell_type": "markdown",
      "metadata": {
        "id": "Q1kKDkV-qQgL"
      },
      "source": [
        "<p align=\"center\">\n",
        "<img src=\"https://raw.githubusercontent.com/RobMcH/gector/master/figures/adversarial_sample_generation.svg\" width=\"600\"/>\n",
        "</p>"
      ]
    },
    {
      "cell_type": "code",
      "metadata": {
        "colab": {
          "base_uri": "https://localhost:8080/",
          "height": 375
        },
        "id": "ugB05eERyLas",
        "cellView": "form",
        "outputId": "92507c1c-c681-4135-e90f-3feaf4ad98fa"
      },
      "source": [
        "#@markdown **[run the cell]** Perturbed sentences:\n",
        "\n",
        "printmd('**Original sentence:**')\n",
        "html = visualise_changes(user_sentence, [(0,0)])\n",
        "display(HTML(html))\n",
        "print('\\n')\n",
        "\n",
        "for i, perturbation in enumerate(perturbations):\n",
        "  if i == 0:\n",
        "    change_type = 'Perturbed token with maximum attention weight'\n",
        "  elif i == 1:\n",
        "    change_type = 'Perturbed token with minimum attention weight'\n",
        "  else:\n",
        "    change_type = 'Perturbed random token'\n",
        "\n",
        "  if indices[i] == -1:\n",
        "    html = visualise_changes(perturbation[0], [(0,0)])\n",
        "    printmd('**' + change_type + ' (removed token):**')\n",
        "  else:\n",
        "    html = visualise_changes(perturbation[0], [(indices[i],indices[i]+1)])\n",
        "    printmd('**' + change_type + ' :**')\n",
        "  display(HTML(html))\n",
        "\n",
        "  if i < 2:\n",
        "    print('\\n')"
      ],
      "execution_count": 430,
      "outputs": [
        {
          "output_type": "display_data",
          "data": {
            "text/markdown": "**Original sentence:**",
            "text/plain": [
              "<IPython.core.display.Markdown object>"
            ]
          },
          "metadata": {
            "tags": []
          }
        },
        {
          "output_type": "display_data",
          "data": {
            "text/html": [
              "<div class=\"entities\" style=\"line-height: 2.5; direction: ltr\">He has ever been with me.</div>"
            ],
            "text/plain": [
              "<IPython.core.display.HTML object>"
            ]
          },
          "metadata": {
            "tags": []
          }
        },
        {
          "output_type": "stream",
          "text": [
            "\n",
            "\n"
          ],
          "name": "stdout"
        },
        {
          "output_type": "display_data",
          "data": {
            "text/markdown": "**Perturbed token with maximum attention weight :**",
            "text/plain": [
              "<IPython.core.display.Markdown object>"
            ]
          },
          "metadata": {
            "tags": []
          }
        },
        {
          "output_type": "display_data",
          "data": {
            "text/html": [
              "<div class=\"entities\" style=\"line-height: 2.5; direction: ltr\">He has \n",
              "<mark class=\"entity\" style=\"background: linear-gradient(90deg, rgba(170,156,252,0.5), rgba(252,156,231,0.5)); padding: 0.45em 0.6em; margin: 0 0.25em; line-height: 1; border-radius: 0.35em; box-decoration-break: clone; -webkit-box-decoration-break: clone\">\n",
              "    of_all_ti\n",
              "    <span style=\"font-size: 0.8em; font-weight: bold; line-height: 1; border-radius: 0.35em; text-transform: uppercase; vertical-align: middle; margin-left: 0.5rem\">PERTURBED</span>\n",
              "</mark>\n",
              " been with me.</div>"
            ],
            "text/plain": [
              "<IPython.core.display.HTML object>"
            ]
          },
          "metadata": {
            "tags": []
          }
        },
        {
          "output_type": "stream",
          "text": [
            "\n",
            "\n"
          ],
          "name": "stdout"
        },
        {
          "output_type": "display_data",
          "data": {
            "text/markdown": "**Perturbed token with minimum attention weight :**",
            "text/plain": [
              "<IPython.core.display.Markdown object>"
            ]
          },
          "metadata": {
            "tags": []
          }
        },
        {
          "output_type": "display_data",
          "data": {
            "text/html": [
              "<div class=\"entities\" style=\"line-height: 2.5; direction: ltr\">He has ever been with \n",
              "<mark class=\"entity\" style=\"background: linear-gradient(90deg, rgba(170,156,252,0.5), rgba(252,156,231,0.5)); padding: 0.45em 0.6em; margin: 0 0.25em; line-height: 1; border-radius: 0.35em; box-decoration-break: clone; -webkit-box-decoration-break: clone\">\n",
              "    i\n",
              "    <span style=\"font-size: 0.8em; font-weight: bold; line-height: 1; border-radius: 0.35em; text-transform: uppercase; vertical-align: middle; margin-left: 0.5rem\">PERTURBED</span>\n",
              "</mark>\n",
              " .</div>"
            ],
            "text/plain": [
              "<IPython.core.display.HTML object>"
            ]
          },
          "metadata": {
            "tags": []
          }
        },
        {
          "output_type": "stream",
          "text": [
            "\n",
            "\n"
          ],
          "name": "stdout"
        },
        {
          "output_type": "display_data",
          "data": {
            "text/markdown": "**Perturbed random token :**",
            "text/plain": [
              "<IPython.core.display.Markdown object>"
            ]
          },
          "metadata": {
            "tags": []
          }
        },
        {
          "output_type": "display_data",
          "data": {
            "text/html": [
              "<div class=\"entities\" style=\"line-height: 2.5; direction: ltr\">He has ever been \n",
              "<mark class=\"entity\" style=\"background: linear-gradient(90deg, rgba(170,156,252,0.5), rgba(252,156,231,0.5)); padding: 0.45em 0.6em; margin: 0 0.25em; line-height: 1; border-radius: 0.35em; box-decoration-break: clone; -webkit-box-decoration-break: clone\">\n",
              "    off\n",
              "    <span style=\"font-size: 0.8em; font-weight: bold; line-height: 1; border-radius: 0.35em; text-transform: uppercase; vertical-align: middle; margin-left: 0.5rem\">PERTURBED</span>\n",
              "</mark>\n",
              " me.</div>"
            ],
            "text/plain": [
              "<IPython.core.display.HTML object>"
            ]
          },
          "metadata": {
            "tags": []
          }
        }
      ]
    },
    {
      "cell_type": "markdown",
      "metadata": {
        "id": "79aDFeVTzVxU"
      },
      "source": [
        "### Tagging and Correction"
      ]
    },
    {
      "cell_type": "markdown",
      "metadata": {
        "id": "FNeu6vgd5fe0"
      },
      "source": [
        "<p align=\"center\">\n",
        "<img src=\"https://raw.githubusercontent.com/RobMcH/gector/master/figures/gector_pipeline.svg\" width=\"600\"/>\n",
        "</p>\n",
        "\n"
      ]
    },
    {
      "cell_type": "code",
      "metadata": {
        "colab": {
          "base_uri": "https://localhost:8080/",
          "height": 277
        },
        "id": "-8YBniGdsuIc",
        "cellView": "form",
        "outputId": "04d05f87-d9b3-42ae-d5ce-4ab1d050e574"
      },
      "source": [
        "#@markdown **[run the cell]** The model (choose either ours or the basline) makes the following iterative corrections:\n",
        "model = \"Ours\" #@param [\"Ours\", \"Baseline\"]\n",
        "\n",
        "if model == 'Ours':\n",
        "  pred_model = our_model\n",
        "else:\n",
        "  pred_model = baseline_model\n",
        "\n",
        "printmd('**Original sentence:**')\n",
        "html = visualise_changes(user_sentence, [(0,0)])\n",
        "display(HTML(html))\n",
        "print('\\n')\n",
        "\n",
        "# Create nlp object\n",
        "nlp = English()\n",
        "\n",
        "# Tokenize the sentence\n",
        "tokens = [token.text for token in nlp(user_sentence)]\n",
        "\n",
        "# Make prediction\n",
        "pred_result = pred_model.handle_batch([tokens], True)\n",
        "\n",
        "# Get number of iterations until correct sentence / max iterations reached\n",
        "n_iterations = pred_result[1]\n",
        "\n",
        "# Counter for number of changes\n",
        "n_changes = 0\n",
        "\n",
        "# Array of input sentences after each iteration\n",
        "input_sentences = []\n",
        "\n",
        "# Create colors\n",
        "all_labels = []\n",
        "for i in range(n_iterations):\n",
        "  all_labels += pred_result[2][i][2][0]\n",
        "\n",
        "unique_labels = list(set([gector_label[label].upper() for label in all_labels]))\n",
        "\n",
        "n_labels = len(unique_labels)\n",
        "\n",
        "# Create background colors as rgb\n",
        "rgb_vals = (cm.get_cmap('hsv')(np.linspace(0.05,0.6,2*n_labels))*255).astype(int)\n",
        "\n",
        "color_options = {}\n",
        "\n",
        "# Add colors\n",
        "for i, label in enumerate(unique_labels):\n",
        "  #color_options[label] = \"rgba(\" + str(rgb_vals[i,0]) + \", \" + str(rgb_vals[i,1]) + \", \" + str(rgb_vals[i,2]) + \", \" + str(0.7) + \")\"\n",
        "  hex1 = '#%02x%02x%02x' % (rgb_vals[2*i,0], rgb_vals[2*i,1], rgb_vals[2*i,2])\n",
        "  hex2 = '#%02x%02x%02x' % (rgb_vals[2*i+1,0], rgb_vals[2*i+1,1], rgb_vals[2*i+1,2])\n",
        "  color_options[label] = \"linear-gradient(90deg, \" + hex1 + \", \" + hex2 + \")\"\n",
        "\n",
        "# For each iteration\n",
        "for i in range(n_iterations):\n",
        "  input_tokens = pred_result[2][i][0][0]\n",
        "  \n",
        "  predicted_tags = pred_result[2][i][2][0]\n",
        "\n",
        "  input_sentence = ''\n",
        "  n_tokens = len(input_tokens)\n",
        "\n",
        "  #for j, token in enumerate(input_tokens):\n",
        "  #  if j < (n_tokens-1):\n",
        "  #    input_sentence += token + ' '\n",
        "  #  else:\n",
        "  #    input_sentence += token\n",
        "  input_sentence = TreebankWordDetokenizer().detokenize(input_tokens)\n",
        "  \n",
        "  tag_indexes = []\n",
        "  label = []\n",
        "\n",
        "  if predicted_tags[0] == 0:\n",
        "    predicted_tags = predicted_tags[1:]\n",
        "  else:\n",
        "    input_sentence = '$ ' + input_sentence\n",
        "\n",
        "  for k, predicted_tag in enumerate(predicted_tags):\n",
        "    if not predicted_tag == 0:\n",
        "      tag_indexes.append((k, k+1))\n",
        "      label.append(gector_label[predicted_tag])\n",
        "\n",
        "  #if pred_result[2][i][3][0] > pred_model.min_error_probability:\n",
        "  printmd('**Iteration ' + str(i+1) + ':**')\n",
        "  html = visualise_changes(input_sentence, tag_indexes, label, color_options)\n",
        "  display(HTML(html))\n",
        "  print('\\n')\n",
        "  #else:\n",
        "printmd('**Model output:**')\n",
        "html = visualise_changes(TreebankWordDetokenizer().detokenize(pred_result[0][0]), [(0,0)])\n",
        "display(HTML(html))"
      ],
      "execution_count": 423,
      "outputs": [
        {
          "output_type": "display_data",
          "data": {
            "text/markdown": "**Original sentence:**",
            "text/plain": [
              "<IPython.core.display.Markdown object>"
            ]
          },
          "metadata": {
            "tags": []
          }
        },
        {
          "output_type": "display_data",
          "data": {
            "text/html": [
              "<div class=\"entities\" style=\"line-height: 2.5; direction: ltr\">He has ever been with me.</div>"
            ],
            "text/plain": [
              "<IPython.core.display.HTML object>"
            ]
          },
          "metadata": {
            "tags": []
          }
        },
        {
          "output_type": "stream",
          "text": [
            "\n",
            "\n"
          ],
          "name": "stdout"
        },
        {
          "output_type": "display_data",
          "data": {
            "text/markdown": "**Iteration 1:**",
            "text/plain": [
              "<IPython.core.display.Markdown object>"
            ]
          },
          "metadata": {
            "tags": []
          }
        },
        {
          "output_type": "display_data",
          "data": {
            "text/html": [
              "<div class=\"entities\" style=\"line-height: 2.5; direction: ltr\">He has \n",
              "<mark class=\"entity\" style=\"background: linear-gradient(90deg, #00ff74, #0074ff); padding: 0.45em 0.6em; margin: 0 0.25em; line-height: 1; border-radius: 0.35em; box-decoration-break: clone; -webkit-box-decoration-break: clone\">\n",
              "    ever\n",
              "    <span style=\"font-size: 0.8em; font-weight: bold; line-height: 1; border-radius: 0.35em; text-transform: uppercase; vertical-align: middle; margin-left: 0.5rem\">$REPLACE_ALWAYS</span>\n",
              "</mark>\n",
              " been with me.</div>"
            ],
            "text/plain": [
              "<IPython.core.display.HTML object>"
            ]
          },
          "metadata": {
            "tags": []
          }
        },
        {
          "output_type": "stream",
          "text": [
            "\n",
            "\n"
          ],
          "name": "stdout"
        },
        {
          "output_type": "display_data",
          "data": {
            "text/markdown": "**Model output:**",
            "text/plain": [
              "<IPython.core.display.Markdown object>"
            ]
          },
          "metadata": {
            "tags": []
          }
        },
        {
          "output_type": "display_data",
          "data": {
            "text/html": [
              "<div class=\"entities\" style=\"line-height: 2.5; direction: ltr\">He has always been with me.</div>"
            ],
            "text/plain": [
              "<IPython.core.display.HTML object>"
            ]
          },
          "metadata": {
            "tags": []
          }
        }
      ]
    },
    {
      "cell_type": "markdown",
      "metadata": {
        "id": "wSWPi1bt1cNF"
      },
      "source": [
        "## **Showcase**"
      ]
    },
    {
      "cell_type": "markdown",
      "metadata": {
        "id": "EURWOa8w1h80"
      },
      "source": [
        "In the following, we present the specific improvements for pre-defined sentences.\n",
        "As described in the paper, our model was able to:\n",
        "* Outperform the GECToR basline model\n",
        "* Develop some degree of roubstness against our adversarial attacks\n",
        "\n",
        "For those different scenarios, we prepared some example sentences below where those improvements become apparent."
      ]
    },
    {
      "cell_type": "markdown",
      "metadata": {
        "id": "E-bl7oqgFFYc"
      },
      "source": [
        "### General performance increase"
      ]
    },
    {
      "cell_type": "code",
      "metadata": {
        "colab": {
          "base_uri": "https://localhost:8080/",
          "height": 179
        },
        "cellView": "form",
        "id": "7Y3kJgLxJZPa",
        "outputId": "7cbbca08-0026-4d91-c901-c7e676862292"
      },
      "source": [
        "#@markdown **[run the cell]** The model (choose either ours or the basline) makes the following iterative corrections:\n",
        "model = \"Baseline\" #@param [\"Ours\", \"Baseline\"]\n",
        "sentence = \"Michael closed the door and knew at the moment he made a mistake.\" #@param [\"It is dynamic, stimulating and, even if it is not well remunerated, I feel myself satisfied.\", \"He has ever been with me.\", \"He started to think about how he could get better our lives and he found a solution.\", \"Michael closed the door and knew at the moment he made a mistake.\"]\n",
        "\n",
        "if model == 'Ours':\n",
        "  pred_model = our_model\n",
        "else:\n",
        "  pred_model = baseline_model\n",
        "\n",
        "printmd('**Original sentence:**')\n",
        "html = visualise_changes(sentence, [(0,0)])\n",
        "display(HTML(html))\n",
        "print('\\n')\n",
        "\n",
        "# Create nlp object\n",
        "nlp = English()\n",
        "\n",
        "# Tokenize the sentence\n",
        "tokens_predef = [token.text for token in nlp(sentence)]\n",
        "\n",
        "# Make prediction\n",
        "pred_result = pred_model.handle_batch([tokens_predef], True)\n",
        "\n",
        "# Get number of iterations until correct sentence / max iterations reached\n",
        "n_iterations = pred_result[1]\n",
        "\n",
        "# Counter for number of changes\n",
        "n_changes = 0\n",
        "\n",
        "# Array of input sentences after each iteration\n",
        "input_sentences = []\n",
        "\n",
        "# Create colors\n",
        "all_labels = []\n",
        "for i in range(n_iterations):\n",
        "  all_labels += pred_result[2][i][2][0]\n",
        "\n",
        "unique_labels = list(set([gector_label[label].upper() for label in all_labels]))\n",
        "\n",
        "n_labels = len(unique_labels)\n",
        "\n",
        "# Create background colors as rgb\n",
        "rgb_vals = (cm.get_cmap('hsv')(np.linspace(0.05,0.6,2*n_labels))*255).astype(int)\n",
        "\n",
        "color_options = {}\n",
        "\n",
        "# Add colors\n",
        "for i, label in enumerate(unique_labels):\n",
        "  #color_options[label] = \"rgba(\" + str(rgb_vals[i,0]) + \", \" + str(rgb_vals[i,1]) + \", \" + str(rgb_vals[i,2]) + \", \" + str(0.7) + \")\"\n",
        "  hex1 = '#%02x%02x%02x' % (rgb_vals[2*i,0], rgb_vals[2*i,1], rgb_vals[2*i,2])\n",
        "  hex2 = '#%02x%02x%02x' % (rgb_vals[2*i+1,0], rgb_vals[2*i+1,1], rgb_vals[2*i+1,2])\n",
        "  color_options[label] = \"linear-gradient(90deg, \" + hex1 + \", \" + hex2 + \")\"\n",
        "\n",
        "# For each iteration\n",
        "for i in range(n_iterations):\n",
        "  input_tokens = pred_result[2][i][0][0]\n",
        "  \n",
        "  predicted_tags = pred_result[2][i][2][0]\n",
        "\n",
        "  input_sentence = ''\n",
        "  n_tokens = len(input_tokens)\n",
        "\n",
        "  #for j, token in enumerate(input_tokens):\n",
        "  #  if j < (n_tokens-1):\n",
        "  #    input_sentence += token + ' '\n",
        "  #  else:\n",
        "  #    input_sentence += token\n",
        "  input_sentence = TreebankWordDetokenizer().detokenize(input_tokens)\n",
        "  \n",
        "  tag_indexes = []\n",
        "  label = []\n",
        "\n",
        "  if predicted_tags[0] == 0:\n",
        "    predicted_tags = predicted_tags[1:]\n",
        "  else:\n",
        "    input_sentence = '$ ' + input_sentence\n",
        "\n",
        "  for k, predicted_tag in enumerate(predicted_tags):\n",
        "    if not predicted_tag == 0:\n",
        "      tag_indexes.append((k, k+1))\n",
        "      label.append(gector_label[predicted_tag])\n",
        "\n",
        "  #if pred_result[2][i][3][0] > pred_model.min_error_probability:\n",
        "  printmd('**Iteration ' + str(i+1) + ':**')\n",
        "  html = visualise_changes(input_sentence, tag_indexes, label, color_options)\n",
        "  display(HTML(html))\n",
        "  print('\\n')\n",
        "  #else:\n",
        "printmd('**Model output:**')\n",
        "html = visualise_changes(TreebankWordDetokenizer().detokenize(pred_result[0][0]), [(0,0)])\n",
        "display(HTML(html))"
      ],
      "execution_count": 425,
      "outputs": [
        {
          "output_type": "display_data",
          "data": {
            "text/markdown": "**Original sentence:**",
            "text/plain": [
              "<IPython.core.display.Markdown object>"
            ]
          },
          "metadata": {
            "tags": []
          }
        },
        {
          "output_type": "display_data",
          "data": {
            "text/html": [
              "<div class=\"entities\" style=\"line-height: 2.5; direction: ltr\">Michael closed the door and knew at the moment he made a mistake.</div>"
            ],
            "text/plain": [
              "<IPython.core.display.HTML object>"
            ]
          },
          "metadata": {
            "tags": []
          }
        },
        {
          "output_type": "stream",
          "text": [
            "\n",
            "\n"
          ],
          "name": "stdout"
        },
        {
          "output_type": "display_data",
          "data": {
            "text/markdown": "**Model output:**",
            "text/plain": [
              "<IPython.core.display.Markdown object>"
            ]
          },
          "metadata": {
            "tags": []
          }
        },
        {
          "output_type": "display_data",
          "data": {
            "text/html": [
              "<div class=\"entities\" style=\"line-height: 2.5; direction: ltr\">Michael closed the door and knew at the moment he made a mistake.</div>"
            ],
            "text/plain": [
              "<IPython.core.display.HTML object>"
            ]
          },
          "metadata": {
            "tags": []
          }
        }
      ]
    },
    {
      "cell_type": "markdown",
      "metadata": {
        "id": "hgDsIvI4Qab8"
      },
      "source": [
        "### Increased robustness"
      ]
    },
    {
      "cell_type": "code",
      "metadata": {
        "colab": {
          "base_uri": "https://localhost:8080/",
          "height": 277
        },
        "cellView": "form",
        "id": "O9RQxPt6Qh6H",
        "outputId": "dc77b8a1-69ca-41b6-cc02-0c7d03c7cf50"
      },
      "source": [
        "#@markdown **[run the cell]** The model (choose either ours or the basline) makes the following iterative corrections:\n",
        "model = \"Ours\" #@param [\"Ours\", \"Baseline\"]\n",
        "sentence = \"Let i in.\" #@param [\"Thank you for your message\", \"Let i in.\", \"Why do I like swimming\", \"I don't agree with this idea completely\"]\n",
        "\n",
        "if model == 'Ours':\n",
        "  pred_model = our_model\n",
        "else:\n",
        "  pred_model = baseline_model\n",
        "\n",
        "## Perturb sentence\n",
        "robust_perturbations, robust_weights, robust_tokens, robust_indices = convert_sentence(sentence, '', pred_model)\n",
        "rand_perturbation = robust_perturbations[2][0]\n",
        "\n",
        "printmd('**Original sentence:**')\n",
        "html = visualise_changes(sentence, [(0,0)])\n",
        "display(HTML(html))\n",
        "print('\\n')\n",
        "\n",
        "change_type = 'Perturbed random token'\n",
        "\n",
        "if robust_indices[2] == -1:\n",
        "  html = visualise_changes(rand_perturbation, [(0,0)])\n",
        "  printmd('**' + change_type + ' (removed token) / model input:**')\n",
        "else:\n",
        "  html = visualise_changes(rand_perturbation, [(robust_indices[2],robust_indices[2]+1)])\n",
        "  printmd('**' + change_type + ' / model input:**')\n",
        "display(HTML(html))\n",
        "print(\"\\n\")\n",
        "\n",
        "\n",
        "# Create nlp object\n",
        "nlp = English()\n",
        "\n",
        "# Tokenize the random perturberd sentence\n",
        "tokens_predef = [token.text for token in nlp(rand_perturbation)]\n",
        "\n",
        "# Make prediction\n",
        "pred_result = pred_model.handle_batch([tokens_predef], True)\n",
        "\n",
        "# Get number of iterations until correct sentence / max iterations reached\n",
        "n_iterations = pred_result[1]\n",
        "\n",
        "# Counter for number of changes\n",
        "n_changes = 0\n",
        "\n",
        "# Array of input sentences after each iteration\n",
        "input_sentences = []\n",
        "\n",
        "# Create colors\n",
        "all_labels = []\n",
        "for i in range(n_iterations):\n",
        "  all_labels += pred_result[2][i][2][0]\n",
        "\n",
        "unique_labels = list(set([gector_label[label].upper() for label in all_labels]))\n",
        "\n",
        "n_labels = len(unique_labels)\n",
        "\n",
        "# Create background colors as rgb\n",
        "rgb_vals = (cm.get_cmap('hsv')(np.linspace(0.05,0.6,2*n_labels))*255).astype(int)\n",
        "\n",
        "color_options = {}\n",
        "\n",
        "# Add colors\n",
        "for i, label in enumerate(unique_labels):\n",
        "  #color_options[label] = \"rgba(\" + str(rgb_vals[i,0]) + \", \" + str(rgb_vals[i,1]) + \", \" + str(rgb_vals[i,2]) + \", \" + str(0.7) + \")\"\n",
        "  hex1 = '#%02x%02x%02x' % (rgb_vals[2*i,0], rgb_vals[2*i,1], rgb_vals[2*i,2])\n",
        "  hex2 = '#%02x%02x%02x' % (rgb_vals[2*i+1,0], rgb_vals[2*i+1,1], rgb_vals[2*i+1,2])\n",
        "  color_options[label] = \"linear-gradient(90deg, \" + hex1 + \", \" + hex2 + \")\"\n",
        "\n",
        "# For each iteration\n",
        "for i in range(n_iterations):\n",
        "  input_tokens = pred_result[2][i][0][0]\n",
        "  \n",
        "  predicted_tags = pred_result[2][i][2][0]\n",
        "\n",
        "  input_sentence = ''\n",
        "  n_tokens = len(input_tokens)\n",
        "\n",
        "  #for j, token in enumerate(input_tokens):\n",
        "  #  if j < (n_tokens-1):\n",
        "  #    input_sentence += token + ' '\n",
        "  #  else:\n",
        "  #    input_sentence += token\n",
        "  input_sentence = TreebankWordDetokenizer().detokenize(input_tokens)\n",
        "  \n",
        "  tag_indexes = []\n",
        "  label = []\n",
        "\n",
        "  if predicted_tags[0] == 0:\n",
        "    predicted_tags = predicted_tags[1:]\n",
        "  else:\n",
        "    input_sentence = '$ ' + input_sentence\n",
        "\n",
        "  for k, predicted_tag in enumerate(predicted_tags):\n",
        "    if not predicted_tag == 0:\n",
        "      tag_indexes.append((k, k+1))\n",
        "      label.append(gector_label[predicted_tag])\n",
        "\n",
        "\n",
        "  #if pred_result[2][i][3][0] > pred_model.min_error_probability:\n",
        "  printmd('**Iteration ' + str(i+1) + ':**')\n",
        "  html = visualise_changes(input_sentence, tag_indexes, label, color_options)\n",
        "  display(HTML(html))\n",
        "  print('\\n')\n",
        "  #else:\n",
        "printmd('**Model output:**')\n",
        "html = visualise_changes(TreebankWordDetokenizer().detokenize(pred_result[0][0]), [(0,0)])\n",
        "display(HTML(html))"
      ],
      "execution_count": 429,
      "outputs": [
        {
          "output_type": "display_data",
          "data": {
            "text/markdown": "**Original sentence:**",
            "text/plain": [
              "<IPython.core.display.Markdown object>"
            ]
          },
          "metadata": {
            "tags": []
          }
        },
        {
          "output_type": "display_data",
          "data": {
            "text/html": [
              "<div class=\"entities\" style=\"line-height: 2.5; direction: ltr\">Let i in.</div>"
            ],
            "text/plain": [
              "<IPython.core.display.HTML object>"
            ]
          },
          "metadata": {
            "tags": []
          }
        },
        {
          "output_type": "stream",
          "text": [
            "\n",
            "\n"
          ],
          "name": "stdout"
        },
        {
          "output_type": "display_data",
          "data": {
            "text/markdown": "**Perturbed random token / model input:**",
            "text/plain": [
              "<IPython.core.display.Markdown object>"
            ]
          },
          "metadata": {
            "tags": []
          }
        },
        {
          "output_type": "display_data",
          "data": {
            "text/html": [
              "<div class=\"entities\" style=\"line-height: 2.5; direction: ltr\">Let \n",
              "<mark class=\"entity\" style=\"background: linear-gradient(90deg, rgba(170,156,252,0.5), rgba(252,156,231,0.5)); padding: 0.45em 0.6em; margin: 0 0.25em; line-height: 1; border-radius: 0.35em; box-decoration-break: clone; -webkit-box-decoration-break: clone\">\n",
              "    myself\n",
              "    <span style=\"font-size: 0.8em; font-weight: bold; line-height: 1; border-radius: 0.35em; text-transform: uppercase; vertical-align: middle; margin-left: 0.5rem\">PERTURBED</span>\n",
              "</mark>\n",
              " in.</div>"
            ],
            "text/plain": [
              "<IPython.core.display.HTML object>"
            ]
          },
          "metadata": {
            "tags": []
          }
        },
        {
          "output_type": "stream",
          "text": [
            "\n",
            "\n"
          ],
          "name": "stdout"
        },
        {
          "output_type": "display_data",
          "data": {
            "text/markdown": "**Model output:**",
            "text/plain": [
              "<IPython.core.display.Markdown object>"
            ]
          },
          "metadata": {
            "tags": []
          }
        },
        {
          "output_type": "display_data",
          "data": {
            "text/html": [
              "<div class=\"entities\" style=\"line-height: 2.5; direction: ltr\">Let myself in.</div>"
            ],
            "text/plain": [
              "<IPython.core.display.HTML object>"
            ]
          },
          "metadata": {
            "tags": []
          }
        }
      ]
    }
  ]
}